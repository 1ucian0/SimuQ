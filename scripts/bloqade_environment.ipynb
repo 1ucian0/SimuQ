{
 "cells": [
  {
   "cell_type": "code",
   "execution_count": 1,
   "id": "f0b7a93f",
   "metadata": {},
   "outputs": [
    {
     "data": {
      "text/latex": [
       "$\\sum \\frac{2π \\cdot 0.863\\times 10^{6.0}}{|r_i-r_j|^6} n_i n_j+1\\cdot\\sum Ω(t)_i ⋅ (e^{ϕ(t)_i ⋅ im} |0⟩⟨1| + e^{-ϕ(t)_i ⋅ im} |1⟩⟨0|)-\\sum Δ_i ⋅ n_i$"
      ],
      "text/plain": [
       "\u001b[36mnqubits: 4\u001b[39m\n",
       "\u001b[31m\u001b[1m+\u001b[22m\u001b[39m\n",
       "├─ \u001b[33m\u001b[1m[+] \u001b[22m\u001b[39m∑ 2π ⋅ 8.627e5.0/|r_i-r_j|^6 n_i n_j\n",
       "├─ \u001b[33m\u001b[1m[+] \u001b[22m\u001b[39m∑ Ω(t)_i ⋅ (e^{ϕ(t)_i ⋅ im} |0⟩⟨1| + e^{-ϕ(t)_i ⋅ im} |1⟩⟨0|)\n",
       "└─ \u001b[33m\u001b[1m[-] \u001b[22m\u001b[39m∑ Δ_i ⋅ n_i\n"
      ]
     },
     "execution_count": 1,
     "metadata": {},
     "output_type": "execute_result"
    }
   ],
   "source": [
    "using Bloqade\n",
    "atoms = AtomList([(0,), (8.04469627686766,), (16.089556260235042,), (24.134252537038854,)]) \n",
    "omega = [piecewise_constant(clocks = [0, 1], values = [2.0]), piecewise_constant(clocks = [0, 1], values = [2.0]), piecewise_constant(clocks = [0, 1], values = [2.0]), piecewise_constant(clocks = [0, 1], values = [2.0]), ]\n",
    "phi = [piecewise_constant(clocks = [0, 1], values = [4.484834868738814e-27]), piecewise_constant(clocks = [0, 1], values = [1.3127985376038034e-18]), piecewise_constant(clocks = [0, 1], values = [3.486852882750537e-18]), piecewise_constant(clocks = [0, 1], values = [-6.807026282331149e-18]), ]\n",
    "delta = [piecewise_constant(clocks = [0, 1], values = [20.16870981279034]), piecewise_constant(clocks = [0, 1], values = [20.15254722868919]), piecewise_constant(clocks = [0, 1], values = [20.152547229176925]), piecewise_constant(clocks = [0, 1], values = [20.168709813285663]), ]\n",
    "h = rydberg_h(atoms; Δ = delta, Ω = omega, ϕ = phi)"
   ]
  },
  {
   "cell_type": "code",
   "execution_count": 2,
   "id": "391717ce",
   "metadata": {},
   "outputs": [
    {
     "data": {
      "text/plain": [
       "16×16 SparseMatrixCSC{ComplexF64, Int64} with 79 stored entries:\n",
       "⢞⣵⠑⢄⠑⢄⠀⠀\n",
       "⠑⢄⢟⣵⠀⠀⠑⢄\n",
       "⠑⢄⠀⠀⢟⣵⠑⢄\n",
       "⠀⠀⠑⢄⠑⢄⢟⣵"
      ]
     },
     "execution_count": 2,
     "metadata": {},
     "output_type": "execute_result"
    }
   ],
   "source": [
    "M = mat(h |> attime(0.5))"
   ]
  },
  {
   "cell_type": "code",
   "execution_count": 7,
   "id": "bb75276e",
   "metadata": {},
   "outputs": [],
   "source": [
    "using Printf\n",
    "Base.show(io::IO, f::Float64) = @printf(io, \"%.2f\", f)"
   ]
  },
  {
   "cell_type": "code",
   "execution_count": 8,
   "id": "4beb992f",
   "metadata": {
    "scrolled": true
   },
   "outputs": [
    {
     "name": "stdout",
     "output_type": "stream",
     "text": [
      "[5, 13, 9, 11, 10]"
     ]
    }
   ],
   "source": [
    "N = length(atoms)+1\n",
    "n = N - 1\n",
    "s0 = 0\n",
    "for i in 0:n-1\n",
    "    if i % 2 == 0\n",
    "      s0 += 1 << i\n",
    "    end\n",
    "end\n",
    "s = [s0]\n",
    "for i in 1:n\n",
    "    si = s[i] ⊻ 1<<(n-i)\n",
    "    push!(s, si)\n",
    "end\n",
    "print(s)"
   ]
  },
  {
   "cell_type": "code",
   "execution_count": 9,
   "id": "9874b5ad",
   "metadata": {},
   "outputs": [
    {
     "name": "stdout",
     "output_type": "stream",
     "text": [
      "-40.01 + 0.00im   1.00 - 0.00im   0.00 + 0.00im   0.00 + 0.00im   0.00 + 0.00im   \n",
      "1.00 + 0.00im   -40.15 + 0.00im   1.00 - 0.00im   0.00 + 0.00im   0.00 + 0.00im   \n",
      "0.00 + 0.00im   1.00 + 0.00im   -40.31 + 0.00im   1.00 + 0.00im   0.00 + 0.00im   \n",
      "0.00 + 0.00im   0.00 + 0.00im   1.00 - 0.00im   -40.15 + 0.00im   1.00 - 0.00im   \n",
      "0.00 + 0.00im   0.00 + 0.00im   0.00 + 0.00im   1.00 + 0.00im   -40.01 + 0.00im   \n"
     ]
    }
   ],
   "source": [
    "M = mat(h |> attime(0.5))\n",
    "for i in 1:N\n",
    "    for j in 1:N\n",
    "        print(M[s[i]+1, s[j]+1], \"   \")\n",
    "    end\n",
    "    println()\n",
    "end"
   ]
  },
  {
   "cell_type": "code",
   "execution_count": null,
   "id": "9d5a871c",
   "metadata": {},
   "outputs": [],
   "source": []
  }
 ],
 "metadata": {
  "kernelspec": {
   "display_name": "Julia 1.7.2",
   "language": "julia",
   "name": "julia-1.7"
  },
  "language_info": {
   "file_extension": ".jl",
   "mimetype": "application/julia",
   "name": "julia",
   "version": "1.7.2"
  }
 },
 "nbformat": 4,
 "nbformat_minor": 5
}
