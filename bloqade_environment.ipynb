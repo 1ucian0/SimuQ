{
 "cells": [
  {
   "cell_type": "code",
   "execution_count": 43,
   "id": "f0b7a93f",
   "metadata": {},
   "outputs": [
    {
     "data": {
      "text/latex": [
       "$\\sum \\frac{2π \\cdot 0.863\\times 10^{6.0}}{|r_i-r_j|^6} n_i n_j+1\\cdot\\sum Ω(t)_i ⋅ (e^{ϕ(t)_i ⋅ im} |0⟩⟨1| + e^{-ϕ(t)_i ⋅ im} |1⟩⟨0|)-\\sum Δ_i ⋅ n_i$"
      ],
      "text/plain": [
       "\u001b[36mnqubits: 11\u001b[39m\n",
       "\u001b[31m\u001b[1m+\u001b[22m\u001b[39m\n",
       "├─ \u001b[33m\u001b[1m[+] \u001b[22m\u001b[39m∑ 2π ⋅ 8.627e5.0/|r_i-r_j|^6 n_i n_j\n",
       "├─ \u001b[33m\u001b[1m[+] \u001b[22m\u001b[39m∑ Ω(t)_i ⋅ (e^{ϕ(t)_i ⋅ im} |0⟩⟨1| + e^{-ϕ(t)_i ⋅ im} |1⟩⟨0|)\n",
       "└─ \u001b[33m\u001b[1m[-] \u001b[22m\u001b[39m∑ Δ_i ⋅ n_i\n"
      ]
     },
     "execution_count": 43,
     "metadata": {},
     "output_type": "execute_result"
    }
   ],
   "source": [
    "using Bloqade\n",
    "atoms = AtomList([(0,), (8.044696298957803,), (16.089557144861388,), (24.13441883115442,), (32.17928053837977,), (40.22414224669847,), (48.26900395488809,), (56.31386566172607,), (64.35872734737463,), (72.40358819237592,), (80.44828449021638,)]) \n",
    "omega = [piecewise_constant(clocks = [0, 1], values = [2.0]), piecewise_constant(clocks = [0, 1], values = [2.0]), piecewise_constant(clocks = [0, 1], values = [2.0]), piecewise_constant(clocks = [0, 1], values = [2.0]), piecewise_constant(clocks = [0, 1], values = [2.0]), piecewise_constant(clocks = [0, 1], values = [2.0]), piecewise_constant(clocks = [0, 1], values = [2.0]), piecewise_constant(clocks = [0, 1], values = [2.0]), piecewise_constant(clocks = [0, 1], values = [2.0]), piecewise_constant(clocks = [0, 1], values = [2.0]), piecewise_constant(clocks = [0, 1], values = [2.0]), ]\n",
    "phi = [piecewise_constant(clocks = [0, 1], values = [-3.6107279585891375e-25]), piecewise_constant(clocks = [0, 1], values = [7.516414905005252e-24]), piecewise_constant(clocks = [0, 1], values = [-1.0113860435587854e-22]), piecewise_constant(clocks = [0, 1], values = [2.64054324357455e-24]), piecewise_constant(clocks = [0, 1], values = [2.6480865223136343e-25]), piecewise_constant(clocks = [0, 1], values = [-1.2709828479548276e-24]), piecewise_constant(clocks = [0, 1], values = [-2.3019674395461023e-25]), piecewise_constant(clocks = [0, 1], values = [-4.151810434703625e-27]), piecewise_constant(clocks = [0, 1], values = [-4.7823461454519024e-26]), piecewise_constant(clocks = [0, 1], values = [5.809159702121486e-26]), piecewise_constant(clocks = [0, 1], values = [6.226880296084648e-37]), ]\n",
    "delta = [piecewise_constant(clocks = [0, 1], values = [20.172155983203236]), piecewise_constant(clocks = [0, 1], values = [20.1696818541062]), piecewise_constant(clocks = [0, 1], values = [20.324650959901923]), piecewise_constant(clocks = [0, 1], values = [20.33831137820922]), piecewise_constant(clocks = [0, 1], values = [20.340666506381687]), piecewise_constant(clocks = [0, 1], values = [20.34109200804505]), piecewise_constant(clocks = [0, 1], values = [20.34066651029852]), piecewise_constant(clocks = [0, 1], values = [20.33831138603356]), piecewise_constant(clocks = [0, 1], values = [20.32465097161745]), piecewise_constant(clocks = [0, 1], values = [20.16968186926435]), piecewise_constant(clocks = [0, 1], values = [0.17215599166430134]), ]\n",
    "h = rydberg_h(atoms; Δ = delta, Ω = omega, ϕ = phi)"
   ]
  },
  {
   "cell_type": "code",
   "execution_count": 44,
   "id": "391717ce",
   "metadata": {},
   "outputs": [
    {
     "data": {
      "text/plain": [
       "2048×2048 SparseMatrixCSC{ComplexF64, Int64} with 24575 stored entries:\n",
       "⣿⣿⣾⢦⡀⠳⣄⠀⠀⠀⠳⣄⠀⠀⠀⠀⠀⠀⠀⠀⠳⣄⠀⠀⠀⠀⠀⠀⠀⠀⠀⠀⠀⠀⠀⠀⠀⠀⠀⠀\n",
       "⠺⣟⢻⣶⣿⡂⠈⠳⣄⠀⠀⠈⠳⣄⠀⠀⠀⠀⠀⠀⠀⠈⠳⣄⠀⠀⠀⠀⠀⠀⠀⠀⠀⠀⠀⠀⠀⠀⠀⠀\n",
       "⢤⡈⠻⠻⠿⣧⣤⣠⡈⠳⠄⠀⠀⠈⠳⣄⠀⠀⠀⠀⠀⠀⠀⠈⠳⣄⠀⠀⠀⠀⠀⠀⠀⠀⠀⠀⠀⠀⠀⠀\n",
       "⠀⠙⢦⡀⠀⣻⣿⣿⣙⣦⡀⠀⠀⠀⠀⠈⠳⣄⠀⠀⠀⠀⠀⠀⠀⠈⠳⣄⠀⠀⠀⠀⠀⠀⠀⠀⠀⠀⠀⠀\n",
       "⠀⠀⠀⠙⢦⡈⠳⣼⣿⣿⡆⠀⠀⠀⠀⠀⠀⠈⠳⣄⠀⠀⠀⠀⠀⠀⠀⠈⠳⣄⠀⠀⠀⠀⠀⠀⠀⠀⠀⠀\n",
       "⠙⢦⡀⠀⠀⠁⠀⠈⠈⠉⣿⣿⣾⢦⡀⠳⣄⠀⠀⠈⠀⠀⠀⠀⠀⠀⠀⠀⠀⠈⠳⣄⠀⠀⠀⠀⠀⠀⠀⠀\n",
       "⠀⠀⠙⢦⡀⠀⠀⠀⠀⠀⠺⣟⢻⣶⣿⡂⠈⠳⣄⠀⠀⠀⠀⠀⠀⠀⠀⠀⠀⠀⠀⠈⠳⣄⠀⠀⠀⠀⠀⠀\n",
       "⠀⠀⠀⠀⠙⢦⡀⠀⠀⠀⢤⡈⠻⠻⠿⣧⣤⣠⡈⠳⠀⠀⠀⠀⠀⠀⠀⠀⠀⠀⠀⠀⠀⠈⠳⣄⠀⠀⠀⠀\n",
       "⠀⠀⠀⠀⠀⠀⠙⢦⡀⠀⠀⠙⢦⡀⠀⣻⣿⣿⣙⣦⠀⠀⠀⠀⠀⠀⠀⠀⠀⠀⠀⠀⠀⠀⠀⠈⠳⣄⠀⠀\n",
       "⠀⠀⠀⠀⠀⠀⠀⠀⠙⢦⡀⠀⠀⠙⢦⡈⠳⣼⣿⣿⠀⠀⠀⠀⠀⠀⠀⠀⠀⠀⠀⠀⠀⠀⠀⠀⠀⠈⠳⣄\n",
       "⠙⢦⡀⠀⠀⠀⠀⠀⠀⠀⠀⠀⠀⠀⠀⠀⠀⠀⠀⠀⣿⣿⡟⢦⡈⠳⣄⠀⠀⠈⠳⣄⠀⠀⠀⠀⠀⠀⠀⠀\n",
       "⠀⠀⠙⢦⡀⠀⠀⠀⠀⠀⠀⠀⠀⠀⠀⠀⠀⠀⠀⠀⠻⣍⣿⣿⣯⠀⠈⠳⣄⠀⠀⠈⠳⣄⠀⠀⠀⠀⠀⠀\n",
       "⠀⠀⠀⠀⠙⢦⡀⠀⠀⠀⠀⠀⠀⠀⠀⠀⠀⠀⠀⠀⢦⡈⠋⠛⢻⣶⣦⣦⡈⠓⠀⠀⠀⠈⠳⣄⠀⠀⠀⠀\n",
       "⠀⠀⠀⠀⠀⠀⠙⢦⡀⠀⠀⠀⠀⠀⠀⠀⠀⠀⠀⠀⠀⠙⢦⡀⠨⣿⠿⣧⣽⡦⠀⠀⠀⠀⠀⠈⠳⣄⠀⠀\n",
       "⠀⠀⠀⠀⠀⠀⠀⠀⠙⢦⡀⠀⠀⠀⠀⠀⠀⠀⠀⠀⡀⠀⠀⠙⢦⠈⠳⡿⣿⣿⣀⡀⡀⠀⢀⠀⠀⠈⠳⣄\n",
       "⠀⠀⠀⠀⠀⠀⠀⠀⠀⠀⠙⢦⡀⠀⠀⠀⠀⠀⠀⠀⠙⢦⡀⠀⠀⠀⠀⠀⠀⠸⣿⣿⡟⢦⡈⠳⣄⠀⠀⠀\n",
       "⠀⠀⠀⠀⠀⠀⠀⠀⠀⠀⠀⠀⠙⢦⡀⠀⠀⠀⠀⠀⠀⠀⠙⢦⡀⠀⠀⠀⠀⠈⠻⣍⣿⣿⣯⠀⠈⠳⣄⠀\n",
       "⠀⠀⠀⠀⠀⠀⠀⠀⠀⠀⠀⠀⠀⠀⠙⢦⡀⠀⠀⠀⠀⠀⠀⠀⠙⢦⡀⠀⠀⠐⢦⡈⠋⠛⢻⣶⣦⣦⡈⠓\n",
       "⠀⠀⠀⠀⠀⠀⠀⠀⠀⠀⠀⠀⠀⠀⠀⠀⠙⢦⡀⠀⠀⠀⠀⠀⠀⠀⠙⢦⡀⠀⠀⠙⢦⡀⠨⣿⠿⣧⣽⡦\n",
       "⠀⠀⠀⠀⠀⠀⠀⠀⠀⠀⠀⠀⠀⠀⠀⠀⠀⠀⠙⢦⠀⠀⠀⠀⠀⠀⠀⠀⠙⢦⠀⠀⠀⠙⢦⠈⠳⡿⣿⣿"
      ]
     },
     "execution_count": 44,
     "metadata": {},
     "output_type": "execute_result"
    }
   ],
   "source": [
    "M = mat(h |> attime(0.5))"
   ]
  },
  {
   "cell_type": "code",
   "execution_count": 46,
   "id": "4beb992f",
   "metadata": {
    "scrolled": true
   },
   "outputs": [
    {
     "name": "stdout",
     "output_type": "stream",
     "text": [
      "[1365, 341, 853, 597, 725, 661, 693, 677, 685, 681, 683, 682]"
     ]
    }
   ],
   "source": [
    "N = length(atoms)+1\n",
    "n = N - 1\n",
    "s0 = 0\n",
    "for i in 0:n-1\n",
    "    if i % 2 == 0\n",
    "      s0 += 1 << i\n",
    "    end\n",
    "end\n",
    "s = [s0]\n",
    "for i in 1:n\n",
    "    si = s[i] ⊻ 1<<(n-i)\n",
    "    push!(s, si)\n",
    "end\n",
    "print(s)"
   ]
  },
  {
   "cell_type": "code",
   "execution_count": 47,
   "id": "9874b5ad",
   "metadata": {},
   "outputs": [
    {
     "name": "stdout",
     "output_type": "stream",
     "text": [
      "-100.09180758390055 + 0.0im   1.0 - 6.226880296084648e-37im   0.0 + 0.0im   0.0 + 0.0im   0.0 + 0.0im   0.0 + 0.0im   0.0 + 0.0im   0.0 + 0.0im   0.0 + 0.0im   0.0 + 0.0im   0.0 + 0.0im   0.0 + 0.0im   \n",
      "1.0 + 6.226880296084648e-37im   -100.23750068872373 + 0.0im   1.0 + 5.809159702121486e-26im   0.0 + 0.0im   0.0 + 0.0im   0.0 + 0.0im   0.0 + 0.0im   0.0 + 0.0im   0.0 + 0.0im   0.0 + 0.0im   0.0 + 0.0im   0.0 + 0.0im   \n",
      "0.0 + 0.0im   1.0 - 5.809159702121486e-26im   -100.38317485088805 + 0.0im   1.0 + 4.7823461454519024e-26im   0.0 + 0.0im   0.0 + 0.0im   0.0 + 0.0im   0.0 + 0.0im   0.0 + 0.0im   0.0 + 0.0im   0.0 + 0.0im   0.0 + 0.0im   \n",
      "0.0 + 0.0im   0.0 + 0.0im   1.0 - 4.7823461454519024e-26im   -100.37142579337417 + 0.0im   1.0 - 4.151810434703625e-27im   0.0 + 0.0im   0.0 + 0.0im   0.0 + 0.0im   0.0 + 0.0im   0.0 + 0.0im   0.0 + 0.0im   0.0 + 0.0im   \n",
      "0.0 + 0.0im   0.0 + 0.0im   0.0 + 0.0im   1.0 + 4.151810434703625e-27im   -100.37335673269104 + 0.0im   1.0 + 2.3019674395461023e-25im   0.0 + 0.0im   0.0 + 0.0im   0.0 + 0.0im   0.0 + 0.0im   0.0 + 0.0im   0.0 + 0.0im   \n",
      "0.0 + 0.0im   0.0 + 0.0im   0.0 + 0.0im   0.0 + 0.0im   1.0 - 2.3019674395461023e-25im   -100.37293111249376 + 0.0im   1.0 - 1.2709828479548276e-24im   0.0 + 0.0im   0.0 + 0.0im   0.0 + 0.0im   0.0 + 0.0im   0.0 + 0.0im   \n",
      "0.0 + 0.0im   0.0 + 0.0im   0.0 + 0.0im   0.0 + 0.0im   0.0 + 0.0im   1.0 + 1.2709828479548276e-24im   -100.37293111342947 + 0.0im   1.0 - 2.6480865223136343e-25im   0.0 + 0.0im   0.0 + 0.0im   0.0 + 0.0im   0.0 + 0.0im   \n",
      "0.0 + 0.0im   0.0 + 0.0im   0.0 + 0.0im   0.0 + 0.0im   0.0 + 0.0im   0.0 + 0.0im   1.0 + 2.6480865223136343e-25im   -100.37335673549872 + 0.0im   1.0 + 2.64054324357455e-24im   0.0 + 0.0im   0.0 + 0.0im   0.0 + 0.0im   \n",
      "0.0 + 0.0im   0.0 + 0.0im   0.0 + 0.0im   0.0 + 0.0im   0.0 + 0.0im   0.0 + 0.0im   0.0 + 0.0im   1.0 - 2.64054324357455e-24im   -100.37142579804676 + 0.0im   1.0 + 1.0113860435587854e-22im   0.0 + 0.0im   0.0 + 0.0im   \n",
      "0.0 + 0.0im   0.0 + 0.0im   0.0 + 0.0im   0.0 + 0.0im   0.0 + 0.0im   0.0 + 0.0im   0.0 + 0.0im   0.0 + 0.0im   1.0 - 1.0113860435587854e-22im   -100.38317485742182 + 0.0im   1.0 + 7.516414905005252e-24im   0.0 + 0.0im   \n",
      "0.0 + 0.0im   0.0 + 0.0im   0.0 + 0.0im   0.0 + 0.0im   0.0 + 0.0im   0.0 + 0.0im   0.0 + 0.0im   0.0 + 0.0im   0.0 + 0.0im   1.0 - 7.516414905005252e-24im   -100.23750069694651 + 0.0im   1.0 + 3.6107279585891375e-25im   \n",
      "0.0 + 0.0im   0.0 + 0.0im   0.0 + 0.0im   0.0 + 0.0im   0.0 + 0.0im   0.0 + 0.0im   0.0 + 0.0im   0.0 + 0.0im   0.0 + 0.0im   0.0 + 0.0im   1.0 - 3.6107279585891375e-25im   -100.09180758390055 + 0.0im   \n"
     ]
    }
   ],
   "source": [
    "for i in 1:N\n",
    "    for j in 1:N\n",
    "        print(M[s[i]+1, s[j]+1], \"   \")\n",
    "    end\n",
    "    println()\n",
    "end"
   ]
  },
  {
   "cell_type": "code",
   "execution_count": null,
   "id": "9d5a871c",
   "metadata": {},
   "outputs": [],
   "source": []
  }
 ],
 "metadata": {
  "kernelspec": {
   "display_name": "Julia 1.7.2",
   "language": "julia",
   "name": "julia-1.7"
  },
  "language_info": {
   "file_extension": ".jl",
   "mimetype": "application/julia",
   "name": "julia",
   "version": "1.7.2"
  }
 },
 "nbformat": 4,
 "nbformat_minor": 5
}
