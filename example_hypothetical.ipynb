{
 "cells": [
  {
   "cell_type": "code",
   "execution_count": 1,
   "id": "3ad8f4d9",
   "metadata": {
    "scrolled": false
   },
   "outputs": [],
   "source": [
    "from qiskit.providers.fake_provider import FakeGuadalupe\n",
    "\n",
    "from aais.ibm_hypothetical import get_mach\n",
    "from simuq.solver import generate_as\n",
    "from systems.qaoa import qs\n",
    "\n",
    "backend=FakeGuadalupe()\n",
    "mach=get_mach(backend)"
   ]
  },
  {
   "cell_type": "code",
   "execution_count": 2,
   "id": "6e4107a1",
   "metadata": {},
   "outputs": [],
   "source": [
    "assembly=generate_as(qs, mach, 1)\n",
    "with open(\"qaoa.as\",\"w\") as f:\n",
    "    f.write(str(assembly[1])+\"\\n\")\n",
    "    for item in assembly[2]:\n",
    "        f.write(str(item)+\"\\n\")\n",
    "    for item in assembly[3]:\n",
    "        f.write(str(item)+\"\\n\")"
   ]
  },
  {
   "cell_type": "code",
   "execution_count": 3,
   "id": "877abbc3",
   "metadata": {
    "scrolled": false
   },
   "outputs": [],
   "source": [
    "from Analog_Hamiltonian_Simulation.Analog_Hamiltonian_Simulator.IBM_Machine_hypothetical import (\n",
    "    IBM_Machine,\n",
    ")\n",
    "from Analog_Hamiltonian_Simulation.Analog_Hamiltonian_Simulator.Program import Program\n",
    "\n",
    "machine = IBM_Machine(backend)\n",
    "program = Program(machine)\n",
    "program.init_from_file(\"qaoa.as\")\n",
    "\n",
    "#Schedule the instructions greedily using the sorted DAG\n",
    "program.schedule()\n",
    "\n",
    "# program.concrete_schedule.draw()\n",
    "# program.concrete_schedule.simulate()\n",
    "\n",
    "# generate the pulse schedule\n",
    "program.transpile()\n",
    "# program.pulse_schedule.draw()\n",
    "# program.pulse_schedule.generate_external_schedule()\n",
    "# program.pulse_schedule.draw_external_schedule()"
   ]
  },
  {
   "cell_type": "code",
   "execution_count": 16,
   "id": "2c123bed",
   "metadata": {},
   "outputs": [
    {
     "data": {
      "text/plain": [
       "(17984,)"
      ]
     },
     "execution_count": 16,
     "metadata": {},
     "output_type": "execute_result"
    }
   ],
   "source": [
    "import numpy as np\n",
    "np.array(program.pulse_schedule.waveforms[15][1]).shape\n"
   ]
  }
 ],
 "metadata": {
  "kernelspec": {
   "display_name": "Python 3.10.4 ('lpy')",
   "language": "python",
   "name": "python3"
  },
  "language_info": {
   "codemirror_mode": {
    "name": "ipython",
    "version": 3
   },
   "file_extension": ".py",
   "mimetype": "text/x-python",
   "name": "python",
   "nbconvert_exporter": "python",
   "pygments_lexer": "ipython3",
   "version": "3.10.6"
  },
  "vscode": {
   "interpreter": {
    "hash": "c55b2bcd4168ec9efe0cf1793da754e09e29c956f6eb3009968be236017edfb0"
   }
  }
 },
 "nbformat": 4,
 "nbformat_minor": 5
}
