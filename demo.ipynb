{
 "cells": [
  {
   "cell_type": "code",
   "execution_count": 4,
   "id": "42e26405",
   "metadata": {},
   "outputs": [
    {
     "name": "stdout",
     "output_type": "stream",
     "text": [
      "The autoreload extension is already loaded. To reload it, use:\n",
      "  %reload_ext autoreload\n"
     ]
    }
   ],
   "source": [
    "%load_ext autoreload\n",
    "%autoreload 2"
   ]
  },
  {
   "cell_type": "code",
   "execution_count": 5,
   "id": "a7feecc8",
   "metadata": {},
   "outputs": [],
   "source": [
    "from simuq.solver import generate_as\n",
    "from systems.qwalk_chain import GenQS\n",
    "from aais.rydberg1d import GenMach\n",
    "from backends.bloqade_rydberg import transpile"
   ]
  },
  {
   "cell_type": "code",
   "execution_count": 6,
   "id": "5cd17f14",
   "metadata": {},
   "outputs": [],
   "source": [
    "Trot = 1\n",
    "tol = 0.5\n",
    "\n",
    "N = 12\n",
    "n = N - 1\n",
    "qs = GenQS(N, lamb = 5, T=1)\n",
    "mach = GenMach(n)"
   ]
  },
  {
   "cell_type": "code",
   "execution_count": 7,
   "id": "08a60051",
   "metadata": {},
   "outputs": [
    {
     "name": "stdout",
     "output_type": "stream",
     "text": [
      "using Bloqade\n",
      "atoms = AtomList([(0,), (8.044696298957803,), (16.089557144861388,), (24.13441883115442,), (32.17928053837977,), (40.22414224669847,), (48.26900395488809,), (56.31386566172607,), (64.35872734737463,), (72.40358819237592,), (80.44828449021638,)]) \n",
      "omega = [piecewise_constant(clocks = [0, 1], values = [2.0]), piecewise_constant(clocks = [0, 1], values = [2.0]), piecewise_constant(clocks = [0, 1], values = [2.0]), piecewise_constant(clocks = [0, 1], values = [2.0]), piecewise_constant(clocks = [0, 1], values = [2.0]), piecewise_constant(clocks = [0, 1], values = [2.0]), piecewise_constant(clocks = [0, 1], values = [2.0]), piecewise_constant(clocks = [0, 1], values = [2.0]), piecewise_constant(clocks = [0, 1], values = [2.0]), piecewise_constant(clocks = [0, 1], values = [2.0]), piecewise_constant(clocks = [0, 1], values = [2.0]), ]\n",
      "phi = [piecewise_constant(clocks = [0, 1], values = [-3.6107279585891375e-25]), piecewise_constant(clocks = [0, 1], values = [7.516414905005252e-24]), piecewise_constant(clocks = [0, 1], values = [-1.0113860435587854e-22]), piecewise_constant(clocks = [0, 1], values = [2.64054324357455e-24]), piecewise_constant(clocks = [0, 1], values = [2.6480865223136343e-25]), piecewise_constant(clocks = [0, 1], values = [-1.2709828479548276e-24]), piecewise_constant(clocks = [0, 1], values = [-2.3019674395461023e-25]), piecewise_constant(clocks = [0, 1], values = [-4.151810434703625e-27]), piecewise_constant(clocks = [0, 1], values = [-4.7823461454519024e-26]), piecewise_constant(clocks = [0, 1], values = [5.809159702121486e-26]), piecewise_constant(clocks = [0, 1], values = [6.226880296084648e-37]), ]\n",
      "delta = [piecewise_constant(clocks = [0, 1], values = [20.172155983203236]), piecewise_constant(clocks = [0, 1], values = [20.1696818541062]), piecewise_constant(clocks = [0, 1], values = [20.324650959901923]), piecewise_constant(clocks = [0, 1], values = [20.33831137820922]), piecewise_constant(clocks = [0, 1], values = [20.340666506381687]), piecewise_constant(clocks = [0, 1], values = [20.34109200804505]), piecewise_constant(clocks = [0, 1], values = [20.34066651029852]), piecewise_constant(clocks = [0, 1], values = [20.33831138603356]), piecewise_constant(clocks = [0, 1], values = [20.32465097161745]), piecewise_constant(clocks = [0, 1], values = [20.16968186926435]), piecewise_constant(clocks = [0, 1], values = [0.17215599166430134]), ]\n",
      "h = rydberg_h(atoms; Δ = delta, Ω = omega, ϕ = phi)\n"
     ]
    }
   ],
   "source": [
    "code = transpile(*generate_as(qs, mach, Trot, tol))\n",
    "print(code)"
   ]
  },
  {
   "cell_type": "code",
   "execution_count": 8,
   "id": "99df65de",
   "metadata": {},
   "outputs": [
    {
     "data": {
      "text/plain": [
       "[(['Z', 'Z', '', '', '', '', '', '', '', '', ''], 5),\n",
       " (['', 'Z', 'Z', '', '', '', '', '', '', '', ''], 5),\n",
       " (['', '', 'Z', 'Z', '', '', '', '', '', '', ''], 5),\n",
       " (['', '', '', 'Z', 'Z', '', '', '', '', '', ''], 5),\n",
       " (['', '', '', '', 'Z', 'Z', '', '', '', '', ''], 5),\n",
       " (['', '', '', '', '', 'Z', 'Z', '', '', '', ''], 5),\n",
       " (['', '', '', '', '', '', 'Z', 'Z', '', '', ''], 5),\n",
       " (['', '', '', '', '', '', '', 'Z', 'Z', '', ''], 5),\n",
       " (['', '', '', '', '', '', '', '', 'Z', 'Z', ''], 5),\n",
       " (['', '', '', '', '', '', '', '', '', 'Z', 'Z'], 5),\n",
       " (['Z', '', '', '', '', '', '', '', '', '', ''], 5),\n",
       " (['', '', '', '', '', '', '', '', '', '', 'Z'], -5),\n",
       " (['X', '', '', '', '', '', '', '', '', '', ''], 1),\n",
       " (['', 'X', '', '', '', '', '', '', '', '', ''], 1),\n",
       " (['', '', 'X', '', '', '', '', '', '', '', ''], 1),\n",
       " (['', '', '', 'X', '', '', '', '', '', '', ''], 1),\n",
       " (['', '', '', '', 'X', '', '', '', '', '', ''], 1),\n",
       " (['', '', '', '', '', 'X', '', '', '', '', ''], 1),\n",
       " (['', '', '', '', '', '', 'X', '', '', '', ''], 1),\n",
       " (['', '', '', '', '', '', '', 'X', '', '', ''], 1),\n",
       " (['', '', '', '', '', '', '', '', 'X', '', ''], 1),\n",
       " (['', '', '', '', '', '', '', '', '', 'X', ''], 1),\n",
       " (['', '', '', '', '', '', '', '', '', '', 'X'], 1)]"
      ]
     },
     "execution_count": 8,
     "metadata": {},
     "output_type": "execute_result"
    }
   ],
   "source": [
    "qs.evos[0][0].ham"
   ]
  },
  {
   "cell_type": "code",
   "execution_count": 24,
   "id": "2b0c5e7b",
   "metadata": {},
   "outputs": [
    {
     "data": {
      "text/plain": [
       "-5.08435489473499"
      ]
     },
     "execution_count": 24,
     "metadata": {},
     "output_type": "execute_result"
    }
   ],
   "source": [
    "mach.sys_ham.ham[7][1].exp_eval([ 8.04469628, 16.08955626, 24.13425254], [])"
   ]
  },
  {
   "cell_type": "code",
   "execution_count": 16,
   "id": "bffec2d4",
   "metadata": {},
   "outputs": [
    {
     "data": {
      "text/plain": [
       "[(['', '', '', ''], <simuq.expression.Expression at 0x7f66be7aec40>),\n",
       " (['Z', '', '', ''], <simuq.expression.Expression at 0x7f66be7ab100>),\n",
       " (['', 'Z', '', ''], <simuq.expression.Expression at 0x7f66be7abe80>),\n",
       " (['Z', 'Z', '', ''], <simuq.expression.Expression at 0x7f66be7a3a60>),\n",
       " (['', '', 'Z', ''], <simuq.expression.Expression at 0x7f66be7aed00>),\n",
       " (['Z', '', 'Z', ''], <simuq.expression.Expression at 0x7f66be7a6550>),\n",
       " (['', 'Z', 'Z', ''], <simuq.expression.Expression at 0x7f66be7a9280>),\n",
       " (['', '', '', 'Z'], <simuq.expression.Expression at 0x7f66be7aedc0>),\n",
       " (['Z', '', '', 'Z'], <simuq.expression.Expression at 0x7f66be7a9f10>),\n",
       " (['', 'Z', '', 'Z'], <simuq.expression.Expression at 0x7f66be7abcd0>),\n",
       " (['', '', 'Z', 'Z'], <simuq.expression.Expression at 0x7f66be7aeb50>)]"
      ]
     },
     "execution_count": 16,
     "metadata": {},
     "output_type": "execute_result"
    }
   ],
   "source": [
    "mach.sys_ham.ham"
   ]
  },
  {
   "cell_type": "code",
   "execution_count": null,
   "id": "82a0a418",
   "metadata": {},
   "outputs": [],
   "source": []
  }
 ],
 "metadata": {
  "kernelspec": {
   "display_name": "Python 3 (ipykernel)",
   "language": "python",
   "name": "python3"
  },
  "language_info": {
   "codemirror_mode": {
    "name": "ipython",
    "version": 3
   },
   "file_extension": ".py",
   "mimetype": "text/x-python",
   "name": "python",
   "nbconvert_exporter": "python",
   "pygments_lexer": "ipython3",
   "version": "3.9.15"
  }
 },
 "nbformat": 4,
 "nbformat_minor": 5
}
