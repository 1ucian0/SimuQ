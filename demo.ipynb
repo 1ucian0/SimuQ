{
 "cells": [
  {
   "cell_type": "code",
   "execution_count": 6,
   "id": "42e26405",
   "metadata": {},
   "outputs": [
    {
     "name": "stdout",
     "output_type": "stream",
     "text": [
      "The autoreload extension is already loaded. To reload it, use:\n",
      "  %reload_ext autoreload\n"
     ]
    }
   ],
   "source": [
    "%load_ext autoreload\n",
    "%autoreload 2"
   ]
  },
  {
   "cell_type": "code",
   "execution_count": 7,
   "id": "a7feecc8",
   "metadata": {},
   "outputs": [],
   "source": [
    "from simuq.solver import generate_as\n",
    "from systems.qwalk_chain import GenQS\n",
    "#from aais.rydberg1d import GenMach\n",
    "#from backends.bloqade_rydberg import transpile\n",
    "from aais.iontrap import GenMach\n",
    "from backends.qiskit_iontrap import transpile"
   ]
  },
  {
   "cell_type": "code",
   "execution_count": 8,
   "id": "5cd17f14",
   "metadata": {},
   "outputs": [],
   "source": [
    "N = 20\n",
    "n = N - 1\n",
    "qs = GenQS(N, lamb = 5, T=1)\n",
    "mach = GenMach(n)"
   ]
  },
  {
   "cell_type": "code",
   "execution_count": 9,
   "id": "08a60051",
   "metadata": {},
   "outputs": [
    {
     "name": "stdout",
     "output_type": "stream",
     "text": [
      "7.572662830352783\n"
     ]
    }
   ],
   "source": [
    "Trot = 1\n",
    "tol = 0.5\n",
    "\n",
    "import time\n",
    "start_time = time.time()\n",
    "code = transpile(n, *generate_as(qs, mach, Trot, solver = 'dreal', solver_tol = tol))\n",
    "end_time = time.time()\n",
    "\n",
    "print(end_time - start_time)"
   ]
  },
  {
   "cell_type": "code",
   "execution_count": 10,
   "id": "5e49aea9",
   "metadata": {},
   "outputs": [
    {
     "name": "stdout",
     "output_type": "stream",
     "text": [
      "34.930031061172485\n"
     ]
    }
   ],
   "source": [
    "Trot = 1\n",
    "tol = 0.5\n",
    "\n",
    "import time\n",
    "start_time = time.time()\n",
    "code = transpile(n, *generate_as(qs, mach, Trot, solver = 'least_squares', solver_tol = tol))\n",
    "end_time = time.time()\n",
    "\n",
    "print(end_time - start_time)"
   ]
  },
  {
   "cell_type": "code",
   "execution_count": 13,
   "id": "99df65de",
   "metadata": {},
   "outputs": [],
   "source": [
    "from simuq.solver import generate_as\n",
    "from systems.qwalk_chain import GenQS\n",
    "from aais.heis_aais import GenMach\n",
    "from backends.qiskit_iontrap import transpile"
   ]
  },
  {
   "cell_type": "code",
   "execution_count": 14,
   "id": "2b0c5e7b",
   "metadata": {},
   "outputs": [],
   "source": [
    "N = 12\n",
    "n = N - 1\n",
    "qs = GenQS(N, lamb = 5, T=1)\n",
    "mach = GenMach(n)"
   ]
  },
  {
   "cell_type": "code",
   "execution_count": 16,
   "id": "bffec2d4",
   "metadata": {},
   "outputs": [
    {
     "name": "stdout",
     "output_type": "stream",
     "text": [
      "from braket.circuits import Circuit\n",
      "circ = Circuit().rx(10, 0.400000004518022).zz(0, 1, 2.0000000212670277).zz(2, 3, 2.000000022070436).zz(4, 5, 2.0000000211755684).zz(6, 7, 2.000000021570466).zz(8, 9, 2.0000000212401945).rx(0, 0.40000000455769885).zz(1, 2, 2.0000000224900876).zz(3, 4, 2.0000000212058473).zz(5, 6, 2.0000000227317862).zz(7, 8, 2.000000020848135).zz(9, 10, 2.000000020763615).rz(0, 2.000000022507547).rx(1, 0.4000000027750792).rx(2, 0.40000000529117563).rx(3, 0.40000000417619763).rx(4, 0.40000000877040504).rx(5, 0.40000000745317604).rx(6, 0.4000000052992668).rx(7, 0.40000000513940315).rx(8, 0.4000000046496157).rx(9, 0.40000000410291997).rz(10, -2.0000000194927474).rx(10, 0.400000004518022).zz(0, 1, 2.0000000212670277).zz(2, 3, 2.000000022070436).zz(4, 5, 2.0000000211755684).zz(6, 7, 2.000000021570466).zz(8, 9, 2.0000000212401945).rx(0, 0.40000000455769885).zz(1, 2, 2.0000000224900876).zz(3, 4, 2.0000000212058473).zz(5, 6, 2.0000000227317862).zz(7, 8, 2.000000020848135).zz(9, 10, 2.000000020763615).rz(0, 2.000000022507547).rx(1, 0.4000000027750792).rx(2, 0.40000000529117563).rx(3, 0.40000000417619763).rx(4, 0.40000000877040504).rx(5, 0.40000000745317604).rx(6, 0.4000000052992668).rx(7, 0.40000000513940315).rx(8, 0.4000000046496157).rx(9, 0.40000000410291997).rz(10, -2.0000000194927474).rx(10, 0.400000004518022).zz(0, 1, 2.0000000212670277).zz(2, 3, 2.000000022070436).zz(4, 5, 2.0000000211755684).zz(6, 7, 2.000000021570466).zz(8, 9, 2.0000000212401945).rx(0, 0.40000000455769885).zz(1, 2, 2.0000000224900876).zz(3, 4, 2.0000000212058473).zz(5, 6, 2.0000000227317862).zz(7, 8, 2.000000020848135).zz(9, 10, 2.000000020763615).rz(0, 2.000000022507547).rx(1, 0.4000000027750792).rx(2, 0.40000000529117563).rx(3, 0.40000000417619763).rx(4, 0.40000000877040504).rx(5, 0.40000000745317604).rx(6, 0.4000000052992668).rx(7, 0.40000000513940315).rx(8, 0.4000000046496157).rx(9, 0.40000000410291997).rz(10, -2.0000000194927474).rx(10, 0.400000004518022).zz(0, 1, 2.0000000212670277).zz(2, 3, 2.000000022070436).zz(4, 5, 2.0000000211755684).zz(6, 7, 2.000000021570466).zz(8, 9, 2.0000000212401945).rx(0, 0.40000000455769885).zz(1, 2, 2.0000000224900876).zz(3, 4, 2.0000000212058473).zz(5, 6, 2.0000000227317862).zz(7, 8, 2.000000020848135).zz(9, 10, 2.000000020763615).rz(0, 2.000000022507547).rx(1, 0.4000000027750792).rx(2, 0.40000000529117563).rx(3, 0.40000000417619763).rx(4, 0.40000000877040504).rx(5, 0.40000000745317604).rx(6, 0.4000000052992668).rx(7, 0.40000000513940315).rx(8, 0.4000000046496157).rx(9, 0.40000000410291997).rz(10, -2.0000000194927474).rx(10, 0.400000004518022).zz(0, 1, 2.0000000212670277).zz(2, 3, 2.000000022070436).zz(4, 5, 2.0000000211755684).zz(6, 7, 2.000000021570466).zz(8, 9, 2.0000000212401945).rx(0, 0.40000000455769885).zz(1, 2, 2.0000000224900876).zz(3, 4, 2.0000000212058473).zz(5, 6, 2.0000000227317862).zz(7, 8, 2.000000020848135).zz(9, 10, 2.000000020763615).rz(0, 2.000000022507547).rx(1, 0.4000000027750792).rx(2, 0.40000000529117563).rx(3, 0.40000000417619763).rx(4, 0.40000000877040504).rx(5, 0.40000000745317604).rx(6, 0.4000000052992668).rx(7, 0.40000000513940315).rx(8, 0.4000000046496157).rx(9, 0.40000000410291997).rz(10, -2.0000000194927474)\n"
     ]
    }
   ],
   "source": [
    "Trot = 5\n",
    "tol = 0.5\n",
    "\n",
    "circ, bk_c = transpile(n, *generate_as(qs, mach, Trot, tol))\n",
    "print(bk_c)"
   ]
  },
  {
   "cell_type": "code",
   "execution_count": null,
   "id": "82a0a418",
   "metadata": {},
   "outputs": [],
   "source": []
  }
 ],
 "metadata": {
  "kernelspec": {
   "display_name": "Python 3 (ipykernel)",
   "language": "python",
   "name": "python3"
  },
  "language_info": {
   "codemirror_mode": {
    "name": "ipython",
    "version": 3
   },
   "file_extension": ".py",
   "mimetype": "text/x-python",
   "name": "python",
   "nbconvert_exporter": "python",
   "pygments_lexer": "ipython3",
   "version": "3.9.15"
  }
 },
 "nbformat": 4,
 "nbformat_minor": 5
}
