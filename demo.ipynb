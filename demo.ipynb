{
 "cells": [
  {
   "cell_type": "code",
   "execution_count": 1,
   "id": "42e26405",
   "metadata": {},
   "outputs": [],
   "source": [
    "%load_ext autoreload\n",
    "%autoreload 2"
   ]
  },
  {
   "cell_type": "code",
   "execution_count": 11,
   "id": "a7feecc8",
   "metadata": {},
   "outputs": [],
   "source": [
    "from simuq.solver import generate_as\n",
    "from systems.qwalk_chain import GenQS\n",
    "from aais.rydberg1d import GenMach\n",
    "from backends.bloqade_rydberg import transpile\n",
    "#from aais.iontrap import GenMach\n",
    "#from backends.qiskit_iontrap import transpile"
   ]
  },
  {
   "cell_type": "code",
   "execution_count": 12,
   "id": "5cd17f14",
   "metadata": {},
   "outputs": [],
   "source": [
    "N = 4\n",
    "n = N - 1\n",
    "qs = GenQS(N, lamb = 7, T=1)\n",
    "mach = GenMach(n)"
   ]
  },
  {
   "cell_type": "code",
   "execution_count": 13,
   "id": "ceeeebcc",
   "metadata": {},
   "outputs": [
    {
     "name": "stdout",
     "output_type": "stream",
     "text": [
      "[13.253760100122546, 26.507520200245093, 0.5, 0.5, 0.5, 0.5, 0.5, 0.5, 0, 0, 0, 0, 0, 0, 0, 0, 0]\n",
      "First round time:  0.04471087455749512\n",
      "[13.253760100122546, 26.507520200245093, 0.5, 0.5, 0.5, 0.5, 0.5, 0.5, 0, 0, 0, 0, 0, 0, 0, 0, 0]\n",
      "First round time:  0.05434465408325195\n",
      "Second round time:  0.00222015380859375\n",
      "0.10340213775634766\n",
      "using Bloqade\n",
      "atoms = AtomList([(0,), (15.211951462529068,), (7.605975731272661,)]) \n",
      "omega = [piecewise_constant(clocks = [0, 1], values = [2.0]), piecewise_constant(clocks = [0, 1], values = [1.9999999999999998]), piecewise_constant(clocks = [0, 1], values = [1.9999999999999998]), ]\n",
      "phi = [piecewise_constant(clocks = [0, 1], values = [1.2349191029192359e-18]), piecewise_constant(clocks = [0, 1], values = [1.5325501886168585e-18]), piecewise_constant(clocks = [0, 1], values = [-9.525023067577778e-18]), ]\n",
      "delta = [piecewise_constant(clocks = [0, 1], values = [28.217014524323407]), piecewise_constant(clocks = [0, 1], values = [0.21701452450287828]), piecewise_constant(clocks = [0, 1], values = [27.996582448075106]), ]\n",
      "h = rydberg_h(atoms; Δ = delta, Ω = omega, ϕ = phi)\n"
     ]
    }
   ],
   "source": [
    "Trot = 1\n",
    "tol = 0.5\n",
    "\n",
    "import time\n",
    "start_time = time.time()\n",
    "code = transpile(*generate_as(qs, mach, Trot, solver = 'least_squares', solver_tol = tol))\n",
    "end_time = time.time()\n",
    "\n",
    "print(end_time - start_time)\n",
    "print(code)"
   ]
  },
  {
   "cell_type": "code",
   "execution_count": 14,
   "id": "6ff71ee8",
   "metadata": {},
   "outputs": [
    {
     "name": "stdout",
     "output_type": "stream",
     "text": [
      "[13.253760100122546, 26.507520200245093, 0.5, 0.5, 0.5, 0.5, 0.5, 0.5, 1.005, 0, 0, 0, 0, 0, 0, 0, 0, 0]\n",
      "First round time:  0.12455582618713379\n",
      "Second round time:  0.0029604434967041016\n",
      "0.13049983978271484\n",
      "using Bloqade\n",
      "atoms = AtomList([(0,), (7.6059757312729905,), (15.211951462529509,)]) \n",
      "omega = [piecewise_constant(clocks = [0, 1], values = [2.0]), piecewise_constant(clocks = [0, 1], values = [2.0]), piecewise_constant(clocks = [0, 1], values = [2.0]), ]\n",
      "phi = [piecewise_constant(clocks = [0, 1], values = [-2.827841644717207e-29]), piecewise_constant(clocks = [0, 1], values = [8.365660021431824e-18]), piecewise_constant(clocks = [0, 1], values = [-1.965992518565648e-36]), ]\n",
      "delta = [piecewise_constant(clocks = [0, 1], values = [28.21701452431973]), piecewise_constant(clocks = [0, 1], values = [27.996582448070257]), piecewise_constant(clocks = [0, 1], values = [0.217014524501628]), ]\n",
      "h = rydberg_h(atoms; Δ = delta, Ω = omega, ϕ = phi)\n"
     ]
    }
   ],
   "source": [
    "Trot = 1\n",
    "tol = 0.5\n",
    "\n",
    "import time\n",
    "start_time = time.time()\n",
    "code = transpile(*generate_as(qs, mach, Trot, solver = 'old_least_squares', solver_tol = tol))\n",
    "end_time = time.time()\n",
    "\n",
    "print(end_time - start_time)\n",
    "print(code)"
   ]
  },
  {
   "cell_type": "code",
   "execution_count": 7,
   "id": "08a60051",
   "metadata": {},
   "outputs": [
    {
     "ename": "RuntimeError",
     "evalue": "KeyboardInterrupt(SIGINT) Detected.",
     "output_type": "error",
     "traceback": [
      "\u001b[0;31m---------------------------------------------------------------------------\u001b[0m",
      "\u001b[0;31mRuntimeError\u001b[0m                              Traceback (most recent call last)",
      "Cell \u001b[0;32mIn [7], line 6\u001b[0m\n\u001b[1;32m      4\u001b[0m \u001b[38;5;28;01mimport\u001b[39;00m \u001b[38;5;21;01mtime\u001b[39;00m\n\u001b[1;32m      5\u001b[0m start_time \u001b[38;5;241m=\u001b[39m time\u001b[38;5;241m.\u001b[39mtime()\n\u001b[0;32m----> 6\u001b[0m code \u001b[38;5;241m=\u001b[39m transpile(\u001b[38;5;241m*\u001b[39m\u001b[43mgenerate_as\u001b[49m\u001b[43m(\u001b[49m\u001b[43mqs\u001b[49m\u001b[43m,\u001b[49m\u001b[43m \u001b[49m\u001b[43mmach\u001b[49m\u001b[43m,\u001b[49m\u001b[43m \u001b[49m\u001b[43mTrot\u001b[49m\u001b[43m,\u001b[49m\u001b[43m \u001b[49m\u001b[43msolver\u001b[49m\u001b[43m \u001b[49m\u001b[38;5;241;43m=\u001b[39;49m\u001b[43m \u001b[49m\u001b[38;5;124;43m'\u001b[39;49m\u001b[38;5;124;43mdreal\u001b[39;49m\u001b[38;5;124;43m'\u001b[39;49m\u001b[43m,\u001b[49m\u001b[43m \u001b[49m\u001b[43msolver_tol\u001b[49m\u001b[43m \u001b[49m\u001b[38;5;241;43m=\u001b[39;49m\u001b[43m \u001b[49m\u001b[43mtol\u001b[49m\u001b[43m)\u001b[49m)\n\u001b[1;32m      7\u001b[0m end_time \u001b[38;5;241m=\u001b[39m time\u001b[38;5;241m.\u001b[39mtime()\n\u001b[1;32m      9\u001b[0m \u001b[38;5;28mprint\u001b[39m(end_time \u001b[38;5;241m-\u001b[39m start_time)\n",
      "File \u001b[0;32m~/Projects/SimuQ/new_solver/SimuQ/simuq/solver.py:656\u001b[0m, in \u001b[0;36mgenerate_as\u001b[0;34m(qs, mach, trotter_step, solver, solver_tol)\u001b[0m\n\u001b[1;32m    654\u001b[0m mach\u001b[38;5;241m.\u001b[39minstantiate_sys_ham()\n\u001b[1;32m    655\u001b[0m mach\u001b[38;5;241m.\u001b[39mextend_instruction_sites()\n\u001b[0;32m--> 656\u001b[0m \u001b[38;5;28;01mif\u001b[39;00m \u001b[43mfind_sol\u001b[49m\u001b[43m(\u001b[49m\u001b[43mqs\u001b[49m\u001b[43m,\u001b[49m\u001b[43m \u001b[49m\u001b[43mmach\u001b[49m\u001b[43m,\u001b[49m\u001b[43m \u001b[49m\u001b[43msolver\u001b[49m\u001b[38;5;241;43m=\u001b[39;49m\u001b[43msolver\u001b[49m\u001b[43m,\u001b[49m\u001b[43m \u001b[49m\u001b[43mtol\u001b[49m\u001b[38;5;241;43m=\u001b[39;49m\u001b[43msolver_tol\u001b[49m\u001b[43m)\u001b[49m:\n\u001b[1;32m    657\u001b[0m     sol \u001b[38;5;241m=\u001b[39m gsol\n\u001b[1;32m    658\u001b[0m     switch \u001b[38;5;241m=\u001b[39m gswitch\n",
      "File \u001b[0;32m~/Projects/SimuQ/new_solver/SimuQ/simuq/solver.py:646\u001b[0m, in \u001b[0;36mfind_sol\u001b[0;34m(qs, mach, ali, solver, tol)\u001b[0m\n\u001b[1;32m    644\u001b[0m \u001b[38;5;28;01mdef\u001b[39;00m \u001b[38;5;21mfind_sol\u001b[39m(qs, mach, ali\u001b[38;5;241m=\u001b[39m[], solver\u001b[38;5;241m=\u001b[39m\u001b[38;5;124m'\u001b[39m\u001b[38;5;124mleast_squares\u001b[39m\u001b[38;5;124m'\u001b[39m, tol\u001b[38;5;241m=\u001b[39m\u001b[38;5;241m1e-3\u001b[39m):\n\u001b[1;32m    645\u001b[0m     \u001b[38;5;28;01mif\u001b[39;00m ali \u001b[38;5;241m==\u001b[39m []:\n\u001b[0;32m--> 646\u001b[0m         \u001b[38;5;28;01mreturn\u001b[39;00m \u001b[43malign\u001b[49m\u001b[43m(\u001b[49m\u001b[38;5;241;43m0\u001b[39;49m\u001b[43m,\u001b[49m\u001b[43m \u001b[49m\u001b[43m[\u001b[49m\u001b[38;5;241;43m0\u001b[39;49m\u001b[43m \u001b[49m\u001b[38;5;28;43;01mfor\u001b[39;49;00m\u001b[43m \u001b[49m\u001b[43mi\u001b[49m\u001b[43m \u001b[49m\u001b[38;5;129;43;01min\u001b[39;49;00m\u001b[43m \u001b[49m\u001b[38;5;28;43mrange\u001b[39;49m\u001b[43m(\u001b[49m\u001b[43mqs\u001b[49m\u001b[38;5;241;43m.\u001b[39;49m\u001b[43mnum_sites\u001b[49m\u001b[43m)\u001b[49m\u001b[43m]\u001b[49m\u001b[43m,\u001b[49m\u001b[43m \u001b[49m\u001b[43mqs\u001b[49m\u001b[43m,\u001b[49m\u001b[43m \u001b[49m\u001b[43mmach\u001b[49m\u001b[43m,\u001b[49m\u001b[43m \u001b[49m\u001b[43msolver\u001b[49m\u001b[43m,\u001b[49m\u001b[43m \u001b[49m\u001b[43mtol\u001b[49m\u001b[43m)\u001b[49m\n\u001b[1;32m    647\u001b[0m     \u001b[38;5;28;01melse\u001b[39;00m:\n\u001b[1;32m    648\u001b[0m         \u001b[38;5;28;01mreturn\u001b[39;00m solve_aligned_wrapper(ali, qs, mach, solver, tol)\n",
      "File \u001b[0;32m~/Projects/SimuQ/new_solver/SimuQ/simuq/solver.py:639\u001b[0m, in \u001b[0;36malign\u001b[0;34m(i, ali, qs, mach, solver, tol)\u001b[0m\n\u001b[1;32m    637\u001b[0m             \u001b[38;5;28;01mbreak\u001b[39;00m\n\u001b[1;32m    638\u001b[0m     \u001b[38;5;28;01mif\u001b[39;00m available:\n\u001b[0;32m--> 639\u001b[0m         \u001b[38;5;28;01mif\u001b[39;00m \u001b[43malign\u001b[49m\u001b[43m(\u001b[49m\u001b[43mi\u001b[49m\u001b[43m \u001b[49m\u001b[38;5;241;43m+\u001b[39;49m\u001b[43m \u001b[49m\u001b[38;5;241;43m1\u001b[39;49m\u001b[43m,\u001b[49m\u001b[43m \u001b[49m\u001b[43mali\u001b[49m\u001b[43m,\u001b[49m\u001b[43m \u001b[49m\u001b[43mqs\u001b[49m\u001b[43m,\u001b[49m\u001b[43m \u001b[49m\u001b[43mmach\u001b[49m\u001b[43m,\u001b[49m\u001b[43m \u001b[49m\u001b[43msolver\u001b[49m\u001b[43m,\u001b[49m\u001b[43m \u001b[49m\u001b[43mtol\u001b[49m\u001b[43m)\u001b[49m:\n\u001b[1;32m    640\u001b[0m             \u001b[38;5;28;01mreturn\u001b[39;00m \u001b[38;5;28;01mTrue\u001b[39;00m\n\u001b[1;32m    641\u001b[0m \u001b[38;5;28;01mreturn\u001b[39;00m \u001b[38;5;28;01mFalse\u001b[39;00m\n",
      "File \u001b[0;32m~/Projects/SimuQ/new_solver/SimuQ/simuq/solver.py:639\u001b[0m, in \u001b[0;36malign\u001b[0;34m(i, ali, qs, mach, solver, tol)\u001b[0m\n\u001b[1;32m    637\u001b[0m             \u001b[38;5;28;01mbreak\u001b[39;00m\n\u001b[1;32m    638\u001b[0m     \u001b[38;5;28;01mif\u001b[39;00m available:\n\u001b[0;32m--> 639\u001b[0m         \u001b[38;5;28;01mif\u001b[39;00m \u001b[43malign\u001b[49m\u001b[43m(\u001b[49m\u001b[43mi\u001b[49m\u001b[43m \u001b[49m\u001b[38;5;241;43m+\u001b[39;49m\u001b[43m \u001b[49m\u001b[38;5;241;43m1\u001b[39;49m\u001b[43m,\u001b[49m\u001b[43m \u001b[49m\u001b[43mali\u001b[49m\u001b[43m,\u001b[49m\u001b[43m \u001b[49m\u001b[43mqs\u001b[49m\u001b[43m,\u001b[49m\u001b[43m \u001b[49m\u001b[43mmach\u001b[49m\u001b[43m,\u001b[49m\u001b[43m \u001b[49m\u001b[43msolver\u001b[49m\u001b[43m,\u001b[49m\u001b[43m \u001b[49m\u001b[43mtol\u001b[49m\u001b[43m)\u001b[49m:\n\u001b[1;32m    640\u001b[0m             \u001b[38;5;28;01mreturn\u001b[39;00m \u001b[38;5;28;01mTrue\u001b[39;00m\n\u001b[1;32m    641\u001b[0m \u001b[38;5;28;01mreturn\u001b[39;00m \u001b[38;5;28;01mFalse\u001b[39;00m\n",
      "File \u001b[0;32m~/Projects/SimuQ/new_solver/SimuQ/simuq/solver.py:602\u001b[0m, in \u001b[0;36malign\u001b[0;34m(i, ali, qs, mach, solver, tol)\u001b[0m\n\u001b[1;32m    599\u001b[0m     \u001b[38;5;28;01mreturn\u001b[39;00m ret\n\u001b[1;32m    601\u001b[0m \u001b[38;5;28;01mif\u001b[39;00m i \u001b[38;5;241m==\u001b[39m qs\u001b[38;5;241m.\u001b[39mnum_sites:\n\u001b[0;32m--> 602\u001b[0m     \u001b[38;5;28;01mif\u001b[39;00m \u001b[43msolve_aligned_wrapper\u001b[49m\u001b[43m(\u001b[49m\u001b[43mali\u001b[49m\u001b[43m,\u001b[49m\u001b[43m \u001b[49m\u001b[43mqs\u001b[49m\u001b[43m,\u001b[49m\u001b[43m \u001b[49m\u001b[43mmach\u001b[49m\u001b[43m,\u001b[49m\u001b[43m \u001b[49m\u001b[43msolver\u001b[49m\u001b[43m,\u001b[49m\u001b[43m \u001b[49m\u001b[43mtol\u001b[49m\u001b[43m)\u001b[49m:\n\u001b[1;32m    603\u001b[0m         \u001b[38;5;28;01mreturn\u001b[39;00m \u001b[38;5;28;01mTrue\u001b[39;00m\n\u001b[1;32m    604\u001b[0m     \u001b[38;5;28;01mreturn\u001b[39;00m \u001b[38;5;28;01mFalse\u001b[39;00m\n",
      "File \u001b[0;32m~/Projects/SimuQ/new_solver/SimuQ/simuq/solver.py:562\u001b[0m, in \u001b[0;36msolve_aligned_wrapper\u001b[0;34m(ali, qs, mach, solver, tol)\u001b[0m\n\u001b[1;32m    560\u001b[0m \u001b[38;5;28;01mdef\u001b[39;00m \u001b[38;5;21msolve_aligned_wrapper\u001b[39m(ali, qs, mach, solver, tol) :\n\u001b[1;32m    561\u001b[0m     \u001b[38;5;28;01mif\u001b[39;00m mach\u001b[38;5;241m.\u001b[39mnum_gvars \u001b[38;5;241m!=\u001b[39m \u001b[38;5;241m0\u001b[39m \u001b[38;5;129;01mor\u001b[39;00m mach\u001b[38;5;241m.\u001b[39mwith_sys_ham :\n\u001b[0;32m--> 562\u001b[0m         \u001b[38;5;28;01mreturn\u001b[39;00m \u001b[43msolve_aligned\u001b[49m\u001b[43m(\u001b[49m\u001b[43mali\u001b[49m\u001b[43m,\u001b[49m\u001b[43m \u001b[49m\u001b[43mqs\u001b[49m\u001b[43m,\u001b[49m\u001b[43m \u001b[49m\u001b[43mmach\u001b[49m\u001b[43m,\u001b[49m\u001b[43m \u001b[49m\u001b[43msolver\u001b[49m\u001b[43m,\u001b[49m\u001b[43m \u001b[49m\u001b[43mtol\u001b[49m\u001b[43m)\u001b[49m\n\u001b[1;32m    563\u001b[0m     \u001b[38;5;28;01melse\u001b[39;00m :\n\u001b[1;32m    564\u001b[0m         switch \u001b[38;5;241m=\u001b[39m []\n",
      "File \u001b[0;32m~/Projects/SimuQ/new_solver/SimuQ/simuq/solver.py:409\u001b[0m, in \u001b[0;36msolve_aligned\u001b[0;34m(ali, qs, mach, solver, tol)\u001b[0m\n\u001b[1;32m    406\u001b[0m     sats\u001b[38;5;241m.\u001b[39mappend(eqs[i](Vars) \u001b[38;5;241m==\u001b[39m \u001b[38;5;241m0\u001b[39m)\n\u001b[1;32m    408\u001b[0m f_sat \u001b[38;5;241m=\u001b[39m dr\u001b[38;5;241m.\u001b[39mAnd(\u001b[38;5;241m*\u001b[39msats)\n\u001b[0;32m--> 409\u001b[0m res \u001b[38;5;241m=\u001b[39m \u001b[43mdr\u001b[49m\u001b[38;5;241;43m.\u001b[39;49m\u001b[43mCheckSatisfiability\u001b[49m\u001b[43m(\u001b[49m\u001b[43mf_sat\u001b[49m\u001b[43m,\u001b[49m\u001b[43m \u001b[49m\u001b[43mtol\u001b[49m\u001b[43m)\u001b[49m\n\u001b[1;32m    410\u001b[0m \u001b[38;5;28;01mif\u001b[39;00m res \u001b[38;5;241m==\u001b[39m \u001b[38;5;28;01mNone\u001b[39;00m :\n\u001b[1;32m    411\u001b[0m     \u001b[38;5;28;01mreturn\u001b[39;00m \u001b[38;5;28;01mFalse\u001b[39;00m\n",
      "\u001b[0;31mRuntimeError\u001b[0m: KeyboardInterrupt(SIGINT) Detected."
     ]
    }
   ],
   "source": [
    "Trot = 1\n",
    "tol = 0.5\n",
    "\n",
    "import time\n",
    "start_time = time.time()\n",
    "code = transpile(*generate_as(qs, mach, Trot, solver = 'dreal', solver_tol = tol))\n",
    "end_time = time.time()\n",
    "\n",
    "print(end_time - start_time)\n",
    "print(code)"
   ]
  },
  {
   "cell_type": "code",
   "execution_count": null,
   "id": "82a0a418",
   "metadata": {},
   "outputs": [],
   "source": []
  }
 ],
 "metadata": {
  "kernelspec": {
   "display_name": "Python 3 (ipykernel)",
   "language": "python",
   "name": "python3"
  },
  "language_info": {
   "codemirror_mode": {
    "name": "ipython",
    "version": 3
   },
   "file_extension": ".py",
   "mimetype": "text/x-python",
   "name": "python",
   "nbconvert_exporter": "python",
   "pygments_lexer": "ipython3",
   "version": "3.9.15"
  }
 },
 "nbformat": 4,
 "nbformat_minor": 5
}
