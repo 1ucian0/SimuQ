{
 "cells": [
  {
   "cell_type": "code",
   "execution_count": 1,
   "id": "42e26405",
   "metadata": {},
   "outputs": [],
   "source": [
    "%load_ext autoreload\n",
    "%autoreload 2"
   ]
  },
  {
   "cell_type": "code",
   "execution_count": 5,
   "id": "a7feecc8",
   "metadata": {},
   "outputs": [],
   "source": [
    "from simuq.solver import generate_as\n",
    "from systems.qwalk_chain import GenQS\n",
    "from aais.rydberg1d import GenMach\n",
    "from backends.bloqade_rydberg import transpile"
   ]
  },
  {
   "cell_type": "code",
   "execution_count": 6,
   "id": "5cd17f14",
   "metadata": {},
   "outputs": [],
   "source": [
    "N = 12\n",
    "n = N - 1\n",
    "qs = GenQS(N, lamb = 5, T=1)\n",
    "mach = GenMach(n)"
   ]
  },
  {
   "cell_type": "code",
   "execution_count": 7,
   "id": "08a60051",
   "metadata": {},
   "outputs": [
    {
     "name": "stdout",
     "output_type": "stream",
     "text": [
      "using Bloqade\n",
      "atoms = AtomList([(0,), (8.044696298957803,), (16.089557144861388,), (24.13441883115442,), (32.17928053837977,), (40.22414224669847,), (48.26900395488809,), (56.31386566172607,), (64.35872734737463,), (72.40358819237592,), (80.44828449021638,)]) \n",
      "omega = [piecewise_constant(clocks = [0, 1], values = [2.0]), piecewise_constant(clocks = [0, 1], values = [2.0]), piecewise_constant(clocks = [0, 1], values = [2.0]), piecewise_constant(clocks = [0, 1], values = [2.0]), piecewise_constant(clocks = [0, 1], values = [2.0]), piecewise_constant(clocks = [0, 1], values = [2.0]), piecewise_constant(clocks = [0, 1], values = [2.0]), piecewise_constant(clocks = [0, 1], values = [2.0]), piecewise_constant(clocks = [0, 1], values = [2.0]), piecewise_constant(clocks = [0, 1], values = [2.0]), piecewise_constant(clocks = [0, 1], values = [2.0]), ]\n",
      "phi = [piecewise_constant(clocks = [0, 1], values = [-3.6107279585891375e-25]), piecewise_constant(clocks = [0, 1], values = [7.516414905005252e-24]), piecewise_constant(clocks = [0, 1], values = [-1.0113860435587854e-22]), piecewise_constant(clocks = [0, 1], values = [2.64054324357455e-24]), piecewise_constant(clocks = [0, 1], values = [2.6480865223136343e-25]), piecewise_constant(clocks = [0, 1], values = [-1.2709828479548276e-24]), piecewise_constant(clocks = [0, 1], values = [-2.3019674395461023e-25]), piecewise_constant(clocks = [0, 1], values = [-4.151810434703625e-27]), piecewise_constant(clocks = [0, 1], values = [-4.7823461454519024e-26]), piecewise_constant(clocks = [0, 1], values = [5.809159702121486e-26]), piecewise_constant(clocks = [0, 1], values = [6.226880296084648e-37]), ]\n",
      "delta = [piecewise_constant(clocks = [0, 1], values = [20.172155983203236]), piecewise_constant(clocks = [0, 1], values = [20.1696818541062]), piecewise_constant(clocks = [0, 1], values = [20.324650959901923]), piecewise_constant(clocks = [0, 1], values = [20.33831137820922]), piecewise_constant(clocks = [0, 1], values = [20.340666506381687]), piecewise_constant(clocks = [0, 1], values = [20.34109200804505]), piecewise_constant(clocks = [0, 1], values = [20.34066651029852]), piecewise_constant(clocks = [0, 1], values = [20.33831138603356]), piecewise_constant(clocks = [0, 1], values = [20.32465097161745]), piecewise_constant(clocks = [0, 1], values = [20.16968186926435]), piecewise_constant(clocks = [0, 1], values = [0.17215599166430134]), ]\n",
      "h = rydberg_h(atoms; Δ = delta, Ω = omega, ϕ = phi)\n"
     ]
    }
   ],
   "source": [
    "Trot = 1\n",
    "tol = 0.5\n",
    "\n",
    "code = transpile(*generate_as(qs, mach, Trot, tol))\n",
    "print(code)"
   ]
  },
  {
   "cell_type": "code",
   "execution_count": 13,
   "id": "99df65de",
   "metadata": {},
   "outputs": [],
   "source": [
    "from simuq.solver import generate_as\n",
    "from systems.qwalk_chain import GenQS\n",
    "from aais.heis_aais import GenMach\n",
    "from backends.qiskit_iontrap import transpile"
   ]
  },
  {
   "cell_type": "code",
   "execution_count": 14,
   "id": "2b0c5e7b",
   "metadata": {},
   "outputs": [],
   "source": [
    "N = 12\n",
    "n = N - 1\n",
    "qs = GenQS(N, lamb = 5, T=1)\n",
    "mach = GenMach(n)"
   ]
  },
  {
   "cell_type": "code",
   "execution_count": 16,
   "id": "bffec2d4",
   "metadata": {},
   "outputs": [
    {
     "name": "stdout",
     "output_type": "stream",
     "text": [
      "from braket.circuits import Circuit\n",
      "circ = Circuit().rx(10, 0.400000004518022).zz(0, 1, 2.0000000212670277).zz(2, 3, 2.000000022070436).zz(4, 5, 2.0000000211755684).zz(6, 7, 2.000000021570466).zz(8, 9, 2.0000000212401945).rx(0, 0.40000000455769885).zz(1, 2, 2.0000000224900876).zz(3, 4, 2.0000000212058473).zz(5, 6, 2.0000000227317862).zz(7, 8, 2.000000020848135).zz(9, 10, 2.000000020763615).rz(0, 2.000000022507547).rx(1, 0.4000000027750792).rx(2, 0.40000000529117563).rx(3, 0.40000000417619763).rx(4, 0.40000000877040504).rx(5, 0.40000000745317604).rx(6, 0.4000000052992668).rx(7, 0.40000000513940315).rx(8, 0.4000000046496157).rx(9, 0.40000000410291997).rz(10, -2.0000000194927474).rx(10, 0.400000004518022).zz(0, 1, 2.0000000212670277).zz(2, 3, 2.000000022070436).zz(4, 5, 2.0000000211755684).zz(6, 7, 2.000000021570466).zz(8, 9, 2.0000000212401945).rx(0, 0.40000000455769885).zz(1, 2, 2.0000000224900876).zz(3, 4, 2.0000000212058473).zz(5, 6, 2.0000000227317862).zz(7, 8, 2.000000020848135).zz(9, 10, 2.000000020763615).rz(0, 2.000000022507547).rx(1, 0.4000000027750792).rx(2, 0.40000000529117563).rx(3, 0.40000000417619763).rx(4, 0.40000000877040504).rx(5, 0.40000000745317604).rx(6, 0.4000000052992668).rx(7, 0.40000000513940315).rx(8, 0.4000000046496157).rx(9, 0.40000000410291997).rz(10, -2.0000000194927474).rx(10, 0.400000004518022).zz(0, 1, 2.0000000212670277).zz(2, 3, 2.000000022070436).zz(4, 5, 2.0000000211755684).zz(6, 7, 2.000000021570466).zz(8, 9, 2.0000000212401945).rx(0, 0.40000000455769885).zz(1, 2, 2.0000000224900876).zz(3, 4, 2.0000000212058473).zz(5, 6, 2.0000000227317862).zz(7, 8, 2.000000020848135).zz(9, 10, 2.000000020763615).rz(0, 2.000000022507547).rx(1, 0.4000000027750792).rx(2, 0.40000000529117563).rx(3, 0.40000000417619763).rx(4, 0.40000000877040504).rx(5, 0.40000000745317604).rx(6, 0.4000000052992668).rx(7, 0.40000000513940315).rx(8, 0.4000000046496157).rx(9, 0.40000000410291997).rz(10, -2.0000000194927474).rx(10, 0.400000004518022).zz(0, 1, 2.0000000212670277).zz(2, 3, 2.000000022070436).zz(4, 5, 2.0000000211755684).zz(6, 7, 2.000000021570466).zz(8, 9, 2.0000000212401945).rx(0, 0.40000000455769885).zz(1, 2, 2.0000000224900876).zz(3, 4, 2.0000000212058473).zz(5, 6, 2.0000000227317862).zz(7, 8, 2.000000020848135).zz(9, 10, 2.000000020763615).rz(0, 2.000000022507547).rx(1, 0.4000000027750792).rx(2, 0.40000000529117563).rx(3, 0.40000000417619763).rx(4, 0.40000000877040504).rx(5, 0.40000000745317604).rx(6, 0.4000000052992668).rx(7, 0.40000000513940315).rx(8, 0.4000000046496157).rx(9, 0.40000000410291997).rz(10, -2.0000000194927474).rx(10, 0.400000004518022).zz(0, 1, 2.0000000212670277).zz(2, 3, 2.000000022070436).zz(4, 5, 2.0000000211755684).zz(6, 7, 2.000000021570466).zz(8, 9, 2.0000000212401945).rx(0, 0.40000000455769885).zz(1, 2, 2.0000000224900876).zz(3, 4, 2.0000000212058473).zz(5, 6, 2.0000000227317862).zz(7, 8, 2.000000020848135).zz(9, 10, 2.000000020763615).rz(0, 2.000000022507547).rx(1, 0.4000000027750792).rx(2, 0.40000000529117563).rx(3, 0.40000000417619763).rx(4, 0.40000000877040504).rx(5, 0.40000000745317604).rx(6, 0.4000000052992668).rx(7, 0.40000000513940315).rx(8, 0.4000000046496157).rx(9, 0.40000000410291997).rz(10, -2.0000000194927474)\n"
     ]
    }
   ],
   "source": [
    "Trot = 5\n",
    "tol = 0.5\n",
    "\n",
    "circ, bk_c = transpile(n, *generate_as(qs, mach, Trot, tol))\n",
    "print(bk_c)"
   ]
  },
  {
   "cell_type": "code",
   "execution_count": null,
   "id": "82a0a418",
   "metadata": {},
   "outputs": [],
   "source": []
  }
 ],
 "metadata": {
  "kernelspec": {
   "display_name": "Python 3 (ipykernel)",
   "language": "python",
   "name": "python3"
  },
  "language_info": {
   "codemirror_mode": {
    "name": "ipython",
    "version": 3
   },
   "file_extension": ".py",
   "mimetype": "text/x-python",
   "name": "python",
   "nbconvert_exporter": "python",
   "pygments_lexer": "ipython3",
   "version": "3.9.15"
  }
 },
 "nbformat": 4,
 "nbformat_minor": 5
}
