{
 "cells": [
  {
   "cell_type": "markdown",
   "metadata": {},
   "source": [
    "# Simulation of Schwinger model\n",
    "\n",
    "In this notebook, we investigate realizing (1 + 1)-dimensional quantum electrodynamics (the Schwinger model) on a few-qubit trapped-ion quantum computer. We implement and deploy the algorithm developed in [[1605.04570]](https://arxiv.org/abs/1605.04570). \n",
    "\n",
    "## 1. Introduction\n",
    "\n",
    "\n",
    "## 2. Hamiltonian to be simulated\n",
    "\n",
    "$$J\\sum_{i<j} c_{ij} Z_iZ_j+ \\frac{w}{2}\\sum_i (X_iX_{i+1}+Y_iY_{i+1})+m\\sum_i c_iZ_i+J\\sum_i \\tilde{c}_iZ_i $$\n",
    "\n",
    "The challenge of this model is that the Hamiltonian is not a sum of local terms, it requires long range interactions. Fortunately, the trapped-ion quantum computer can be programmed to implement the long range interactions.\n",
    "\n"
   ]
  },
  {
   "cell_type": "code",
   "execution_count": 1,
   "metadata": {},
   "outputs": [],
   "source": [
    "# Generate a Schwinger model in pure spin Hamiltonian\n",
    "\n",
    "import numpy as np\n",
    "from simuq.qsystem import QSystem\n",
    "from simuq.environment import qubit\n",
    "\n",
    "def Schwinger(n, T = 1, m = 0.5, w = 1, J = 1, eps_0 = 0) :\n",
    "    qs = QSystem()\n",
    "    q = [qubit(qs) for i in range(n)]\n",
    "    H = 0\n",
    "    for j in range(n) :\n",
    "        H += m / 2 * (-1)**j * q[j].Z\n",
    "    for j in range(n - 1) :\n",
    "        H += w / 2 * (q[j].X * q[j+1].X + q[j].Y * q[j+1].Y)\n",
    "    for j in range(n - 1) :\n",
    "        S = 0\n",
    "        for k in range(j) :\n",
    "            S += q[k].Z + (-1)**k\n",
    "        H = J * (eps_0 + S) * (eps_0 + S)\n",
    "    qs.add_evolution(H, T)\n",
    "    return qs\n",
    "\n",
    "N=4"
   ]
  },
  {
   "cell_type": "markdown",
   "metadata": {},
   "source": [
    "The initial state is $| 1010\\rangle$"
   ]
  },
  {
   "cell_type": "code",
   "execution_count": 1,
   "metadata": {},
   "outputs": [],
   "source": [
    "from simuq.providers import IonQProvider\n",
    "\n",
    "ionqp = IonQProvider(from_file='../../../ionq_API_key')"
   ]
  },
  {
   "cell_type": "code",
   "execution_count": 3,
   "metadata": {},
   "outputs": [],
   "source": [
    "def Xgate(q) :\n",
    "    gate = {\"gate\" : \"gpi\", \"target\" : q, \"phase\" : 0.}\n",
    "    return gate\n",
    "state_prep = {'circuit': [Xgate(0), Xgate(2)]}"
   ]
  },
  {
   "cell_type": "code",
   "execution_count": null,
   "metadata": {},
   "outputs": [],
   "source": [
    "import matplotlib.pyplot as plt\n",
    "def draw_results(steps, results_list) :\n",
    "    density_list=[]\n",
    "    for result in results_list:\n",
    "        density=0\n",
    "        for state in result:\n",
    "            density+=result[state]*sum(1 for a, b in zip(state, \"1010\") if a != b)\n",
    "        density_list.append(density)\n",
    "    plt.plot(steps, density_list, 'o-')"
   ]
  },
  {
   "cell_type": "code",
   "execution_count": null,
   "metadata": {},
   "outputs": [],
   "source": [
    "import time\n",
    "timestep=np.linspace(0, np.pi/2, 20)\n",
    "results_list = []\n",
    "for t in timestep :\n",
    "    walk = Schwinger(N, t)\n",
    "    ionqp.compile(walk, backend='aria-1', trotter_num = 14, state_prep = state_prep)\n",
    "    ionqp.run(on_simulator = True, verbose = -1)\n",
    "    while True :\n",
    "        time.sleep(5)\n",
    "        res = ionqp.results(verbose = -1)\n",
    "        if res != None :\n",
    "            break\n",
    "    results_list.append(res)\n",
    "\n",
    "draw_results(timestep, results_list, True)"
   ]
  },
  {
   "cell_type": "code",
   "execution_count": null,
   "metadata": {},
   "outputs": [],
   "source": []
  },
  {
   "cell_type": "code",
   "execution_count": null,
   "metadata": {},
   "outputs": [],
   "source": [
    "from simuq.providers import QuTiPProvider\n",
    "\n",
    "qtpp = QuTiPProvider()\n",
    "qtpp.compile(walk)"
   ]
  }
 ],
 "metadata": {
  "kernelspec": {
   "display_name": "lpy",
   "language": "python",
   "name": "python3"
  },
  "language_info": {
   "codemirror_mode": {
    "name": "ipython",
    "version": 3
   },
   "file_extension": ".py",
   "mimetype": "text/x-python",
   "name": "python",
   "nbconvert_exporter": "python",
   "pygments_lexer": "ipython3",
   "version": "3.11.4"
  },
  "orig_nbformat": 4
 },
 "nbformat": 4,
 "nbformat_minor": 2
}
