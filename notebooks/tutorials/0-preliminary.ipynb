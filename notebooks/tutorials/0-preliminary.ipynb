{
 "cells": [
  {
   "cell_type": "markdown",
   "metadata": {},
   "source": [
    "# Simulation of quantum systems\n",
    "\n",
    "In this notebook, we introduce the basic concepts of quantum simulation. "
   ]
  },
  {
   "cell_type": "code",
   "execution_count": null,
   "metadata": {},
   "outputs": [],
   "source": []
  },
  {
   "cell_type": "markdown",
   "metadata": {},
   "source": [
    "# Installation"
   ]
  },
  {
   "cell_type": "code",
   "execution_count": null,
   "metadata": {},
   "outputs": [],
   "source": [
    "%pip install simuq"
   ]
  },
  {
   "cell_type": "markdown",
   "metadata": {},
   "source": [
    "We start with programming the Ising model on a 3 qubit chain.\n",
    "\n",
    "Prepare the python environment\n"
   ]
  },
  {
   "cell_type": "code",
   "execution_count": null,
   "metadata": {},
   "outputs": [],
   "source": [
    "from simuq.qsystem import QSystem, qubit\n"
   ]
  },
  {
   "cell_type": "markdown",
   "metadata": {},
   "source": [
    "Here QSystem is the class for quantum systems, and qubit is the class for qubit sites.\n",
    "\n",
    "## Define the evolution\n",
    "\n",
    "First we create a quantum system and a list of qubit sites."
   ]
  },
  {
   "cell_type": "code",
   "execution_count": null,
   "metadata": {},
   "outputs": [],
   "source": [
    "qs = QSystem()\n",
    "q = [qubit(qs) for i in range(n)]"
   ]
  },
  {
   "cell_type": "markdown",
   "metadata": {},
   "source": [
    "Our target is a short evolution governed by an Ising Hamiltonian $H=X_1X_2+X_2X_3+Z_1+Z_2+Z_3$ over the list of qubits, which can be programmed by\n"
   ]
  },
  {
   "cell_type": "code",
   "execution_count": null,
   "metadata": {},
   "outputs": [],
   "source": [
    "h = q[0].X * q[1].X + q[1].X * q[2].X + q[0].Z + q[1].Z + q[2].Z\n",
    "\n",
    "\n"
   ]
  },
  {
   "cell_type": "markdown",
   "metadata": {},
   "source": [
    "We add a T=1 time evolution under H to the quantum system.\n"
   ]
  },
  {
   "cell_type": "code",
   "execution_count": null,
   "metadata": {},
   "outputs": [],
   "source": [
    "T = 1\n",
    "qs.add_evolution(h, T)"
   ]
  },
  {
   "cell_type": "markdown",
   "metadata": {},
   "source": [
    "Then `qs` contains the evolution of $H$ for time $T$. To add next segment of evolution, we only need to call the method `add_evolution` again."
   ]
  },
  {
   "cell_type": "markdown",
   "metadata": {},
   "source": [
    "# Create a QuTiP provider\n",
    "\n",
    "A provider is a user interface for convenient manipulations of functionalities of SimuQ. We use QuTiP provider as a basic example on how to use providers to deploy quantum simulation problems on devices and obtain results.\n",
    "\n",
    "We can create a QuTiP provider via the following code\n"
   ]
  },
  {
   "cell_type": "code",
   "execution_count": null,
   "metadata": {},
   "outputs": [],
   "source": [
    "from simuq.providers import QuTiPProvider\n",
    "qpp = QuTiPProvider()"
   ]
  },
  {
   "cell_type": "markdown",
   "metadata": {},
   "source": [
    "Compilation in provider\n",
    "\n",
    "To simulate a quantum system qs programmed in HML via SimuQ, we need three major steps of a provider: compile, run, results.\n",
    "\n",
    "We call the compile function of the provider to process the system into a runnable executable. For QuTiP provider, we can execute"
   ]
  },
  {
   "cell_type": "code",
   "execution_count": null,
   "metadata": {},
   "outputs": [],
   "source": [
    "qpp.compile(qs)"
   ]
  },
  {
   "cell_type": "markdown",
   "metadata": {},
   "source": [
    "QuTiP provider processes the quantum system qs and translate it into a Hamiltonian in QuTiP. When succeeds, a message Compiled. will show up.\n",
    "\n",
    "For other providers, compile command may specify the backend device, AAIS, and compiler specifications.\n",
    "\n",
    "When compilation succeeds, the job will be recorded in the provider.\n",
    "\n",
    "Run and obtain results from providers\n",
    "\n",
    "Running a job will send the compilation results to backend devices to execute. For QuTiP provider, we execute\n"
   ]
  },
  {
   "cell_type": "code",
   "execution_count": null,
   "metadata": {},
   "outputs": [],
   "source": [
    "\n",
    "qpp.run()"
   ]
  },
  {
   "cell_type": "markdown",
   "metadata": {},
   "source": [
    "When successfully executed, the command will show a message Submitted, meaning that the executables are sent to devices to run.\n",
    "\n",
    "For other providers, you can choose whether to run on classical simulators, and how many shots to run on the real device or simulators. Note that these classical simulators are mostly from hardware providers and executed on the cloud.\n",
    "\n",
    "To retrieve the results, we can execute"
   ]
  },
  {
   "cell_type": "code",
   "execution_count": null,
   "metadata": {},
   "outputs": [],
   "source": [
    "\n",
    "\n",
    "qpp.results()\n"
   ]
  },
  {
   "cell_type": "markdown",
   "metadata": {},
   "source": [
    "If the task is still in the queue on the device, an exception will be raised. When the retrieval succeeds, a dictionary is returned, which contains the frequencies of obtaining a measurement array (encoded as a 0/1 string). A bit in the string corresponds to a site of the quantum system. We can call qpp.print_sites() to show the order of the sites in the measurement output.\n",
    "\n",
    "The resulting dictionary of the 3-site Ising model is"
   ]
  },
  {
   "cell_type": "markdown",
   "metadata": {},
   "source": [
    "# Declare IonQ providers\n",
    "\n",
    "Accesses to IonQ Quantum Cloud require an API key from IonQ.\n",
    "\n",
    "Assuming that you have a string API_key storing it, we can declare an IonQ provider in SimuQ by"
   ]
  },
  {
   "cell_type": "code",
   "execution_count": null,
   "metadata": {},
   "outputs": [],
   "source": [
    "\n",
    "\n",
    "from simuq.providers import IonQProvider\n",
    "iqp = IonQProvider(API_key)"
   ]
  },
  {
   "cell_type": "markdown",
   "metadata": {},
   "source": [
    "Compile, run, and retrieve results\n",
    "\n",
    "To compile and run the 3-site Ising system qs in programming an Ising model on IonQ devices, we need to specify a device and an AAIS. By default, the device is Aria-1 and the AAIS in compilation is Heisenberg-AAIS. One can also pass detailed parameters in the compilation like error tolerance bound and number of Trotterization here. For simplicity, we execute with the default compiler configuration by"
   ]
  },
  {
   "cell_type": "code",
   "execution_count": null,
   "metadata": {},
   "outputs": [],
   "source": [
    "\n",
    "iqp.compile(qs)"
   ]
  },
  {
   "cell_type": "markdown",
   "metadata": {},
   "source": [
    "We then run the experiment on simulator, which executes\n"
   ]
  },
  {
   "cell_type": "code",
   "execution_count": null,
   "metadata": {},
   "outputs": [],
   "source": [
    "iqp.run(on_simulator = True)\n"
   ]
  },
  {
   "cell_type": "markdown",
   "metadata": {},
   "source": [
    "This will submit a job to IonQ Quantum Cloud using the compiled results, and print the job id and status. The simulator will account for the noise model of Aria-1. To retrieve the results, we wait for a short period of time (normally several seconds) for the cloud server to queue and process the simulation, and then run\n"
   ]
  },
  {
   "cell_type": "code",
   "execution_count": null,
   "metadata": {},
   "outputs": [],
   "source": [
    "iqp.results()\n"
   ]
  },
  {
   "cell_type": "markdown",
   "metadata": {},
   "source": [
    "This returns a dictionary, whose results may depend on calibration data changing by date. In our experiments, it returns\n"
   ]
  },
  {
   "cell_type": "markdown",
   "metadata": {},
   "source": [
    "To run on real devices, we can execute\n",
    "\n"
   ]
  },
  {
   "cell_type": "code",
   "execution_count": null,
   "metadata": {},
   "outputs": [],
   "source": [
    "iqp.run(shots = 4096)\n"
   ]
  },
  {
   "cell_type": "markdown",
   "metadata": {},
   "source": [
    "Here shots represent the number of repetition of the experiment. After queuing and executing, you may retrieve the results by calling iqp.results()."
   ]
  }
 ],
 "metadata": {
  "language_info": {
   "name": "python"
  },
  "orig_nbformat": 4
 },
 "nbformat": 4,
 "nbformat_minor": 2
}
