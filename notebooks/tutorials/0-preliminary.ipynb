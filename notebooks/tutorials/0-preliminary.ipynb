{
 "cells": [
  {
   "cell_type": "markdown",
   "metadata": {},
   "source": [
    "# Simulation of quantum systems\n",
    "\n",
    "In this notebook, we introduce the concepts of quantum simulation and the basic usage of SimuQ. \n",
    "\n",
    "Given a Hamiltonian $H$, the time evolution of a quantum system is governed by the Schrödinger equation. $$i\\frac{d}{dt}|\\psi(t)\\rangle = H|\\psi(t)\\rangle.$$\n",
    "\n",
    "Simulation of quantum systems is to solve the Schrödinger equation and obtain the system's state at a given time.\n",
    "\n",
    "Due to the exponentially-large Hilbert space, a classical computer can not effectively simulate a quantum system's time evolution in general. SimuQ provides a general and flexible way to simulate the time evolution of a quantum system using quantum computers.\n",
    "\n"
   ]
  },
  {
   "cell_type": "markdown",
   "metadata": {},
   "source": [
    "## Installation"
   ]
  },
  {
   "cell_type": "markdown",
   "metadata": {},
   "source": [
    "You may install SimuQ directly via `pip`:"
   ]
  },
  {
   "cell_type": "code",
   "execution_count": 1,
   "metadata": {},
   "outputs": [
    {
     "name": "stdout",
     "output_type": "stream",
     "text": [
      "Requirement already satisfied: simuq[braket,qiskit,qutip] in /Users/liupengyu/miniconda3/envs/simuq/lib/python3.11/site-packages (0.2.0)\n",
      "Requirement already satisfied: numpy in /Users/liupengyu/miniconda3/envs/simuq/lib/python3.11/site-packages (from simuq[braket,qiskit,qutip]) (1.23.5)\n",
      "Requirement already satisfied: scipy in /Users/liupengyu/miniconda3/envs/simuq/lib/python3.11/site-packages (from simuq[braket,qiskit,qutip]) (1.11.2)\n",
      "Requirement already satisfied: networkx in /Users/liupengyu/miniconda3/envs/simuq/lib/python3.11/site-packages (from simuq[braket,qiskit,qutip]) (3.1)\n",
      "Requirement already satisfied: matplotlib in /Users/liupengyu/miniconda3/envs/simuq/lib/python3.11/site-packages (from simuq[braket,qiskit,qutip]) (3.8.0)\n",
      "Requirement already satisfied: amazon-braket-sdk in /Users/liupengyu/miniconda3/envs/simuq/lib/python3.11/site-packages (from simuq[braket,qiskit,qutip]) (1.55.1)\n",
      "Requirement already satisfied: qiskit in /Users/liupengyu/miniconda3/envs/simuq/lib/python3.11/site-packages (from simuq[braket,qiskit,qutip]) (0.44.1)\n",
      "Requirement already satisfied: qiskit-terra in /Users/liupengyu/miniconda3/envs/simuq/lib/python3.11/site-packages (from simuq[braket,qiskit,qutip]) (0.25.1)\n",
      "Requirement already satisfied: qutip in /Users/liupengyu/miniconda3/envs/simuq/lib/python3.11/site-packages (from simuq[braket,qiskit,qutip]) (4.7.3)\n",
      "Requirement already satisfied: amazon-braket-schemas>=1.19.1 in /Users/liupengyu/miniconda3/envs/simuq/lib/python3.11/site-packages (from amazon-braket-sdk->simuq[braket,qiskit,qutip]) (1.19.1.post0)\n",
      "Requirement already satisfied: amazon-braket-default-simulator>=1.19.1 in /Users/liupengyu/miniconda3/envs/simuq/lib/python3.11/site-packages (from amazon-braket-sdk->simuq[braket,qiskit,qutip]) (1.20.0.post0)\n",
      "Requirement already satisfied: oqpy~=0.2.1 in /Users/liupengyu/miniconda3/envs/simuq/lib/python3.11/site-packages (from amazon-braket-sdk->simuq[braket,qiskit,qutip]) (0.2.1)\n",
      "Requirement already satisfied: setuptools in /Users/liupengyu/miniconda3/envs/simuq/lib/python3.11/site-packages (from amazon-braket-sdk->simuq[braket,qiskit,qutip]) (68.0.0)\n",
      "Requirement already satisfied: backoff in /Users/liupengyu/miniconda3/envs/simuq/lib/python3.11/site-packages (from amazon-braket-sdk->simuq[braket,qiskit,qutip]) (2.2.1)\n",
      "Requirement already satisfied: boltons in /Users/liupengyu/miniconda3/envs/simuq/lib/python3.11/site-packages (from amazon-braket-sdk->simuq[braket,qiskit,qutip]) (23.0.0)\n",
      "Requirement already satisfied: boto3>=1.22.3 in /Users/liupengyu/miniconda3/envs/simuq/lib/python3.11/site-packages (from amazon-braket-sdk->simuq[braket,qiskit,qutip]) (1.28.49)\n",
      "Requirement already satisfied: nest-asyncio in /Users/liupengyu/miniconda3/envs/simuq/lib/python3.11/site-packages (from amazon-braket-sdk->simuq[braket,qiskit,qutip]) (1.5.7)\n",
      "Requirement already satisfied: openpulse in /Users/liupengyu/miniconda3/envs/simuq/lib/python3.11/site-packages (from amazon-braket-sdk->simuq[braket,qiskit,qutip]) (0.4.2)\n",
      "Requirement already satisfied: openqasm3 in /Users/liupengyu/miniconda3/envs/simuq/lib/python3.11/site-packages (from amazon-braket-sdk->simuq[braket,qiskit,qutip]) (0.4.0)\n",
      "Requirement already satisfied: sympy in /Users/liupengyu/miniconda3/envs/simuq/lib/python3.11/site-packages (from amazon-braket-sdk->simuq[braket,qiskit,qutip]) (1.12)\n",
      "Requirement already satisfied: contourpy>=1.0.1 in /Users/liupengyu/miniconda3/envs/simuq/lib/python3.11/site-packages (from matplotlib->simuq[braket,qiskit,qutip]) (1.1.1)\n",
      "Requirement already satisfied: cycler>=0.10 in /Users/liupengyu/miniconda3/envs/simuq/lib/python3.11/site-packages (from matplotlib->simuq[braket,qiskit,qutip]) (0.11.0)\n",
      "Requirement already satisfied: fonttools>=4.22.0 in /Users/liupengyu/miniconda3/envs/simuq/lib/python3.11/site-packages (from matplotlib->simuq[braket,qiskit,qutip]) (4.42.1)\n",
      "Requirement already satisfied: kiwisolver>=1.0.1 in /Users/liupengyu/miniconda3/envs/simuq/lib/python3.11/site-packages (from matplotlib->simuq[braket,qiskit,qutip]) (1.4.5)\n",
      "Requirement already satisfied: packaging>=20.0 in /Users/liupengyu/miniconda3/envs/simuq/lib/python3.11/site-packages (from matplotlib->simuq[braket,qiskit,qutip]) (23.1)\n",
      "Requirement already satisfied: pillow>=6.2.0 in /Users/liupengyu/miniconda3/envs/simuq/lib/python3.11/site-packages (from matplotlib->simuq[braket,qiskit,qutip]) (10.0.1)\n",
      "Requirement already satisfied: pyparsing>=2.3.1 in /Users/liupengyu/miniconda3/envs/simuq/lib/python3.11/site-packages (from matplotlib->simuq[braket,qiskit,qutip]) (3.1.1)\n",
      "Requirement already satisfied: python-dateutil>=2.7 in /Users/liupengyu/miniconda3/envs/simuq/lib/python3.11/site-packages (from matplotlib->simuq[braket,qiskit,qutip]) (2.8.2)\n",
      "Requirement already satisfied: rustworkx>=0.13.0 in /Users/liupengyu/miniconda3/envs/simuq/lib/python3.11/site-packages (from qiskit-terra->simuq[braket,qiskit,qutip]) (0.13.1)\n",
      "Requirement already satisfied: ply>=3.10 in /Users/liupengyu/miniconda3/envs/simuq/lib/python3.11/site-packages (from qiskit-terra->simuq[braket,qiskit,qutip]) (3.11)\n",
      "Requirement already satisfied: psutil>=5 in /Users/liupengyu/miniconda3/envs/simuq/lib/python3.11/site-packages (from qiskit-terra->simuq[braket,qiskit,qutip]) (5.9.5)\n",
      "Requirement already satisfied: dill>=0.3 in /Users/liupengyu/miniconda3/envs/simuq/lib/python3.11/site-packages (from qiskit-terra->simuq[braket,qiskit,qutip]) (0.3.7)\n",
      "Requirement already satisfied: stevedore>=3.0.0 in /Users/liupengyu/miniconda3/envs/simuq/lib/python3.11/site-packages (from qiskit-terra->simuq[braket,qiskit,qutip]) (5.1.0)\n",
      "Requirement already satisfied: symengine<0.10,>=0.9 in /Users/liupengyu/miniconda3/envs/simuq/lib/python3.11/site-packages (from qiskit-terra->simuq[braket,qiskit,qutip]) (0.9.2)\n",
      "Requirement already satisfied: opt-einsum in /Users/liupengyu/miniconda3/envs/simuq/lib/python3.11/site-packages (from amazon-braket-default-simulator>=1.19.1->amazon-braket-sdk->simuq[braket,qiskit,qutip]) (3.3.0)\n",
      "Requirement already satisfied: pydantic<2.0,>=1.9 in /Users/liupengyu/miniconda3/envs/simuq/lib/python3.11/site-packages (from amazon-braket-default-simulator>=1.19.1->amazon-braket-sdk->simuq[braket,qiskit,qutip]) (1.10.12)\n",
      "Requirement already satisfied: antlr4-python3-runtime==4.9.2 in /Users/liupengyu/miniconda3/envs/simuq/lib/python3.11/site-packages (from amazon-braket-default-simulator>=1.19.1->amazon-braket-sdk->simuq[braket,qiskit,qutip]) (4.9.2)\n",
      "Requirement already satisfied: botocore<1.32.0,>=1.31.49 in /Users/liupengyu/miniconda3/envs/simuq/lib/python3.11/site-packages (from boto3>=1.22.3->amazon-braket-sdk->simuq[braket,qiskit,qutip]) (1.31.49)\n",
      "Requirement already satisfied: jmespath<2.0.0,>=0.7.1 in /Users/liupengyu/miniconda3/envs/simuq/lib/python3.11/site-packages (from boto3>=1.22.3->amazon-braket-sdk->simuq[braket,qiskit,qutip]) (1.0.1)\n",
      "Requirement already satisfied: s3transfer<0.7.0,>=0.6.0 in /Users/liupengyu/miniconda3/envs/simuq/lib/python3.11/site-packages (from boto3>=1.22.3->amazon-braket-sdk->simuq[braket,qiskit,qutip]) (0.6.2)\n",
      "Requirement already satisfied: mypy-extensions>=0.2.0 in /Users/liupengyu/miniconda3/envs/simuq/lib/python3.11/site-packages (from oqpy~=0.2.1->amazon-braket-sdk->simuq[braket,qiskit,qutip]) (1.0.0)\n",
      "Requirement already satisfied: six>=1.5 in /Users/liupengyu/miniconda3/envs/simuq/lib/python3.11/site-packages (from python-dateutil>=2.7->matplotlib->simuq[braket,qiskit,qutip]) (1.16.0)\n",
      "Requirement already satisfied: pbr!=2.1.0,>=2.0.0 in /Users/liupengyu/miniconda3/envs/simuq/lib/python3.11/site-packages (from stevedore>=3.0.0->qiskit-terra->simuq[braket,qiskit,qutip]) (5.11.1)\n",
      "Requirement already satisfied: mpmath>=0.19 in /Users/liupengyu/miniconda3/envs/simuq/lib/python3.11/site-packages (from sympy->amazon-braket-sdk->simuq[braket,qiskit,qutip]) (1.3.0)\n",
      "Requirement already satisfied: urllib3<1.27,>=1.25.4 in /Users/liupengyu/miniconda3/envs/simuq/lib/python3.11/site-packages (from botocore<1.32.0,>=1.31.49->boto3>=1.22.3->amazon-braket-sdk->simuq[braket,qiskit,qutip]) (1.26.16)\n",
      "Requirement already satisfied: typing-extensions>=4.2.0 in /Users/liupengyu/miniconda3/envs/simuq/lib/python3.11/site-packages (from pydantic<2.0,>=1.9->amazon-braket-default-simulator>=1.19.1->amazon-braket-sdk->simuq[braket,qiskit,qutip]) (4.7.1)\n",
      "Note: you may need to restart the kernel to use updated packages.\n"
     ]
    }
   ],
   "source": [
    "%pip install \"simuq[qutip,braket,qiskit]\""
   ]
  },
  {
   "cell_type": "markdown",
   "metadata": {},
   "source": [
    "We start with programming the Ising model on a 3 qubit chain.\n",
    "\n",
    "# Prepare the python environment\n"
   ]
  },
  {
   "cell_type": "code",
   "execution_count": 2,
   "metadata": {},
   "outputs": [],
   "source": [
    "from simuq import QSystem\n",
    "from simuq import Qubit"
   ]
  },
  {
   "cell_type": "markdown",
   "metadata": {},
   "source": [
    "Here `QSystem` is the class for quantum systems, and `qubit` is the class for qubit sites.\n",
    "\n",
    "## Define the evolution\n",
    "\n",
    "First we create a quantum system and a list of qubit sites."
   ]
  },
  {
   "cell_type": "code",
   "execution_count": 3,
   "metadata": {},
   "outputs": [],
   "source": [
    "n_qubits = 3\n",
    "qs = QSystem()\n",
    "q1,q2,q3=Qubit(qs),Qubit(qs),Qubit(qs)\n"
   ]
  },
  {
   "cell_type": "markdown",
   "metadata": {},
   "source": [
    "Suppose our target is a short evolution governed by an constant Ising Hamiltonian $H=X_1X_2+X_2X_3+Z_1+Z_2+Z_3$. We can program the evolution as follows."
   ]
  },
  {
   "cell_type": "code",
   "execution_count": 4,
   "metadata": {},
   "outputs": [],
   "source": [
    "h = q1.X * q2.X + q2.X * q3.X + q1.Z + q2.Z + q3.Z"
   ]
  },
  {
   "cell_type": "markdown",
   "metadata": {},
   "source": [
    "We add a $T=1$ time evolution under $H$ to the quantum system.\n"
   ]
  },
  {
   "cell_type": "code",
   "execution_count": 5,
   "metadata": {},
   "outputs": [],
   "source": [
    "T = 1\n",
    "qs.add_evolution(h, T)"
   ]
  },
  {
   "cell_type": "markdown",
   "metadata": {},
   "source": [
    "Then `qs` contains the evolution of $H$ for time $T$."
   ]
  },
  {
   "cell_type": "markdown",
   "metadata": {},
   "source": [
    "# Create a QuTiP provider\n",
    "\n",
    "A provider is a user interface for convenient manipulations of functionalities of SimuQ. QuTiP is a python package for simulating the dynamics of open quantum systems. \n",
    "\n",
    "We use QuTiP provider as a basic example on how to use providers to deploy quantum simulation problems on devices and obtain results.\n",
    "\n",
    "We can create a QuTiP provider via the following code\n"
   ]
  },
  {
   "cell_type": "code",
   "execution_count": 6,
   "metadata": {},
   "outputs": [],
   "source": [
    "from simuq.qutip import QuTiPProvider\n",
    "qpp = QuTiPProvider()"
   ]
  },
  {
   "cell_type": "markdown",
   "metadata": {},
   "source": [
    "## Compilation in provider\n",
    "\n",
    "To simulate a quantum system `qs` programmed in HML via SimuQ, we need three major steps of a provider: `compile`, `run`, `results`.\n",
    "\n",
    "We call the `compile` function of the provider to process the system into a runnable executable. For QuTiP provider, we can execute"
   ]
  },
  {
   "cell_type": "code",
   "execution_count": 7,
   "metadata": {},
   "outputs": [
    {
     "name": "stdout",
     "output_type": "stream",
     "text": [
      "Compiled.\n"
     ]
    }
   ],
   "source": [
    "qpp.compile(qs)"
   ]
  },
  {
   "cell_type": "markdown",
   "metadata": {},
   "source": [
    "QuTiP provider processes the quantum system `qs` and translate it into a Hamiltonian in QuTiP. \n",
    "\n",
    "For other providers, compile command may specify the backend device, AAIS, and compiler specifications.\n",
    "\n",
    "When compilation succeeds, the job will be recorded in the provider.\n",
    "\n",
    "## Run and obtain results from providers\n",
    "\n",
    "Running a job will send the compilation results to backend devices to execute. For QuTiP provider, we execute\n"
   ]
  },
  {
   "cell_type": "code",
   "execution_count": 8,
   "metadata": {},
   "outputs": [
    {
     "name": "stdout",
     "output_type": "stream",
     "text": [
      "Solved.\n"
     ]
    }
   ],
   "source": [
    "qpp.run()"
   ]
  },
  {
   "cell_type": "markdown",
   "metadata": {},
   "source": [
    "To retrieve the results, we can execute"
   ]
  },
  {
   "cell_type": "code",
   "execution_count": 9,
   "metadata": {},
   "outputs": [
    {
     "data": {
      "text/plain": [
       "{'000': 0.697205360082755,\n",
       " '001': 0.0,\n",
       " '010': 0.0,\n",
       " '011': 0.05973358916350665,\n",
       " '100': 0.0,\n",
       " '101': 0.18332746159023183,\n",
       " '110': 0.05973358916350665,\n",
       " '111': 0.0}"
      ]
     },
     "execution_count": 9,
     "metadata": {},
     "output_type": "execute_result"
    }
   ],
   "source": [
    "qpp.results()"
   ]
  },
  {
   "cell_type": "markdown",
   "metadata": {},
   "source": [
    "A dictionary is returned, which contains the frequencies of obtaining a measurement array (encoded as a 0/1 string). A bit in the string corresponds to a site of the quantum system. \n",
    "\n",
    "We can call the following code to show the order of the sites in the measurement output."
   ]
  },
  {
   "cell_type": "code",
   "execution_count": 10,
   "metadata": {},
   "outputs": [
    {
     "name": "stdout",
     "output_type": "stream",
     "text": [
      "Order of sites: ['Qubit0', 'Qubit1', 'Qubit2']\n"
     ]
    }
   ],
   "source": [
    "qpp.print_sites()"
   ]
  },
  {
   "cell_type": "markdown",
   "metadata": {},
   "source": [
    "# Time dependent simulation\n",
    "SimuQ also support simulating time dependent Hamiltonians. We use quantum annealing as an example to show how to program a time dependent Hamiltonian.\n",
    "\n",
    "In quantum annealing, the Hamiltonian is a linear interpolation between an initial Hamiltonian $H_0$ and a target Hamiltonian $H_1$. $$H(t)=(1-\\frac{t}{T})H_0+\\frac{t}{T}H_1.$$ So that the state will evolve from the ground state of $H_0$ to the ground state of $H_1$.\n",
    "\n",
    "In the following example, $H_0$ is chosen to be single qubit $Z$ operators on each site, and $H_1$ is chosen to be the $ZZ$ interaction between neighboring sites in a ring."
   ]
  },
  {
   "cell_type": "code",
   "execution_count": 11,
   "metadata": {},
   "outputs": [],
   "source": [
    "import numpy as np\n",
    "\n",
    "def anneal(h0, h1, T):\n",
    "    def f(t):\n",
    "        return (1 - t / T) * h0 + t / T * h1\n",
    "\n",
    "    return f\n",
    "\n",
    "\n",
    "n = 4  # num of qubits\n",
    "m = 10  # discretization\n",
    "T = 5  # evolution time\n",
    "\n",
    "qs = QSystem()\n",
    "q = [Qubit(qs) for _ in range(n)]\n",
    "h0, h1 = 0, 0\n",
    "for i in range(n):\n",
    "    h0 += q[i].X\n",
    "for i in range(n):\n",
    "    h1 += q[i % n].Z * q[(i + 1) % n].Z\n",
    "\n",
    "qs.add_td_evolution(anneal(h0, h1, T), np.linspace(0, T, m))\n"
   ]
  },
  {
   "cell_type": "markdown",
   "metadata": {},
   "source": [
    "Next, we use qutip provider to run the simulation."
   ]
  },
  {
   "cell_type": "code",
   "execution_count": 12,
   "metadata": {},
   "outputs": [],
   "source": [
    "from simuq.qutip import QuTiPProvider\n",
    "qpp = QuTiPProvider()"
   ]
  },
  {
   "cell_type": "markdown",
   "metadata": {},
   "source": [
    "Before we run the simulation, we need to prepare the initial state to the ground state of $H_0$, which is $|-\\rangle^{\\otimes N}$"
   ]
  },
  {
   "cell_type": "code",
   "execution_count": 13,
   "metadata": {},
   "outputs": [],
   "source": [
    "from qutip import Qobj,tensor\n",
    "minus = Qobj([[1],[-1]])/np.sqrt(2)\n",
    "initial_state=tensor([minus] * 4)"
   ]
  },
  {
   "cell_type": "markdown",
   "metadata": {},
   "source": [
    "Next, we compile and run with the given initial state."
   ]
  },
  {
   "cell_type": "code",
   "execution_count": 14,
   "metadata": {},
   "outputs": [
    {
     "name": "stdout",
     "output_type": "stream",
     "text": [
      "Compiled.\n",
      "Solved.\n"
     ]
    },
    {
     "data": {
      "text/plain": [
       "{'0000': 1.5230890114860354e-07,\n",
       " '0001': 0.005297099980634664,\n",
       " '0010': 0.005297099980634658,\n",
       " '0011': 0.010332546307168037,\n",
       " '0100': 0.005297099980634611,\n",
       " '0101': 0.45814635515422436,\n",
       " '0110': 0.010332546307168023,\n",
       " '0111': 0.00529709998063466,\n",
       " '1000': 0.00529709998063466,\n",
       " '1001': 0.010332546307168006,\n",
       " '1010': 0.45814635515422364,\n",
       " '1011': 0.005297099980634637,\n",
       " '1100': 0.01033254630716806,\n",
       " '1101': 0.005297099980634631,\n",
       " '1110': 0.005297099980634674,\n",
       " '1111': 1.5230890114880148e-07}"
      ]
     },
     "execution_count": 14,
     "metadata": {},
     "output_type": "execute_result"
    }
   ],
   "source": [
    "qpp.compile(qs, initial_state=initial_state)\n",
    "qpp.run()\n",
    "results = qpp.results()\n",
    "results"
   ]
  },
  {
   "cell_type": "markdown",
   "metadata": {},
   "source": [
    "To understant the quality of the result, we calculated the average energy."
   ]
  },
  {
   "cell_type": "code",
   "execution_count": 15,
   "metadata": {},
   "outputs": [
    {
     "data": {
      "text/plain": [
       "-3.665169622762583"
      ]
     },
     "execution_count": 15,
     "metadata": {},
     "output_type": "execute_result"
    }
   ],
   "source": [
    "def calc_average_energy(results):\n",
    "    energy_avg = 0\n",
    "    for result in results:\n",
    "        energy=0\n",
    "        for i in range(n):\n",
    "            if result[i] != result[(i + 1) % n]:\n",
    "                energy -= 1\n",
    "            else:\n",
    "                energy += 1\n",
    "        energy_avg+=energy * results[result]\n",
    "    return energy_avg\n",
    "\n",
    "calc_average_energy(results)"
   ]
  },
  {
   "cell_type": "markdown",
   "metadata": {},
   "source": [
    "This is pretty close to the ground state energy of $H_1$, which is $-4$. The eigenstates are $|0101\\rangle$ and $|1010\\rangle$."
   ]
  },
  {
   "cell_type": "markdown",
   "metadata": {},
   "source": [
    "# Non qubit systems\n",
    "\n",
    "Thanks to the abstraction of a `site`, simuq can handle non-qubit systems as well with a uniform interface."
   ]
  },
  {
   "cell_type": "code",
   "execution_count": 16,
   "metadata": {},
   "outputs": [],
   "source": [
    "from simuq.environment import Fermion\n",
    "from simuq.qsystem import QSystem\n",
    "from simuq.transformation import jw_transform\n",
    "\n",
    "D = 2\n",
    "\n",
    "qs = QSystem()\n",
    "f = [Fermion(qs) for _ in range(D)]\n",
    "\n",
    "gamma_x = [f[i].a + f[i].c for i in range(D)]\n",
    "gamma_y = [-1j * (f[i].a - f[i].c) for i in range(D)]\n",
    "\n",
    "h = 1j * gamma_y[0] * gamma_x[1]\n",
    "qs.add_evolution(h, 1)\n",
    "\n",
    "new_qs, new_sites = jw_transform(qs)"
   ]
  },
  {
   "cell_type": "markdown",
   "metadata": {},
   "source": [
    "We can inspect the hamiltonian of `new_qs` with the following code:"
   ]
  },
  {
   "cell_type": "code",
   "execution_count": 17,
   "metadata": {},
   "outputs": [
    {
     "data": {
      "text/plain": [
       "[(['X', 'X'], (-1+0j))]"
      ]
     },
     "execution_count": 17,
     "metadata": {},
     "output_type": "execute_result"
    }
   ],
   "source": [
    "new_qs.evos[0][0].ham"
   ]
  }
 ],
 "metadata": {
  "kernelspec": {
   "display_name": "lpy",
   "language": "python",
   "name": "python3"
  },
  "language_info": {
   "codemirror_mode": {
    "name": "ipython",
    "version": 3
   },
   "file_extension": ".py",
   "mimetype": "text/x-python",
   "name": "python",
   "nbconvert_exporter": "python",
   "pygments_lexer": "ipython3",
   "version": "3.11.5"
  },
  "orig_nbformat": 4
 },
 "nbformat": 4,
 "nbformat_minor": 2
}
