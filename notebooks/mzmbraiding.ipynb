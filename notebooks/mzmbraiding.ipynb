{
 "cells": [
  {
   "cell_type": "code",
   "execution_count": 1,
   "id": "24a177e2",
   "metadata": {},
   "outputs": [],
   "source": [
    "%load_ext autoreload\n",
    "%autoreload 1\n",
    "import sys\n",
    "sys.path.append('..')"
   ]
  },
  {
   "cell_type": "code",
   "execution_count": 2,
   "id": "2f3bac74",
   "metadata": {},
   "outputs": [],
   "source": [
    "from qiskit.providers.fake_provider import FakeJakarta\n",
    "backend=FakeJakarta()\n",
    "\n",
    "from simuq.solver import generate_as\n",
    "from simuq.systems.mzmbraiding import qs\n",
    "from simuq.aais.ibm_braiding import mach\n",
    "from simuq.backends.qiskit_braiding import transpile\n",
    "#from systems.annealing import qs\n",
    "#from aais.ibm import get_mach\n",
    "#mach = get_mach(backend)\n",
    "#from backends.qiskit_pulse_ibm import transpile"
   ]
  },
  {
   "cell_type": "code",
   "execution_count": 3,
   "id": "b7907a03",
   "metadata": {},
   "outputs": [],
   "source": [
    "from simuq.transformation import JW_transform\n",
    "new_qs, new_sites = JW_transform(qs)"
   ]
  },
  {
   "cell_type": "code",
   "execution_count": 4,
   "id": "ccc95667",
   "metadata": {},
   "outputs": [
    {
     "data": {
      "text/plain": [
       "[(['', '', ''], (9+0j)),\n",
       " (['Z', '', ''], (-3+0j)),\n",
       " (['', 'Z', ''], (-3+0j)),\n",
       " (['', '', 'Z'], (-3+0j)),\n",
       " (['Y', 'X', ''], (1-0j)),\n",
       " (['Y', 'Z', 'X'], (-1+0j)),\n",
       " (['', 'Y', 'X'], (1-0j))]"
      ]
     },
     "execution_count": 4,
     "metadata": {},
     "output_type": "execute_result"
    }
   ],
   "source": [
    "new_qs.evos[0][0].ham"
   ]
  },
  {
   "cell_type": "code",
   "execution_count": 5,
   "id": "c945c671",
   "metadata": {},
   "outputs": [
    {
     "name": "stdout",
     "output_type": "stream",
     "text": [
      "[(0, 1), (1, 2)]\n"
     ]
    }
   ],
   "source": [
    "Trot = 1\n",
    "tol = 0.1\n",
    "\n",
    "circ = transpile(backend, *generate_as(new_qs, mach, Trot, 'least_squares', tol))"
   ]
  },
  {
   "cell_type": "code",
   "execution_count": 6,
   "id": "58b50e64",
   "metadata": {},
   "outputs": [
    {
     "data": {
      "text/html": [
       "<pre style=\"word-wrap: normal;white-space: pre;background: #fff0;line-height: 1.1;font-family: &quot;Courier New&quot;,Courier,monospace\">global phase: 0\n",
       "     ┌──────────┐   ┌───┐   ┌────────────────┐                                 »\n",
       "q_0: ┤ Rz(-π/2) ├───┤ H ├───┤0               ├─────────────────────────────────»\n",
       "     └──┬───┬───┘┌──┴───┴──┐│  Rzx(-0.60561) │┌──────────┐┌───┐┌──────────────┐»\n",
       "q_1: ───┤ H ├────┤ Rz(π/2) ├┤1               ├┤ Rz(-π/2) ├┤ H ├┤1             ├»\n",
       "        ├───┤    └─────────┘└────────────────┘└──────────┘└───┘│  Rzx(2.3768) │»\n",
       "q_2: ───┤ H ├──────────────────────────────────────────────────┤0             ├»\n",
       "        └───┘                                                  └──────────────┘»\n",
       "«                     ┌──────────────┐                                        »\n",
       "«q_0: ────────────────┤0             ├────────────────────────────────────────»\n",
       "«     ┌───┐┌─────────┐│  Rzx(2.3768) │┌──────────┐┌───┐┌────────────────┐┌───┐»\n",
       "«q_1: ┤ H ├┤ Rz(π/2) ├┤1             ├┤ Rz(-π/2) ├┤ H ├┤1               ├┤ H ├»\n",
       "«     └───┘└─────────┘└──────────────┘└──────────┘└───┘│  Rzx(-0.60561) │└───┘»\n",
       "«q_2: ─────────────────────────────────────────────────┤0               ├─────»\n",
       "«                                                      └────────────────┘     »\n",
       "«                ┌────────────────┐                                      »\n",
       "«q_0: ───────────┤0               ├──────────────────────────────────────»\n",
       "«     ┌─────────┐│  Rzx(-0.60561) │┌──────────┐┌───┐┌──────────────┐┌───┐»\n",
       "«q_1: ┤ Rz(π/2) ├┤1               ├┤ Rz(-π/2) ├┤ H ├┤1             ├┤ H ├»\n",
       "«     └─────────┘└────────────────┘└──────────┘└───┘│  Rzx(2.3768) │└───┘»\n",
       "«q_2: ──────────────────────────────────────────────┤0             ├─────»\n",
       "«                                                   └──────────────┘     »\n",
       "«                ┌──────────────┐                                        »\n",
       "«q_0: ───────────┤0             ├────────────────────────────────────────»\n",
       "«     ┌─────────┐│  Rzx(2.3768) │┌──────────┐┌───┐┌────────────────┐┌───┐»\n",
       "«q_1: ┤ Rz(π/2) ├┤1             ├┤ Rz(-π/2) ├┤ H ├┤1               ├┤ H ├»\n",
       "«     └─────────┘└──────────────┘└──────────┘└───┘│  Rzx(-0.60561) │└───┘»\n",
       "«q_2: ────────────────────────────────────────────┤0               ├─────»\n",
       "«                                                 └────────────────┘     »\n",
       "«                ┌────────────────┐                                      »\n",
       "«q_0: ───────────┤0               ├──────────────────────────────────────»\n",
       "«     ┌─────────┐│  Rzx(-0.60561) │┌──────────┐┌───┐┌──────────────┐┌───┐»\n",
       "«q_1: ┤ Rz(π/2) ├┤1               ├┤ Rz(-π/2) ├┤ H ├┤1             ├┤ H ├»\n",
       "«     └─────────┘└────────────────┘└──────────┘└───┘│  Rzx(2.3768) │└───┘»\n",
       "«q_2: ──────────────────────────────────────────────┤0             ├─────»\n",
       "«                                                   └──────────────┘     »\n",
       "«                ┌──────────────┐                                        »\n",
       "«q_0: ───────────┤0             ├────────────────────────────────────────»\n",
       "«     ┌─────────┐│  Rzx(2.3768) │┌──────────┐┌───┐┌────────────────┐┌───┐»\n",
       "«q_1: ┤ Rz(π/2) ├┤1             ├┤ Rz(-π/2) ├┤ H ├┤1               ├┤ H ├»\n",
       "«     └─────────┘└──────────────┘└──────────┘└───┘│  Rzx(-0.60561) │└───┘»\n",
       "«q_2: ────────────────────────────────────────────┤0               ├─────»\n",
       "«                                                 └────────────────┘     »\n",
       "«                ┌────────────────┐                                      »\n",
       "«q_0: ───────────┤0               ├──────────────────────────────────────»\n",
       "«     ┌─────────┐│  Rzx(-0.60561) │┌──────────┐┌───┐┌──────────────┐┌───┐»\n",
       "«q_1: ┤ Rz(π/2) ├┤1               ├┤ Rz(-π/2) ├┤ H ├┤1             ├┤ H ├»\n",
       "«     └─────────┘└────────────────┘└──────────┘└───┘│  Rzx(2.3768) │└───┘»\n",
       "«q_2: ──────────────────────────────────────────────┤0             ├─────»\n",
       "«                                                   └──────────────┘     »\n",
       "«                ┌──────────────┐                                   ┌─────────┐»\n",
       "«q_0: ───────────┤0             ├───────────────────────────────────┤0        ├»\n",
       "«     ┌─────────┐│  Rzx(2.3768) │┌──────────┐┌───┐┌────────────────┐│  Rzx(2) │»\n",
       "«q_1: ┤ Rz(π/2) ├┤1             ├┤ Rz(-π/2) ├┤ H ├┤1               ├┤1        ├»\n",
       "«     └─────────┘└──────────────┘└──────────┘└───┘│  Rzx(-0.60561) │└──┬───┬──┘»\n",
       "«q_2: ────────────────────────────────────────────┤0               ├───┤ H ├───»\n",
       "«                                                 └────────────────┘   └───┘   »\n",
       "«        ┌───┐    ┌─────────────┐                               \n",
       "«q_0: ───┤ H ├────┤ Rz(-4.4292) ├───────────────────────────────\n",
       "«     ┌──┴───┴───┐└────┬───┬────┘┌─────────┐┌───┐┌─────────────┐\n",
       "«q_1: ┤ Rz(-π/2) ├─────┤ H ├─────┤0        ├┤ H ├┤ Rz(-4.4292) ├\n",
       "«     └┬────────┬┘     └───┘     │  Rzx(2) │└───┘└─────────────┘\n",
       "«q_2: ─┤ Rz(-6) ├────────────────┤1        ├────────────────────\n",
       "«      └────────┘                └─────────┘                    </pre>"
      ],
      "text/plain": [
       "global phase: 0\n",
       "     ┌──────────┐   ┌───┐   ┌────────────────┐                                 »\n",
       "q_0: ┤ Rz(-π/2) ├───┤ H ├───┤0               ├─────────────────────────────────»\n",
       "     └──┬───┬───┘┌──┴───┴──┐│  Rzx(-0.60561) │┌──────────┐┌───┐┌──────────────┐»\n",
       "q_1: ───┤ H ├────┤ Rz(π/2) ├┤1               ├┤ Rz(-π/2) ├┤ H ├┤1             ├»\n",
       "        ├───┤    └─────────┘└────────────────┘└──────────┘└───┘│  Rzx(2.3768) │»\n",
       "q_2: ───┤ H ├──────────────────────────────────────────────────┤0             ├»\n",
       "        └───┘                                                  └──────────────┘»\n",
       "«                     ┌──────────────┐                                        »\n",
       "«q_0: ────────────────┤0             ├────────────────────────────────────────»\n",
       "«     ┌───┐┌─────────┐│  Rzx(2.3768) │┌──────────┐┌───┐┌────────────────┐┌───┐»\n",
       "«q_1: ┤ H ├┤ Rz(π/2) ├┤1             ├┤ Rz(-π/2) ├┤ H ├┤1               ├┤ H ├»\n",
       "«     └───┘└─────────┘└──────────────┘└──────────┘└───┘│  Rzx(-0.60561) │└───┘»\n",
       "«q_2: ─────────────────────────────────────────────────┤0               ├─────»\n",
       "«                                                      └────────────────┘     »\n",
       "«                ┌────────────────┐                                      »\n",
       "«q_0: ───────────┤0               ├──────────────────────────────────────»\n",
       "«     ┌─────────┐│  Rzx(-0.60561) │┌──────────┐┌───┐┌──────────────┐┌───┐»\n",
       "«q_1: ┤ Rz(π/2) ├┤1               ├┤ Rz(-π/2) ├┤ H ├┤1             ├┤ H ├»\n",
       "«     └─────────┘└────────────────┘└──────────┘└───┘│  Rzx(2.3768) │└───┘»\n",
       "«q_2: ──────────────────────────────────────────────┤0             ├─────»\n",
       "«                                                   └──────────────┘     »\n",
       "«                ┌──────────────┐                                        »\n",
       "«q_0: ───────────┤0             ├────────────────────────────────────────»\n",
       "«     ┌─────────┐│  Rzx(2.3768) │┌──────────┐┌───┐┌────────────────┐┌───┐»\n",
       "«q_1: ┤ Rz(π/2) ├┤1             ├┤ Rz(-π/2) ├┤ H ├┤1               ├┤ H ├»\n",
       "«     └─────────┘└──────────────┘└──────────┘└───┘│  Rzx(-0.60561) │└───┘»\n",
       "«q_2: ────────────────────────────────────────────┤0               ├─────»\n",
       "«                                                 └────────────────┘     »\n",
       "«                ┌────────────────┐                                      »\n",
       "«q_0: ───────────┤0               ├──────────────────────────────────────»\n",
       "«     ┌─────────┐│  Rzx(-0.60561) │┌──────────┐┌───┐┌──────────────┐┌───┐»\n",
       "«q_1: ┤ Rz(π/2) ├┤1               ├┤ Rz(-π/2) ├┤ H ├┤1             ├┤ H ├»\n",
       "«     └─────────┘└────────────────┘└──────────┘└───┘│  Rzx(2.3768) │└───┘»\n",
       "«q_2: ──────────────────────────────────────────────┤0             ├─────»\n",
       "«                                                   └──────────────┘     »\n",
       "«                ┌──────────────┐                                        »\n",
       "«q_0: ───────────┤0             ├────────────────────────────────────────»\n",
       "«     ┌─────────┐│  Rzx(2.3768) │┌──────────┐┌───┐┌────────────────┐┌───┐»\n",
       "«q_1: ┤ Rz(π/2) ├┤1             ├┤ Rz(-π/2) ├┤ H ├┤1               ├┤ H ├»\n",
       "«     └─────────┘└──────────────┘└──────────┘└───┘│  Rzx(-0.60561) │└───┘»\n",
       "«q_2: ────────────────────────────────────────────┤0               ├─────»\n",
       "«                                                 └────────────────┘     »\n",
       "«                ┌────────────────┐                                      »\n",
       "«q_0: ───────────┤0               ├──────────────────────────────────────»\n",
       "«     ┌─────────┐│  Rzx(-0.60561) │┌──────────┐┌───┐┌──────────────┐┌───┐»\n",
       "«q_1: ┤ Rz(π/2) ├┤1               ├┤ Rz(-π/2) ├┤ H ├┤1             ├┤ H ├»\n",
       "«     └─────────┘└────────────────┘└──────────┘└───┘│  Rzx(2.3768) │└───┘»\n",
       "«q_2: ──────────────────────────────────────────────┤0             ├─────»\n",
       "«                                                   └──────────────┘     »\n",
       "«                ┌──────────────┐                                   ┌─────────┐»\n",
       "«q_0: ───────────┤0             ├───────────────────────────────────┤0        ├»\n",
       "«     ┌─────────┐│  Rzx(2.3768) │┌──────────┐┌───┐┌────────────────┐│  Rzx(2) │»\n",
       "«q_1: ┤ Rz(π/2) ├┤1             ├┤ Rz(-π/2) ├┤ H ├┤1               ├┤1        ├»\n",
       "«     └─────────┘└──────────────┘└──────────┘└───┘│  Rzx(-0.60561) │└──┬───┬──┘»\n",
       "«q_2: ────────────────────────────────────────────┤0               ├───┤ H ├───»\n",
       "«                                                 └────────────────┘   └───┘   »\n",
       "«        ┌───┐    ┌─────────────┐                               \n",
       "«q_0: ───┤ H ├────┤ Rz(-4.4292) ├───────────────────────────────\n",
       "«     ┌──┴───┴───┐└────┬───┬────┘┌─────────┐┌───┐┌─────────────┐\n",
       "«q_1: ┤ Rz(-π/2) ├─────┤ H ├─────┤0        ├┤ H ├┤ Rz(-4.4292) ├\n",
       "«     └┬────────┬┘     └───┘     │  Rzx(2) │└───┘└─────────────┘\n",
       "«q_2: ─┤ Rz(-6) ├────────────────┤1        ├────────────────────\n",
       "«      └────────┘                └─────────┘                    "
      ]
     },
     "execution_count": 6,
     "metadata": {},
     "output_type": "execute_result"
    }
   ],
   "source": [
    "circ.draw()"
   ]
  },
  {
   "cell_type": "code",
   "execution_count": 7,
   "id": "d8ada597",
   "metadata": {},
   "outputs": [
    {
     "ename": "MissingOptionalLibraryError",
     "evalue": "\"The 'Matplotlib' library is required to use 'plot_histogram'. You can install it with 'pip install matplotlib'.\"",
     "output_type": "error",
     "traceback": [
      "\u001b[0;31m---------------------------------------------------------------------------\u001b[0m",
      "\u001b[0;31mModuleNotFoundError\u001b[0m                       Traceback (most recent call last)",
      "File \u001b[0;32m~/.pyenv/versions/3.9.6/envs/simuq-3.9.6/lib/python3.9/site-packages/qiskit/visualization/pulse_v2/interface.py:440\u001b[0m, in \u001b[0;36mdraw\u001b[0;34m(program, style, backend, time_range, time_unit, disable_channels, show_snapshot, show_framechange, show_waveform_info, show_barrier, plotter, axis)\u001b[0m\n\u001b[1;32m    439\u001b[0m \u001b[38;5;28;01mtry\u001b[39;00m:\n\u001b[0;32m--> 440\u001b[0m     \u001b[38;5;28;01mfrom\u001b[39;00m \u001b[38;5;21;01mqiskit\u001b[39;00m\u001b[38;5;21;01m.\u001b[39;00m\u001b[38;5;21;01mvisualization\u001b[39;00m\u001b[38;5;21;01m.\u001b[39;00m\u001b[38;5;21;01mpulse_v2\u001b[39;00m\u001b[38;5;21;01m.\u001b[39;00m\u001b[38;5;21;01mplotters\u001b[39;00m \u001b[38;5;28;01mimport\u001b[39;00m Mpl2DPlotter\n\u001b[1;32m    441\u001b[0m \u001b[38;5;28;01mexcept\u001b[39;00m \u001b[38;5;167;01mImportError\u001b[39;00m \u001b[38;5;28;01mas\u001b[39;00m ex:\n",
      "File \u001b[0;32m~/.pyenv/versions/3.9.6/envs/simuq-3.9.6/lib/python3.9/site-packages/qiskit/visualization/pulse_v2/plotters/__init__.py:17\u001b[0m\n\u001b[1;32m     13\u001b[0m \u001b[38;5;124;03m\"\"\"\u001b[39;00m\n\u001b[1;32m     14\u001b[0m \u001b[38;5;124;03mPlotter API for pulse drawer.\u001b[39;00m\n\u001b[1;32m     15\u001b[0m \u001b[38;5;124;03m\"\"\"\u001b[39;00m\n\u001b[0;32m---> 17\u001b[0m \u001b[38;5;28;01mfrom\u001b[39;00m \u001b[38;5;21;01mqiskit\u001b[39;00m\u001b[38;5;21;01m.\u001b[39;00m\u001b[38;5;21;01mvisualization\u001b[39;00m\u001b[38;5;21;01m.\u001b[39;00m\u001b[38;5;21;01mpulse_v2\u001b[39;00m\u001b[38;5;21;01m.\u001b[39;00m\u001b[38;5;21;01mplotters\u001b[39;00m\u001b[38;5;21;01m.\u001b[39;00m\u001b[38;5;21;01mmatplotlib\u001b[39;00m \u001b[38;5;28;01mimport\u001b[39;00m Mpl2DPlotter\n",
      "File \u001b[0;32m~/.pyenv/versions/3.9.6/envs/simuq-3.9.6/lib/python3.9/site-packages/qiskit/visualization/pulse_v2/plotters/matplotlib.py:17\u001b[0m\n\u001b[1;32m     15\u001b[0m \u001b[38;5;28;01mfrom\u001b[39;00m \u001b[38;5;21;01mtyping\u001b[39;00m \u001b[38;5;28;01mimport\u001b[39;00m Optional\n\u001b[0;32m---> 17\u001b[0m \u001b[38;5;28;01mimport\u001b[39;00m \u001b[38;5;21;01mmatplotlib\u001b[39;00m\n\u001b[1;32m     18\u001b[0m \u001b[38;5;28;01mimport\u001b[39;00m \u001b[38;5;21;01mmatplotlib\u001b[39;00m\u001b[38;5;21;01m.\u001b[39;00m\u001b[38;5;21;01mpyplot\u001b[39;00m \u001b[38;5;28;01mas\u001b[39;00m \u001b[38;5;21;01mplt\u001b[39;00m\n",
      "\u001b[0;31mModuleNotFoundError\u001b[0m: No module named 'matplotlib'",
      "\nThe above exception was the direct cause of the following exception:\n",
      "\u001b[0;31mMissingOptionalLibraryError\u001b[0m               Traceback (most recent call last)",
      "Cell \u001b[0;32mIn[7], line 4\u001b[0m\n\u001b[1;32m      2\u001b[0m \u001b[38;5;28;01mfrom\u001b[39;00m \u001b[38;5;21;01mqiskit\u001b[39;00m \u001b[38;5;28;01mimport\u001b[39;00m transpile \u001b[38;5;28;01mas\u001b[39;00m ibm_transpile\n\u001b[1;32m      3\u001b[0m sch \u001b[38;5;241m=\u001b[39m schedule(ibm_transpile(circ, backend), backend)\n\u001b[0;32m----> 4\u001b[0m \u001b[43msch\u001b[49m\u001b[38;5;241;43m.\u001b[39;49m\u001b[43mdraw\u001b[49m\u001b[43m(\u001b[49m\u001b[43m)\u001b[49m\n",
      "File \u001b[0;32m~/.pyenv/versions/3.9.6/envs/simuq-3.9.6/lib/python3.9/site-packages/qiskit/pulse/schedule.py:1733\u001b[0m, in \u001b[0;36m_common_method.<locals>.decorator.<locals>.wrapper\u001b[0;34m(*args, **kwargs)\u001b[0m\n\u001b[1;32m   1731\u001b[0m \u001b[38;5;129m@functools\u001b[39m\u001b[38;5;241m.\u001b[39mwraps(method)\n\u001b[1;32m   1732\u001b[0m \u001b[38;5;28;01mdef\u001b[39;00m \u001b[38;5;21mwrapper\u001b[39m(\u001b[38;5;241m*\u001b[39margs, \u001b[38;5;241m*\u001b[39m\u001b[38;5;241m*\u001b[39mkwargs):\n\u001b[0;32m-> 1733\u001b[0m     \u001b[38;5;28;01mreturn\u001b[39;00m \u001b[43mmethod\u001b[49m\u001b[43m(\u001b[49m\u001b[38;5;241;43m*\u001b[39;49m\u001b[43margs\u001b[49m\u001b[43m,\u001b[49m\u001b[43m \u001b[49m\u001b[38;5;241;43m*\u001b[39;49m\u001b[38;5;241;43m*\u001b[39;49m\u001b[43mkwargs\u001b[49m\u001b[43m)\u001b[49m\n",
      "File \u001b[0;32m~/.pyenv/versions/3.9.6/envs/simuq-3.9.6/lib/python3.9/site-packages/qiskit/pulse/schedule.py:1798\u001b[0m, in \u001b[0;36mdraw\u001b[0;34m(self, style, backend, time_range, time_unit, disable_channels, show_snapshot, show_framechange, show_waveform_info, show_barrier, plotter, axis)\u001b[0m\n\u001b[1;32m   1795\u001b[0m \u001b[38;5;66;03m# pylint: disable=cyclic-import\u001b[39;00m\n\u001b[1;32m   1796\u001b[0m \u001b[38;5;28;01mfrom\u001b[39;00m \u001b[38;5;21;01mqiskit\u001b[39;00m\u001b[38;5;21;01m.\u001b[39;00m\u001b[38;5;21;01mvisualization\u001b[39;00m \u001b[38;5;28;01mimport\u001b[39;00m pulse_drawer\n\u001b[0;32m-> 1798\u001b[0m \u001b[38;5;28;01mreturn\u001b[39;00m \u001b[43mpulse_drawer\u001b[49m\u001b[43m(\u001b[49m\n\u001b[1;32m   1799\u001b[0m \u001b[43m    \u001b[49m\u001b[43mprogram\u001b[49m\u001b[38;5;241;43m=\u001b[39;49m\u001b[38;5;28;43mself\u001b[39;49m\u001b[43m,\u001b[49m\n\u001b[1;32m   1800\u001b[0m \u001b[43m    \u001b[49m\u001b[43mstyle\u001b[49m\u001b[38;5;241;43m=\u001b[39;49m\u001b[43mstyle\u001b[49m\u001b[43m,\u001b[49m\n\u001b[1;32m   1801\u001b[0m \u001b[43m    \u001b[49m\u001b[43mbackend\u001b[49m\u001b[38;5;241;43m=\u001b[39;49m\u001b[43mbackend\u001b[49m\u001b[43m,\u001b[49m\n\u001b[1;32m   1802\u001b[0m \u001b[43m    \u001b[49m\u001b[43mtime_range\u001b[49m\u001b[38;5;241;43m=\u001b[39;49m\u001b[43mtime_range\u001b[49m\u001b[43m,\u001b[49m\n\u001b[1;32m   1803\u001b[0m \u001b[43m    \u001b[49m\u001b[43mtime_unit\u001b[49m\u001b[38;5;241;43m=\u001b[39;49m\u001b[43mtime_unit\u001b[49m\u001b[43m,\u001b[49m\n\u001b[1;32m   1804\u001b[0m \u001b[43m    \u001b[49m\u001b[43mdisable_channels\u001b[49m\u001b[38;5;241;43m=\u001b[39;49m\u001b[43mdisable_channels\u001b[49m\u001b[43m,\u001b[49m\n\u001b[1;32m   1805\u001b[0m \u001b[43m    \u001b[49m\u001b[43mshow_snapshot\u001b[49m\u001b[38;5;241;43m=\u001b[39;49m\u001b[43mshow_snapshot\u001b[49m\u001b[43m,\u001b[49m\n\u001b[1;32m   1806\u001b[0m \u001b[43m    \u001b[49m\u001b[43mshow_framechange\u001b[49m\u001b[38;5;241;43m=\u001b[39;49m\u001b[43mshow_framechange\u001b[49m\u001b[43m,\u001b[49m\n\u001b[1;32m   1807\u001b[0m \u001b[43m    \u001b[49m\u001b[43mshow_waveform_info\u001b[49m\u001b[38;5;241;43m=\u001b[39;49m\u001b[43mshow_waveform_info\u001b[49m\u001b[43m,\u001b[49m\n\u001b[1;32m   1808\u001b[0m \u001b[43m    \u001b[49m\u001b[43mshow_barrier\u001b[49m\u001b[38;5;241;43m=\u001b[39;49m\u001b[43mshow_barrier\u001b[49m\u001b[43m,\u001b[49m\n\u001b[1;32m   1809\u001b[0m \u001b[43m    \u001b[49m\u001b[43mplotter\u001b[49m\u001b[38;5;241;43m=\u001b[39;49m\u001b[43mplotter\u001b[49m\u001b[43m,\u001b[49m\n\u001b[1;32m   1810\u001b[0m \u001b[43m    \u001b[49m\u001b[43maxis\u001b[49m\u001b[38;5;241;43m=\u001b[39;49m\u001b[43maxis\u001b[49m\u001b[43m,\u001b[49m\n\u001b[1;32m   1811\u001b[0m \u001b[43m\u001b[49m\u001b[43m)\u001b[49m\n",
      "File \u001b[0;32m~/.pyenv/versions/3.9.6/envs/simuq-3.9.6/lib/python3.9/site-packages/qiskit/visualization/pulse_v2/interface.py:442\u001b[0m, in \u001b[0;36mdraw\u001b[0;34m(program, style, backend, time_range, time_unit, disable_channels, show_snapshot, show_framechange, show_waveform_info, show_barrier, plotter, axis)\u001b[0m\n\u001b[1;32m    440\u001b[0m     \u001b[38;5;28;01mfrom\u001b[39;00m \u001b[38;5;21;01mqiskit\u001b[39;00m\u001b[38;5;21;01m.\u001b[39;00m\u001b[38;5;21;01mvisualization\u001b[39;00m\u001b[38;5;21;01m.\u001b[39;00m\u001b[38;5;21;01mpulse_v2\u001b[39;00m\u001b[38;5;21;01m.\u001b[39;00m\u001b[38;5;21;01mplotters\u001b[39;00m \u001b[38;5;28;01mimport\u001b[39;00m Mpl2DPlotter\n\u001b[1;32m    441\u001b[0m \u001b[38;5;28;01mexcept\u001b[39;00m \u001b[38;5;167;01mImportError\u001b[39;00m \u001b[38;5;28;01mas\u001b[39;00m ex:\n\u001b[0;32m--> 442\u001b[0m     \u001b[38;5;28;01mraise\u001b[39;00m MissingOptionalLibraryError(\n\u001b[1;32m    443\u001b[0m         libname\u001b[38;5;241m=\u001b[39m\u001b[38;5;124m\"\u001b[39m\u001b[38;5;124mMatplotlib\u001b[39m\u001b[38;5;124m\"\u001b[39m,\n\u001b[1;32m    444\u001b[0m         name\u001b[38;5;241m=\u001b[39m\u001b[38;5;124m\"\u001b[39m\u001b[38;5;124mplot_histogram\u001b[39m\u001b[38;5;124m\"\u001b[39m,\n\u001b[1;32m    445\u001b[0m         pip_install\u001b[38;5;241m=\u001b[39m\u001b[38;5;124m\"\u001b[39m\u001b[38;5;124mpip install matplotlib\u001b[39m\u001b[38;5;124m\"\u001b[39m,\n\u001b[1;32m    446\u001b[0m     ) \u001b[38;5;28;01mfrom\u001b[39;00m \u001b[38;5;21;01mex\u001b[39;00m\n\u001b[1;32m    447\u001b[0m plotter_api \u001b[38;5;241m=\u001b[39m Mpl2DPlotter(canvas\u001b[38;5;241m=\u001b[39mcanvas, axis\u001b[38;5;241m=\u001b[39maxis)\n\u001b[1;32m    448\u001b[0m plotter_api\u001b[38;5;241m.\u001b[39mdraw()\n",
      "\u001b[0;31mMissingOptionalLibraryError\u001b[0m: \"The 'Matplotlib' library is required to use 'plot_histogram'. You can install it with 'pip install matplotlib'.\""
     ]
    }
   ],
   "source": [
    "from qiskit import schedule\n",
    "from qiskit import transpile as ibm_transpile\n",
    "sch = schedule(ibm_transpile(circ, backend), backend)\n",
    "sch.draw()"
   ]
  },
  {
   "cell_type": "code",
   "execution_count": null,
   "id": "91eabc11",
   "metadata": {},
   "outputs": [],
   "source": []
  }
 ],
 "metadata": {
  "kernelspec": {
   "display_name": "simuq-env",
   "language": "python",
   "name": "simuq-env"
  },
  "language_info": {
   "codemirror_mode": {
    "name": "ipython",
    "version": 3
   },
   "file_extension": ".py",
   "mimetype": "text/x-python",
   "name": "python",
   "nbconvert_exporter": "python",
   "pygments_lexer": "ipython3",
   "version": "3.9.6"
  }
 },
 "nbformat": 4,
 "nbformat_minor": 5
}
