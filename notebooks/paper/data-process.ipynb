{
 "cells": [
  {
   "cell_type": "code",
   "execution_count": 61,
   "id": "c97f6c8f",
   "metadata": {},
   "outputs": [],
   "source": [
    "from qiskit_ibm_provider import IBMProvider\n",
    "from qiskit import QuantumCircuit\n",
    "provider = IBMProvider()\n",
    "count_exp=job_exp.result().get_counts()\n",
    "count_sim=job_sim.result().get_counts()\n",
    "count_qiskit=job_qiskit.result().get_counts()"
   ]
  },
  {
   "cell_type": "code",
   "execution_count": 51,
   "id": "6d054b1a",
   "metadata": {},
   "outputs": [],
   "source": [
    "m = 4      # 0 -> 4 represent T=0.2 -> 1.0\n",
    "N = 6"
   ]
  },
  {
   "cell_type": "code",
   "execution_count": 62,
   "id": "2716508b",
   "metadata": {},
   "outputs": [],
   "source": [
    "import numpy as np\n",
    "from numpy import kron, matmul\n",
    "from scipy.linalg import norm, expm\n",
    "\n",
    "def list_kron(l) :\n",
    "    ret = np.array([[1]])\n",
    "    for i in range(len(l)) :\n",
    "        ret = kron(ret, l[i])\n",
    "    return ret\n",
    "\n",
    "def calc_prob(is_chain, N, T) :\n",
    "    X = np.array([[0, 1], [1, 0]])\n",
    "    Z = np.array([[1, 0], [0, -1]])\n",
    "    I = np.array([[1, 0], [0, 1]])\n",
    "    zero = np.array([[1], [0]])\n",
    "    H_ising = np.zeros((1<<N, 1<<N))\n",
    "    for i in range(N - 1 if is_chain else N) :\n",
    "        l = [I for j in range(N)]\n",
    "        l[i] = Z\n",
    "        l[(i + 1) % N] = Z\n",
    "        H_ising = H_ising + list_kron(l)\n",
    "    for i in range(N) :\n",
    "        l = [I for j in range(N)]\n",
    "        l[i] = X\n",
    "        H_ising = H_ising + list_kron(l)\n",
    "    \n",
    "    l = [zero for j in range(N)]\n",
    "    init = list_kron(l)\n",
    "    \n",
    "    final = matmul(expm(-1j * T * H_ising), init)\n",
    "    prob = [np.abs(final[i][0]) ** 2 for i in range(1<<N)]\n",
    "    return prob\n",
    "\n",
    "def calc_dist(prob1, prob2):\n",
    "    sum_error = 0\n",
    "    for i in range(len(prob1)) :\n",
    "        sum_error += abs(prob1[i] - prob2[i])\n",
    "    return sum_error / 2\n",
    "\n"
   ]
  },
  {
   "cell_type": "code",
   "execution_count": 65,
   "id": "7495645e",
   "metadata": {},
   "outputs": [
    {
     "name": "stdout",
     "output_type": "stream",
     "text": [
      "0.2 0.24374999999999974\n",
      "0.4 0.19424999999999965\n",
      "0.6000000000000001 0.16124999999999995\n",
      "0.8 0.17300000000000004\n",
      "1.0 0.25049999999999983\n"
     ]
    }
   ],
   "source": [
    "for m in range(5):\n",
    "    # ideal_prob = calc_prob(True, N, 0.2 * (m + 1))\n",
    "    ideal_prob = []\n",
    "    counti=count_sim[m]\n",
    "    for i in range(1<<N) :\n",
    "        binary = bin(i)[2:].zfill(N)\n",
    "        if binary in counti.keys() :\n",
    "            ideal_prob.append(counti[binary]/4000)\n",
    "        else :\n",
    "            ideal_prob.append(0.)\n",
    "\n",
    "    exp_prob = []\n",
    "    counti=count_exp[m]\n",
    "    for i in range(1<<N) :\n",
    "        binary = bin(i)[2:].zfill(N)\n",
    "        if binary in counti.keys() :\n",
    "            exp_prob.append(counti[binary]/4000)\n",
    "        else :\n",
    "            exp_prob.append(0.)\n",
    "    print(0.2 * (m + 1),calc_dist(ideal_prob, exp_prob))"
   ]
  }
 ],
 "metadata": {
  "kernelspec": {
   "display_name": "Python 3 (ipykernel)",
   "language": "python",
   "name": "python3"
  },
  "language_info": {
   "codemirror_mode": {
    "name": "ipython",
    "version": 3
   },
   "file_extension": ".py",
   "mimetype": "text/x-python",
   "name": "python",
   "nbconvert_exporter": "python",
   "pygments_lexer": "ipython3",
   "version": "3.11.3"
  }
 },
 "nbformat": 4,
 "nbformat_minor": 5
}
