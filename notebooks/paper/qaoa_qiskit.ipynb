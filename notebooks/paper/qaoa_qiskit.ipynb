{
 "cells": [
  {
   "cell_type": "code",
   "execution_count": 4,
   "metadata": {},
   "outputs": [
    {
     "name": "stdout",
     "output_type": "stream",
     "text": [
      "The autoreload extension is already loaded. To reload it, use:\n",
      "  %reload_ext autoreload\n"
     ]
    }
   ],
   "source": [
    "import sys\n",
    "sys.path.append('SimuQ')\n",
    "%load_ext autoreload\n",
    "%autoreload 2\n",
    "import numpy as np\n",
    "from simuq import QSystem\n",
    "from simuq import qubit\n",
    "\n",
    "from simuq.solver import generate_as\n",
    "from simuq.aais.ibm import generate_qmachine\n",
    "\n",
    "from qiskit_ibm_provider import IBMProvider\n",
    "from qiskit import QuantumCircuit\n",
    "\n",
    "backend = IBMProvider().get_backend('ibmq_guadalupe')\n",
    "\n",
    "mach = generate_qmachine(backend)\n",
    "\n",
    "def GenQS(n=12, p=3):\n",
    "    qs = QSystem()\n",
    "    ql = [qubit(qs) for i in range(n)]\n",
    "    link = [(i, (i + 1) % n) for i in range(n)]\n",
    "    if p==3:    \n",
    "        parameter_list = np.array(\n",
    "        [\n",
    "            0.5702193 * 2,\n",
    "            -0.58631086,\n",
    "            0.85160685 * 2,\n",
    "            -1.7058538,\n",
    "            0.29468536 * 2,\n",
    "            -1.132814,\n",
    "        ]\n",
    "    )/2\n",
    "    if p==2:\n",
    "        parameter_list = np.array([-3.8034,1.2438, -1.2467,-2.4899])/2\n",
    "    if p==1:\n",
    "        parameter_list = np.array([-0.7854,-2.3562])/2\n",
    "\n",
    "    for i in range(p):\n",
    "       \n",
    "        h = 0\n",
    "        for q0, q1 in link:\n",
    "            h += parameter_list[2 * i] * ql[q0].X * ql[q1].X\n",
    "        qs.add_evolution(h, 1)\n",
    "        h = 0\n",
    "        for q0 in range(n):\n",
    "            h += parameter_list[2 * i+1] * ql[q0].Z\n",
    "        qs.add_evolution(h, 1)\n",
    "    return qs\n",
    "\n",
    "def calc_cut(count):\n",
    "    cut=0\n",
    "    n_shots=sum(count.values())\n",
    "    for key in count:\n",
    "        cut+=count[key]*calc_weight(key)/n_shots\n",
    "    return cut\n",
    "def calc_weight(key):\n",
    "    cut=0\n",
    "    for i in range(len(key)):\n",
    "        if key[i]!= key[(i+1)%len(key)]:\n",
    "            cut+=1\n",
    "    return cut\n",
    "# mach=GenMach(12)\n",
    "qs=GenQS(12,1)"
   ]
  },
  {
   "cell_type": "code",
   "execution_count": 5,
   "metadata": {},
   "outputs": [],
   "source": [
    "from qiskit_ionq import IonQProvider\n",
    "\n",
    "backend = provider.get_backend(\"ionq_qpu.aria-1\", gateset=\"qis\")"
   ]
  },
  {
   "cell_type": "code",
   "execution_count": 6,
   "metadata": {},
   "outputs": [],
   "source": []
  },
  {
   "cell_type": "code",
   "execution_count": null,
   "metadata": {},
   "outputs": [],
   "source": [
    "for i in range(1, 4):\n",
    "    count = backend.retrieve_job(job_id_dict[\"cnot\"][i]).result().get_counts()\n",
    "    print(\"cnot, p=\", i)\n",
    "    print(calc_cut(count))\n",
    "    count = backend.retrieve_job(job_id_dict[\"native\"][i]).result().get_counts()\n",
    "    print(\"native, p=\", i)\n",
    "    print(calc_cut(count))"
   ]
  },
  {
   "cell_type": "code",
   "execution_count": 8,
   "metadata": {},
   "outputs": [
    {
     "ename": "IonQRetriableError",
     "evalue": "IonQRetriableError('An unexpected error occurred')",
     "output_type": "error",
     "traceback": [
      "\u001b[0;31m---------------------------------------------------------------------------\u001b[0m",
      "\u001b[0;31mIonQRetriableError\u001b[0m                        Traceback (most recent call last)",
      "\u001b[1;32m/Users/pengyul/working/SimuQ/notebooks/paper/qaoa_ionq.ipynb Cell 5\u001b[0m line \u001b[0;36m1\n\u001b[1;32m      <a href='vscode-notebook-cell:/Users/pengyul/working/SimuQ/notebooks/paper/qaoa_ionq.ipynb#W5sZmlsZQ%3D%3D?line=6'>7</a>\u001b[0m backend \u001b[39m=\u001b[39m provider\u001b[39m.\u001b[39mget_backend(\u001b[39m\"\u001b[39m\u001b[39mionq_qpu.aria-1\u001b[39m\u001b[39m\"\u001b[39m, gateset\u001b[39m=\u001b[39m\u001b[39m\"\u001b[39m\u001b[39mqis\u001b[39m\u001b[39m\"\u001b[39m)\n\u001b[1;32m      <a href='vscode-notebook-cell:/Users/pengyul/working/SimuQ/notebooks/paper/qaoa_ionq.ipynb#W5sZmlsZQ%3D%3D?line=7'>8</a>\u001b[0m \u001b[39m# backend=provider.get_backend(\"ionq_simulator\",gateset=\"qis\")\u001b[39;00m\n\u001b[0;32m---> <a href='vscode-notebook-cell:/Users/pengyul/working/SimuQ/notebooks/paper/qaoa_ionq.ipynb#W5sZmlsZQ%3D%3D?line=9'>10</a>\u001b[0m job \u001b[39m=\u001b[39m backend\u001b[39m.\u001b[39;49mrun(circ)\n\u001b[1;32m     <a href='vscode-notebook-cell:/Users/pengyul/working/SimuQ/notebooks/paper/qaoa_ionq.ipynb#W5sZmlsZQ%3D%3D?line=10'>11</a>\u001b[0m \u001b[39mprint\u001b[39m(job\u001b[39m.\u001b[39mjob_id())\n\u001b[1;32m     <a href='vscode-notebook-cell:/Users/pengyul/working/SimuQ/notebooks/paper/qaoa_ionq.ipynb#W5sZmlsZQ%3D%3D?line=12'>13</a>\u001b[0m \u001b[39m# count = job.result().get_counts()\u001b[39;00m\n\u001b[1;32m     <a href='vscode-notebook-cell:/Users/pengyul/working/SimuQ/notebooks/paper/qaoa_ionq.ipynb#W5sZmlsZQ%3D%3D?line=13'>14</a>\u001b[0m \u001b[39m# calc_cut(count)\u001b[39;00m\n",
      "File \u001b[0;32m~/miniconda3/envs/simuq/lib/python3.11/site-packages/qiskit_ionq/ionq_backend.py:254\u001b[0m, in \u001b[0;36mIonQBackend.run\u001b[0;34m(self, circuit, **kwargs)\u001b[0m\n\u001b[1;32m    245\u001b[0m passed_args \u001b[39m=\u001b[39m kwargs\n\u001b[1;32m    247\u001b[0m job \u001b[39m=\u001b[39m ionq_job\u001b[39m.\u001b[39mIonQJob(\n\u001b[1;32m    248\u001b[0m     \u001b[39mself\u001b[39m,\n\u001b[1;32m    249\u001b[0m     \u001b[39mNone\u001b[39;00m,\n\u001b[0;32m   (...)\u001b[0m\n\u001b[1;32m    252\u001b[0m     passed_args\u001b[39m=\u001b[39mpassed_args,\n\u001b[1;32m    253\u001b[0m )\n\u001b[0;32m--> 254\u001b[0m job\u001b[39m.\u001b[39;49msubmit()\n\u001b[1;32m    255\u001b[0m \u001b[39mreturn\u001b[39;00m job\n",
      "File \u001b[0;32m~/miniconda3/envs/simuq/lib/python3.11/site-packages/qiskit_ionq/ionq_job.py:217\u001b[0m, in \u001b[0;36mIonQJob.submit\u001b[0;34m(self)\u001b[0m\n\u001b[1;32m    211\u001b[0m \u001b[39mif\u001b[39;00m \u001b[39mself\u001b[39m\u001b[39m.\u001b[39mcircuit \u001b[39mis\u001b[39;00m \u001b[39mNone\u001b[39;00m:\n\u001b[1;32m    212\u001b[0m     \u001b[39mraise\u001b[39;00m exceptions\u001b[39m.\u001b[39mIonQJobError(\n\u001b[1;32m    213\u001b[0m         \u001b[39m\"\u001b[39m\u001b[39mCannot submit a job without a circuit. \u001b[39m\u001b[39m\"\u001b[39m\n\u001b[1;32m    214\u001b[0m         \u001b[39m\"\u001b[39m\u001b[39mPlease create a job with a circuit and try again.\u001b[39m\u001b[39m\"\u001b[39m\n\u001b[1;32m    215\u001b[0m     )\n\u001b[0;32m--> 217\u001b[0m response \u001b[39m=\u001b[39m \u001b[39mself\u001b[39;49m\u001b[39m.\u001b[39;49m_client\u001b[39m.\u001b[39;49msubmit_job(job\u001b[39m=\u001b[39;49m\u001b[39mself\u001b[39;49m)\n\u001b[1;32m    218\u001b[0m \u001b[39mself\u001b[39m\u001b[39m.\u001b[39m_job_id \u001b[39m=\u001b[39m response[\u001b[39m\"\u001b[39m\u001b[39mid\u001b[39m\u001b[39m\"\u001b[39m]\n",
      "File \u001b[0;32m~/miniconda3/envs/simuq/lib/python3.11/site-packages/decorator.py:232\u001b[0m, in \u001b[0;36mdecorate.<locals>.fun\u001b[0;34m(*args, **kw)\u001b[0m\n\u001b[1;32m    230\u001b[0m \u001b[39mif\u001b[39;00m \u001b[39mnot\u001b[39;00m kwsyntax:\n\u001b[1;32m    231\u001b[0m     args, kw \u001b[39m=\u001b[39m fix(args, kw, sig)\n\u001b[0;32m--> 232\u001b[0m \u001b[39mreturn\u001b[39;00m caller(func, \u001b[39m*\u001b[39;49m(extras \u001b[39m+\u001b[39;49m args), \u001b[39m*\u001b[39;49m\u001b[39m*\u001b[39;49mkw)\n",
      "File \u001b[0;32m~/miniconda3/envs/simuq/lib/python3.11/site-packages/retry/api.py:73\u001b[0m, in \u001b[0;36mretry.<locals>.retry_decorator\u001b[0;34m(f, *fargs, **fkwargs)\u001b[0m\n\u001b[1;32m     71\u001b[0m args \u001b[39m=\u001b[39m fargs \u001b[39mif\u001b[39;00m fargs \u001b[39melse\u001b[39;00m \u001b[39mlist\u001b[39m()\n\u001b[1;32m     72\u001b[0m kwargs \u001b[39m=\u001b[39m fkwargs \u001b[39mif\u001b[39;00m fkwargs \u001b[39melse\u001b[39;00m \u001b[39mdict\u001b[39m()\n\u001b[0;32m---> 73\u001b[0m \u001b[39mreturn\u001b[39;00m __retry_internal(partial(f, \u001b[39m*\u001b[39;49margs, \u001b[39m*\u001b[39;49m\u001b[39m*\u001b[39;49mkwargs), exceptions, tries, delay, max_delay, backoff, jitter,\n\u001b[1;32m     74\u001b[0m                         logger)\n",
      "File \u001b[0;32m~/miniconda3/envs/simuq/lib/python3.11/site-packages/retry/api.py:33\u001b[0m, in \u001b[0;36m__retry_internal\u001b[0;34m(f, exceptions, tries, delay, max_delay, backoff, jitter, logger)\u001b[0m\n\u001b[1;32m     31\u001b[0m \u001b[39mwhile\u001b[39;00m _tries:\n\u001b[1;32m     32\u001b[0m     \u001b[39mtry\u001b[39;00m:\n\u001b[0;32m---> 33\u001b[0m         \u001b[39mreturn\u001b[39;00m f()\n\u001b[1;32m     34\u001b[0m     \u001b[39mexcept\u001b[39;00m exceptions \u001b[39mas\u001b[39;00m e:\n\u001b[1;32m     35\u001b[0m         _tries \u001b[39m-\u001b[39m\u001b[39m=\u001b[39m \u001b[39m1\u001b[39m\n",
      "File \u001b[0;32m~/miniconda3/envs/simuq/lib/python3.11/site-packages/qiskit_ionq/ionq_client.py:108\u001b[0m, in \u001b[0;36mIonQClient.submit_job\u001b[0;34m(self, job)\u001b[0m\n\u001b[1;32m    101\u001b[0m req_path \u001b[39m=\u001b[39m \u001b[39mself\u001b[39m\u001b[39m.\u001b[39mmake_path(\u001b[39m\"\u001b[39m\u001b[39mjobs\u001b[39m\u001b[39m\"\u001b[39m)\n\u001b[1;32m    102\u001b[0m res \u001b[39m=\u001b[39m requests\u001b[39m.\u001b[39mpost(\n\u001b[1;32m    103\u001b[0m     req_path,\n\u001b[1;32m    104\u001b[0m     data\u001b[39m=\u001b[39mas_json,\n\u001b[1;32m    105\u001b[0m     headers\u001b[39m=\u001b[39m\u001b[39mself\u001b[39m\u001b[39m.\u001b[39mapi_headers,\n\u001b[1;32m    106\u001b[0m     timeout\u001b[39m=\u001b[39m\u001b[39m30\u001b[39m,\n\u001b[1;32m    107\u001b[0m )\n\u001b[0;32m--> 108\u001b[0m exceptions\u001b[39m.\u001b[39;49mIonQAPIError\u001b[39m.\u001b[39;49mraise_for_status(res)\n\u001b[1;32m    109\u001b[0m \u001b[39mreturn\u001b[39;00m res\u001b[39m.\u001b[39mjson()\n",
      "File \u001b[0;32m~/miniconda3/envs/simuq/lib/python3.11/site-packages/qiskit_ionq/exceptions.py:109\u001b[0m, in \u001b[0;36mIonQAPIError.raise_for_status\u001b[0;34m(cls, response)\u001b[0m\n\u001b[1;32m    107\u001b[0m res \u001b[39m=\u001b[39m \u001b[39mcls\u001b[39m\u001b[39m.\u001b[39mfrom_response(response)\n\u001b[1;32m    108\u001b[0m \u001b[39mif\u001b[39;00m _is_retriable(response\u001b[39m.\u001b[39mrequest\u001b[39m.\u001b[39mmethod, status_code):\n\u001b[0;32m--> 109\u001b[0m     \u001b[39mraise\u001b[39;00m IonQRetriableError(res)\n\u001b[1;32m    110\u001b[0m \u001b[39mraise\u001b[39;00m res\n",
      "\u001b[0;31mIonQRetriableError\u001b[0m: IonQRetriableError('An unexpected error occurred')"
     ]
    }
   ],
   "source": [
    "from simuq.backends.ionq_qiskit_qis_qaoa import transpile\n",
    "from qiskit import transpile as transpile_qiskit\n",
    "from qiskit import Aer\n",
    "\n",
    "circ = transpile(*generate_as(qs, mach))\n",
    "circ = transpile_qiskit(circ, basis_gates=[\"rz\", \"rx\", \"cx\", \"id\"])\n",
    "backend = provider.get_backend(\"ionq_qpu.aria-1\", gateset=\"qis\")\n",
    "# backend=provider.get_backend(\"ionq_simulator\",gateset=\"qis\")\n",
    "\n",
    "job = backend.run(circ)\n",
    "print(job.job_id())\n",
    "\n",
    "# count = job.result().get_counts()\n",
    "# calc_cut(count)"
   ]
  },
  {
   "cell_type": "code",
   "execution_count": 16,
   "metadata": {},
   "outputs": [
    {
     "name": "stdout",
     "output_type": "stream",
     "text": [
      "ae8f03e6-2dcd-4776-bbec-dc58e31f51b8\n"
     ]
    }
   ],
   "source": [
    "from backends.ionq_qiskit_native_qaoa import transpile\n",
    "from qiskit import Aer\n",
    "\n",
    "circ = transpile(*generate_as(qs, mach))\n",
    "\n",
    "backend = provider.get_backend(\"ionq_qpu.aria-1\", gateset=\"native\")\n",
    "# backend=provider.get_backend(\"ionq_simulator\",gateset=\"native\")\n",
    "job = backend.run(circ)\n",
    "print(job.job_id())\n",
    "# count = job.result().get_counts()\n",
    "# calc_cut(count)"
   ]
  },
  {
   "cell_type": "code",
   "execution_count": 16,
   "metadata": {},
   "outputs": [
    {
     "data": {
      "text/plain": [
       "6.591796875"
      ]
     },
     "execution_count": 16,
     "metadata": {},
     "output_type": "execute_result"
    }
   ],
   "source": []
  },
  {
   "cell_type": "code",
   "execution_count": 25,
   "metadata": {},
   "outputs": [],
   "source": [
    "with open(\"native_qaoa.json\", \"w\") as f:\n",
    "    f.write(qiskit_to_ionq(circ, backend, passed_args={\"shots\": 1000}))"
   ]
  },
  {
   "cell_type": "code",
   "execution_count": null,
   "metadata": {},
   "outputs": [],
   "source": [
    "backend = provider.get_backend(\"ionq_qpu.aria-1\", gateset=\"native\")\n",
    "circ = qiskit_to_ionq(circ, backend=backend, passed_args={\"shots\": 4000})\n",
    "with open(\"native_circ.json\", \"w\") as outfile:\n",
    "    outfile.write(circ)"
   ]
  },
  {
   "cell_type": "code",
   "execution_count": 40,
   "metadata": {},
   "outputs": [],
   "source": [
    "from backends.ionq_qiskit_qis import transpile\n",
    "\n",
    "backend = provider.get_backend(\"ionq_qpu.aria-1\", gateset=\"qis\")\n",
    "circ = transpile(*generate_as(qs, mach))\n",
    "\n",
    "from qiskit import transpile as transpile_qiskit\n",
    "\n",
    "circ = transpile_qiskit(circ, basis_gates=[\"rz\", \"rx\", \"id\", \"cx\"])\n",
    "circ = qiskit_to_ionq(circ, backend=backend, passed_args={\"shots\": 4000})\n",
    "with open(\"cnot_circ.json\", \"w\") as outfile:\n",
    "    outfile.write(circ)"
   ]
  },
  {
   "cell_type": "code",
   "execution_count": 16,
   "metadata": {},
   "outputs": [],
   "source": []
  },
  {
   "cell_type": "code",
   "execution_count": 19,
   "metadata": {},
   "outputs": [],
   "source": [
    "qs = GenQS()\n",
    "\n",
    "from qiskit import Aer\n",
    "\n",
    "backend = Aer.get_backend(\"qasm_simulator\")\n",
    "from backends.ionq_qiskit_qis import transpile\n",
    "\n",
    "circ = transpile(*generate_as(qs, mach))\n",
    "# backend = provider.get_backend(\"ionq_simulator\",gateset=\"qis\")\n",
    "job = backend.run(circ)\n",
    "count = job.result().get_counts()"
   ]
  }
 ],
 "metadata": {
  "kernelspec": {
   "display_name": "lpy",
   "language": "python",
   "name": "python3"
  },
  "language_info": {
   "codemirror_mode": {
    "name": "ipython",
    "version": 3
   },
   "file_extension": ".py",
   "mimetype": "text/x-python",
   "name": "python",
   "nbconvert_exporter": "python",
   "pygments_lexer": "ipython3",
   "version": "3.11.4"
  },
  "orig_nbformat": 4
 },
 "nbformat": 4,
 "nbformat_minor": 2
}
