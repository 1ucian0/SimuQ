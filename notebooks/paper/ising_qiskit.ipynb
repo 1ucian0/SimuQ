{
 "cells": [
  {
   "cell_type": "code",
   "execution_count": 1,
   "metadata": {},
   "outputs": [],
   "source": [
    "%load_ext autoreload\n",
    "%autoreload 2\n",
    "from simuq import QSystem\n",
    "from simuq import Qubit\n",
    "from simuq.ibm import IBMProvider\n",
    "ibm = IBMProvider(\n",
    "    from_file=\"../../../qiskit_APIKEY\", hub=\"ibm-q-ornl\", group=\"ornl\", project=\"phy147\"\n",
    ")"
   ]
  },
  {
   "cell_type": "code",
   "execution_count": 4,
   "metadata": {},
   "outputs": [],
   "source": [
    "from simuq.qutip import QuTiPProvider\n",
    "\n",
    "qtpp = QuTiPProvider()\n",
    "\n",
    "\n",
    "def tv(P1, P2):\n",
    "    keys = set(P1.keys()).union(P2.keys())\n",
    "    s = 0\n",
    "    for k in keys:\n",
    "        if k not in P1.keys():\n",
    "            s += P2[k]\n",
    "        elif k not in P2.keys():\n",
    "            s += P1[k]\n",
    "        else:\n",
    "            s += abs(P1[k] - P2[k])\n",
    "    return s / 2"
   ]
  },
  {
   "cell_type": "code",
   "execution_count": 5,
   "metadata": {},
   "outputs": [
    {
     "name": "stdout",
     "output_type": "stream",
     "text": [
      "<qiskit.providers.ibmq.job.ibmqjob.IBMQJob object at 0x14eb80610>\n",
      "Compiled.\n",
      "Solved.\n",
      "Distance to ideal state: 0.012450460309453026\n",
      "<qiskit.providers.ibmq.job.ibmqjob.IBMQJob object at 0x14e649e50>\n",
      "Compiled.\n",
      "Solved.\n",
      "Distance to ideal state: 0.033240728834946026\n",
      "<qiskit.providers.ibmq.job.ibmqjob.IBMQJob object at 0x14ebc12d0>\n",
      "Compiled.\n",
      "Solved.\n",
      "Distance to ideal state: 0.04848556724530266\n",
      "<qiskit.providers.ibmq.job.ibmqjob.IBMQJob object at 0x14ebb8d10>\n",
      "Compiled.\n",
      "Solved.\n",
      "Distance to ideal state: 0.06902625771126515\n",
      "<qiskit.providers.ibmq.job.ibmqjob.IBMQJob object at 0x14ebff850>\n",
      "Compiled.\n",
      "Solved.\n",
      "Distance to ideal state: 0.1340283458300379\n"
     ]
    }
   ],
   "source": [
    "circ_list = []\n",
    "chain = True\n",
    "n = 6\n",
    "for T in [0.2, 0.4, 0.6, 0.8, 1]:\n",
    "    qs = QSystem()\n",
    "    qubits = [Qubit(qs) for i in range(n)]\n",
    "    H0 = 0\n",
    "    if chain:\n",
    "        for i in range(n - 1):\n",
    "            H0 += qubits[i].Z * qubits[(i + 1) % n].Z\n",
    "    else:\n",
    "        for i in range(n):\n",
    "            H0 += qubits[i].Z * qubits[(i + 1) % n].Z\n",
    "\n",
    "    for i in range(n):\n",
    "        H0 += -qubits[i].X\n",
    "\n",
    "    qs.add_evolution(H0, T)\n",
    "    ibm.compile(qs, backend=\"ibmq_guadalupe\", trotter_num=4, use_pulse=False)\n",
    "    ibm.run(on_simulator=True)\n",
    "    result = ibm.results(on_simulator=True)\n",
    "    qtpp.compile(qs)\n",
    "    qtpp.run()\n",
    "    result_ideal = qtpp.results()\n",
    "    print(f\"Distance to ideal state: {tv(result,result_ideal)}\")"
   ]
  }
 ],
 "metadata": {
  "kernelspec": {
   "display_name": "lpy",
   "language": "python",
   "name": "python3"
  },
  "language_info": {
   "codemirror_mode": {
    "name": "ipython",
    "version": 3
   },
   "file_extension": ".py",
   "mimetype": "text/x-python",
   "name": "python",
   "nbconvert_exporter": "python",
   "pygments_lexer": "ipython3",
   "version": "3.11.5"
  },
  "orig_nbformat": 4
 },
 "nbformat": 4,
 "nbformat_minor": 2
}
