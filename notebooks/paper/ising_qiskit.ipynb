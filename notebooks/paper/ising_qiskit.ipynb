{
 "cells": [
  {
   "cell_type": "code",
   "execution_count": 6,
   "metadata": {},
   "outputs": [
    {
     "name": "stdout",
     "output_type": "stream",
     "text": [
      "The autoreload extension is already loaded. To reload it, use:\n",
      "  %reload_ext autoreload\n"
     ]
    }
   ],
   "source": [
    "%load_ext autoreload\n",
    "%autoreload 2\n",
    "import numpy as np\n",
    "from simuq.qsystem import QSystem\n",
    "from simuq.environment import qubit\n",
    "from scipy.constants import h\n",
    "from backends.qiskit_pulse_ibm import get_n_link\n",
    "from simuq.solver import generate_as\n",
    "from aais.ibm import get_mach\n",
    "from qiskit_ibm_provider import IBMProvider\n",
    "from qiskit import QuantumCircuit\n",
    "provider = IBMProvider()\n",
    "backend = provider.get_backend(\"ibmq_guadalupe\")\n",
    "mach=get_mach(backend)\n",
    "\n",
    "from qiskit_ibm_provider import IBMProvider\n",
    "provider = IBMProvider(instance=\"open\",hub=\"ibm-q\",group=\"open\",project=\"main\")\n",
    "from backends.qiskit_pulse_ibm import transpile\n",
    "from qiskit import transpile as transpile_qiskit\n",
    "simulator=provider.get_backend(\"ibmq_qasm_simulator\")"
   ]
  },
  {
   "cell_type": "code",
   "execution_count": 7,
   "metadata": {},
   "outputs": [
    {
     "name": "stdout",
     "output_type": "stream",
     "text": [
      "First round time:  0.036783695220947266\n",
      "Second round time:  0.00625920295715332\n"
     ]
    },
    {
     "name": "stdout",
     "output_type": "stream",
     "text": [
      "First round time:  0.03567624092102051\n",
      "Second round time:  0.00628352165222168\n",
      "First round time:  0.03539538383483887\n",
      "Second round time:  0.005750179290771484\n",
      "First round time:  0.037680864334106445\n",
      "Second round time:  0.006081581115722656\n",
      "First round time:  0.03527998924255371\n",
      "Second round time:  0.0057086944580078125\n",
      "cifp9iu4c9s1cd74g93g\n"
     ]
    }
   ],
   "source": [
    "circ_list=[]\n",
    "chain=True\n",
    "n = 6\n",
    "for T in [0.2,0.4,0.6,0.8,1]:\n",
    "    qs = QSystem()\n",
    "    qubits = [qubit(qs) for i in range(n)]\n",
    "    H0 = 0\n",
    "    if chain:\n",
    "        for i in range(n-1):\n",
    "            H0 += qubits[i].X * qubits[(i+1)%n].X\n",
    "    else:\n",
    "        for i in range(n):\n",
    "            H0 += qubits[i].X * qubits[(i+1)%n].X\n",
    "\n",
    "    for i in range(n):\n",
    "        H0 += - qubits[i].Z\n",
    "\n",
    "    qs.add_evolution(H0, T)\n",
    "    circ = transpile(backend,*generate_as(qs, mach,4),False)\n",
    "    active_qubits=[0,1,2,3,5,8]\n",
    "    h_circ=QuantumCircuit(16)\n",
    "\n",
    "    for idx in active_qubits:\n",
    "        circ.h(idx)\n",
    "        h_circ.h(idx)\n",
    "    new_circ=h_circ.compose(circ)\n",
    "    new_circ.measure_active()\n",
    "    new_circ=transpile_qiskit(new_circ,backend)\n",
    "    circ_list.append(new_circ)\n",
    "job = backend.run(circ_list)\n",
    "print(job.job_id())\n",
    "count=job.result().get_counts()\n",
    "# print(count[\"000000\"]/4000)    "
   ]
  },
  {
   "cell_type": "code",
   "execution_count": 7,
   "metadata": {},
   "outputs": [
    {
     "name": "stdout",
     "output_type": "stream",
     "text": [
      "First round time:  0.14225506782531738\n",
      "Second round time:  0.024569988250732422\n"
     ]
    },
    {
     "data": {
      "text/plain": [
       "10368"
      ]
     },
     "execution_count": 7,
     "metadata": {},
     "output_type": "execute_result"
    }
   ],
   "source": [
    "from qiskit import schedule\n",
    "from backends.qiskit_pulse_ibm import transpile\n",
    "\n",
    "chain=True\n",
    "n = 6\n",
    "T=1\n",
    "qs = QSystem()\n",
    "qubits = [qubit(qs) for i in range(n)]\n",
    "H0 = 0\n",
    "if chain:\n",
    "    for i in range(n-1):\n",
    "        H0 += qubits[i].X * qubits[(i+1)%n].X\n",
    "else:\n",
    "    for i in range(n):\n",
    "        H0 += qubits[i].X * qubits[(i+1)%n].X\n",
    "\n",
    "for i in range(n):\n",
    "    H0 += - qubits[i].Z\n",
    "\n",
    "qs.add_evolution(H0, T)\n",
    "circ = transpile(backend,*generate_as(qs, mach,4),use_pulse=True)\n",
    "active_qubits=[0,1,2,3,5,8]\n",
    "h_circ=QuantumCircuit(16)\n",
    "\n",
    "for idx in active_qubits:\n",
    "    circ.h(idx)\n",
    "    h_circ.h(idx)\n",
    "new_circ=h_circ.compose(circ)\n",
    "new_circ=transpile_qiskit(new_circ,backend)\n",
    "schedule(new_circ,backend).duration"
   ]
  }
 ],
 "metadata": {
  "kernelspec": {
   "display_name": "lpy",
   "language": "python",
   "name": "python3"
  },
  "language_info": {
   "codemirror_mode": {
    "name": "ipython",
    "version": 3
   },
   "file_extension": ".py",
   "mimetype": "text/x-python",
   "name": "python",
   "nbconvert_exporter": "python",
   "pygments_lexer": "ipython3",
   "version": "3.11.3"
  },
  "orig_nbformat": 4
 },
 "nbformat": 4,
 "nbformat_minor": 2
}
