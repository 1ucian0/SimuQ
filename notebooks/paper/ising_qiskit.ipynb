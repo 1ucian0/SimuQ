{
 "cells": [
  {
   "cell_type": "code",
   "execution_count": 1,
   "metadata": {},
   "outputs": [],
   "source": [
    "%load_ext autoreload\n",
    "%autoreload 2\n",
    "from simuq import QSystem\n",
    "from simuq import Qubit\n",
    "from simuq.ibm import IBMProvider\n",
    "ibm = IBMProvider(\n",
    "    from_file=\"../../../qiskit_APIKEY\", hub=\"ibm-q-ornl\", group=\"ornl\", project=\"phy147\"\n",
    ")"
   ]
  },
  {
   "cell_type": "code",
   "execution_count": 3,
   "metadata": {},
   "outputs": [
    {
     "name": "stdout",
     "output_type": "stream",
     "text": [
      "<qiskit.providers.ibmq.job.ibmqjob.IBMQJob object at 0x14a2d58d0>\n",
      "<qiskit.providers.ibmq.job.ibmqjob.IBMQJob object at 0x15d1a6190>\n",
      "<qiskit.providers.ibmq.job.ibmqjob.IBMQJob object at 0x15ca66450>\n",
      "<qiskit.providers.ibmq.job.ibmqjob.IBMQJob object at 0x148406a10>\n",
      "<qiskit.providers.ibmq.job.ibmqjob.IBMQJob object at 0x15caa3750>\n"
     ]
    }
   ],
   "source": [
    "circ_list=[]\n",
    "chain=True\n",
    "n = 6\n",
    "for T in [0.2,0.4,0.6,0.8,1]:\n",
    "    qs = QSystem()\n",
    "    qubits = [Qubit(qs) for i in range(n)]\n",
    "    H0 = 0\n",
    "    if chain:\n",
    "        for i in range(n-1):\n",
    "            H0 += qubits[i].Z * qubits[(i+1)%n].Z\n",
    "    else:\n",
    "        for i in range(n):\n",
    "            H0 += qubits[i].Z * qubits[(i+1)%n].Z\n",
    "\n",
    "    for i in range(n):\n",
    "        H0 += - qubits[i].X\n",
    "\n",
    "    qs.add_evolution(H0, T)\n",
    "    ibm.compile(qs, backend=\"ibmq_guadalupe\", trotter_num=4, use_pulse=False)\n",
    "    ibm.run(on_simulator=True)\n",
    "    ibm.results(on_simulator=True) "
   ]
  }
 ],
 "metadata": {
  "kernelspec": {
   "display_name": "lpy",
   "language": "python",
   "name": "python3"
  },
  "language_info": {
   "codemirror_mode": {
    "name": "ipython",
    "version": 3
   },
   "file_extension": ".py",
   "mimetype": "text/x-python",
   "name": "python",
   "nbconvert_exporter": "python",
   "pygments_lexer": "ipython3",
   "version": "3.11.5"
  },
  "orig_nbformat": 4
 },
 "nbformat": 4,
 "nbformat_minor": 2
}
