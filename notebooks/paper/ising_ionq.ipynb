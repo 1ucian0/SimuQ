{
 "cells": [
  {
   "cell_type": "code",
   "execution_count": 1,
   "metadata": {},
   "outputs": [],
   "source": [
    "import sys\n",
    "sys.path.append('SimuQ')\n",
    "%load_ext autoreload\n",
    "%autoreload 2\n",
    "import numpy as np\n",
    "from simuq.qsystem import QSystem\n",
    "from simuq.environment import qubit\n",
    "from scipy.constants import h\n",
    "\n",
    "chain=False\n",
    "n = 6\n",
    "T = 1\n",
    "\n",
    "qs = QSystem()\n",
    "qubits = [qubit(qs) for i in range(n)]\n",
    "H0 = 0\n",
    "# H1 = 0\n",
    "if chain:\n",
    "    for i in range(n-1):\n",
    "        H0 += qubits[i].Z * qubits[(i+1)%n].Z\n",
    "else:\n",
    "    for i in range(n):\n",
    "        H0 += qubits[i].Z * qubits[(i+1)%n].Z\n",
    "\n",
    "for i in range(n):\n",
    "    H0 += - qubits[i].X\n",
    "\n",
    "qs.add_evolution(H0, T)\n",
    "from simuq.solver import generate_as\n",
    "# from aais.rydberg1d_aws import GenMach\n",
    "# from backends.bloqade_rydberg_aws import transpile\n",
    "from aais.heis_aais import GenMach\n",
    "mach=GenMach(n)\n",
    "from qiskit_ionq import IonQProvider\n",
    "provider = IonQProvider(\"HrGkI4NCFf3uuM8sooNAQXePJfFTvWfd\")"
   ]
  },
  {
   "cell_type": "code",
   "execution_count": 54,
   "metadata": {},
   "outputs": [
    {
     "name": "stdout",
     "output_type": "stream",
     "text": [
      "First round time:  0.06867408752441406\n",
      "Second round time:  0.014994382858276367\n",
      "{'000000': 2995, '000001': 227, '000010': 189, '000011': 297, '000100': 226, '000101': 19, '000110': 260, '000111': 261, '001000': 224, '001001': 33, '001010': 11, '001011': 7, '001100': 244, '001101': 8, '001110': 288, '001111': 203, '010000': 223, '010001': 19, '010010': 26, '010011': 4, '010100': 15, '010101': 3, '010110': 4, '010111': 1, '011000': 282, '011001': 3, '011010': 5, '011011': 30, '011100': 249, '011101': 0, '011110': 208, '011111': 74, '100000': 209, '100001': 310, '100010': 12, '100011': 271, '100100': 33, '100101': 5, '100110': 3, '100111': 226, '101000': 18, '101001': 4, '101010': 3, '101011': 0, '101100': 6, '101101': 37, '101110': 0, '101111': 73, '110000': 268, '110001': 249, '110010': 4, '110011': 232, '110100': 6, '110101': 0, '110110': 40, '110111': 74, '111000': 285, '111001': 226, '111010': 0, '111011': 71, '111100': 257, '111101': 92, '111110': 72, '111111': 276}\n"
     ]
    }
   ],
   "source": [
    "from backends.ionq_qiskit_qis import transpile\n",
    "simulator_backend = provider.get_backend(\"ionq_simulator\",gateset=\"qis\")\n",
    "circ = transpile(*generate_as(qs, mach,10))\n",
    "# circ.draw()\n",
    "job = simulator_backend.run(circ, shots=10000) \n",
    "print(job.get_counts())"
   ]
  },
  {
   "cell_type": "code",
   "execution_count": 55,
   "metadata": {},
   "outputs": [
    {
     "name": "stdout",
     "output_type": "stream",
     "text": [
      "First round time:  0.06866979598999023\n",
      "Second round time:  0.01130056381225586\n"
     ]
    },
    {
     "name": "stdout",
     "output_type": "stream",
     "text": [
      "{'000000': 2860, '000001': 226, '000010': 253, '000011': 256, '000100': 221, '000101': 15, '000110': 256, '000111': 302, '001000': 206, '001001': 33, '001010': 17, '001011': 7, '001100': 262, '001101': 5, '001110': 274, '001111': 226, '010000': 209, '010001': 16, '010010': 29, '010011': 12, '010100': 10, '010101': 5, '010110': 2, '010111': 0, '011000': 294, '011001': 4, '011010': 8, '011011': 26, '011100': 250, '011101': 0, '011110': 249, '011111': 85, '100000': 244, '100001': 255, '100010': 20, '100011': 262, '100100': 27, '100101': 7, '100110': 5, '100111': 253, '101000': 14, '101001': 5, '101010': 0, '101011': 1, '101100': 6, '101101': 36, '101110': 0, '101111': 89, '110000': 280, '110001': 276, '110010': 3, '110011': 223, '110100': 3, '110101': 0, '110110': 37, '110111': 83, '111000': 296, '111001': 230, '111010': 0, '111011': 79, '111100': 224, '111101': 83, '111110': 89, '111111': 252}\n"
     ]
    }
   ],
   "source": [
    "from backends.ionq_qiskit_native import transpile,debug_circ\n",
    "\n",
    "simulator_backend = provider.get_backend(\"ionq_simulator\",gateset=\"native\")\n",
    "circ = transpile(*generate_as(qs, mach,10))\n",
    "job = simulator_backend.run(circ, shots=10000) \n",
    "print(job.get_counts())"
   ]
  },
  {
   "cell_type": "code",
   "execution_count": 52,
   "metadata": {},
   "outputs": [
    {
     "name": "stdout",
     "output_type": "stream",
     "text": [
      "{'00': 4972, '01': 5028}\n"
     ]
    }
   ],
   "source": [
    "from backends.ionq_qiskit_native import transpile,debug_circ\n",
    "\n",
    "simulator_backend = provider.get_backend(\"ionq_simulator\",gateset=\"native\")\n",
    "circ = debug_circ()\n",
    "job = simulator_backend.run(circ, shots=10000) \n",
    "print(job.get_counts())"
   ]
  },
  {
   "cell_type": "code",
   "execution_count": 2,
   "metadata": {},
   "outputs": [
    {
     "name": "stdout",
     "output_type": "stream",
     "text": [
      "First round time:  0.061197757720947266\n",
      "Second round time:  0.010908126831054688\n",
      "First round time:  0.060761213302612305\n",
      "Second round time:  0.01007223129272461\n",
      "First round time:  0.06066775321960449\n",
      "Second round time:  0.010578393936157227\n",
      "First round time:  0.06153082847595215\n",
      "Second round time:  0.010087251663208008\n",
      "First round time:  0.061293840408325195\n",
      "Second round time:  0.010667085647583008\n",
      "First round time:  0.06839585304260254\n",
      "Second round time:  0.011442422866821289\n",
      "First round time:  0.06842470169067383\n",
      "Second round time:  0.01134634017944336\n",
      "First round time:  0.06811213493347168\n",
      "Second round time:  0.011169672012329102\n",
      "First round time:  0.07160329818725586\n",
      "Second round time:  0.012233972549438477\n",
      "First round time:  0.0689084529876709\n",
      "Second round time:  0.011165380477905273\n"
     ]
    }
   ],
   "source": [
    "from backends.ionq import transpile\n",
    "import json\n",
    "\n",
    "for chain in [True,False]:\n",
    "    for T in [0.2,0.4,0.6,0.8,1]:\n",
    "        n = 6\n",
    "\n",
    "        qs = QSystem()\n",
    "        qubits = [qubit(qs) for i in range(n)]\n",
    "        H0 = 0\n",
    "        # H1 = 0\n",
    "        if chain:\n",
    "            for i in range(n-1):\n",
    "                H0 += qubits[i].Z * qubits[(i+1)%n].Z\n",
    "        else:\n",
    "            for i in range(n):\n",
    "                H0 += qubits[i].Z * qubits[(i+1)%n].Z\n",
    "\n",
    "        for i in range(n):\n",
    "            H0 += - qubits[i].X\n",
    "\n",
    "        qs.add_evolution(H0, T)\n",
    "        # circ = debug_circ().job\n",
    "        circ=transpile(*generate_as(qs, mach,14),backend=\"simulator\",noise_model=\"aria-1\")\n",
    "        if not chain:\n",
    "            file_name=f'{T}_cycle.json'\n",
    "        else:\n",
    "            file_name=f'{T}_chain.json'\n",
    "        with open(file_name, 'w') as f:\n",
    "            json.dump(circ, f)\n",
    "    "
   ]
  },
  {
   "cell_type": "code",
   "execution_count": 72,
   "metadata": {},
   "outputs": [
    {
     "data": {
      "text/plain": [
       "'32b40a97-47af-49f2-8ded-6a2fac44054f'"
      ]
     },
     "execution_count": 72,
     "metadata": {},
     "output_type": "execute_result"
    }
   ],
   "source": [
    "import os\n",
    "import subprocess\n",
    "bashCommand = \"\"\"curl -X POST \"https://api.ionq.co/v0.3/jobs\" \\\n",
    "-H \"Authorization: apiKey HrGkI4NCFf3uuM8sooNAQXePJfFTvWfd\" \\\n",
    "-H \"Content-Type: application/json\" \\\n",
    "-d @1_cycle.json\"\"\"\n",
    "output = subprocess.getoutput(bashCommand)\n",
    "id=eval(\"{\"+output.split(\"{\")[1])[\"id\"]\n",
    "id"
   ]
  },
  {
   "cell_type": "code",
   "execution_count": 67,
   "metadata": {},
   "outputs": [
    {
     "data": {
      "text/plain": [
       "'{\"noise\":{\"model\":\"aria-1\",\"seed\":524331435},\"status\":\"completed\",\"name\":\"test\",\"target\":\"simulator\",\"shots\":4096,\"predicted_execution_time\":64,\"execution_time\":1496,\"id\":\"c061fbfc-0439-4c7d-b5ff-7e467f5854ba\",\"qubits\":6,\"type\":\"circuit\",\"request\":1688023579,\"start\":1688023582,\"response\":1688023583,\"gate_counts\":{\"1q\":630,\"2q\":42},\"data\":{\"histogram\":{\"0\": 0.1823730469, \"1\": 0.033203125, \"2\": 0.0341796875, \"3\": 0.02905273438, \"4\": 0.0341796875, \"5\": 0.004150390625, \"6\": 0.02905273438, \"7\": 0.02587890625, \"8\": 0.02783203125, \"9\": 0.008056640625, \"10\": 0.004638671875, \"11\": 0.00244140625, \"12\": 0.02612304688, \"13\": 0.0068359375, \"14\": 0.02221679688, \"15\": 0.02075195312, \"16\": 0.03466796875, \"17\": 0.007080078125, \"18\": 0.0029296875, \"19\": 0.00537109375, \"20\": 0.00537109375, \"21\": 0.001953125, \"22\": 0.006103515625, \"23\": 0.003173828125, \"24\": 0.02587890625, \"25\": 0.006103515625, \"26\": 0.004150390625, \"27\": 0.007080078125, \"28\": 0.02319335938, \"29\": 0.003662109375, \"30\": 0.01635742188, \"31\": 0.005859375, \"32\": 0.0341796875, \"33\": 0.0283203125, \"34\": 0.004638671875, \"35\": 0.02270507812, \"36\": 0.005126953125, \"37\": 0.004150390625, \"38\": 0.00537109375, \"39\": 0.0166015625, \"40\": 0.00537109375, \"41\": 0.004638671875, \"42\": 0.001953125, \"43\": 0.00341796875, \"44\": 0.005859375, \"45\": 0.00439453125, \"46\": 0.003662109375, \"47\": 0.01025390625, \"48\": 0.0263671875, \"49\": 0.02099609375, \"50\": 0.004638671875, \"51\": 0.0166015625, \"52\": 0.00390625, \"53\": 0.003662109375, \"54\": 0.005859375, \"55\": 0.00732421875, \"56\": 0.02172851562, \"57\": 0.0166015625, \"58\": 0.003662109375, \"59\": 0.0078125, \"60\": 0.01538085938, \"61\": 0.007568359375, \"62\": 0.01000976562, \"63\": 0.01733398438},\"registers\":null}}'"
      ]
     },
     "execution_count": 67,
     "metadata": {},
     "output_type": "execute_result"
    }
   ],
   "source": [
    "bashCommand = f\"curl \\\"https://api.ionq.co/v0.1/jobs/\"+str(id)+\"\\\" \\\n",
    "-H \\\"Authorization: apiKey HrGkI4NCFf3uuM8sooNAQXePJfFTvWfd\\\" \"\n",
    "output = subprocess.getoutput(bashCommand)\n",
    "output.split(\"\\n\")[-1]\n"
   ]
  },
  {
   "cell_type": "code",
   "execution_count": 19,
   "metadata": {},
   "outputs": [],
   "source": [
    "a=\"\"\"{\"id\":\"8a9ed38a-df1a-4e66-80db-2a54a7d8acfe\",\"status\":\"ready\",\"request\":1688021253}{\"id\":\"00b06274-97a6-47b5-b0bd-e56e343522fe\",\"status\":\"ready\",\"request\":1688021253}{\"id\":\"0b3a2120-19f1-46a0-9059-eb0480662c65\",\"status\":\"ready\",\"request\":1688021254}{\"id\":\"e8270631-ecc9-4fbc-a91e-96b996f2334f\",\"status\":\"ready\",\"request\":1688021254}{\"id\":\"95fe1239-0fc1-4152-bb83-95f0685d7449\",\"status\":\"ready\",\"request\":1688021254}{\"id\":\"9c15dea9-ca70-4487-965d-08b936bb5c66\",\"status\":\"ready\",\"request\":1688021254}{\"id\":\"cb8af364-c748-451c-9346-c14851043e04\",\"status\":\"ready\",\"request\":1688021255}{\"id\":\"cdd45ce1-a955-46f6-9c6f-25b3410c77e2\",\"status\":\"ready\",\"request\":1688021255}{\"id\":\"14a408ca-35a2-4698-a986-9056aad1d8a3\",\"status\":\"ready\",\"request\":1688021255}{\"id\":\"bfff6ebe-d566-4bc3-a53d-d6dbc2ef000a\",\"status\":\"ready\",\"request\":1688021255}\"\"\""
   ]
  },
  {
   "cell_type": "code",
   "execution_count": 20,
   "metadata": {},
   "outputs": [
    {
     "name": "stdout",
     "output_type": "stream",
     "text": [
      "chain\n",
      "0.2:8a9ed38a-df1a-4e66-80db-2a54a7d8acfe\n",
      "0.4:00b06274-97a6-47b5-b0bd-e56e343522fe\n",
      "0.6:0b3a2120-19f1-46a0-9059-eb0480662c65\n",
      "0.8:e8270631-ecc9-4fbc-a91e-96b996f2334f\n",
      "1.0:95fe1239-0fc1-4152-bb83-95f0685d7449\n",
      "cycle\n",
      "0.2:9c15dea9-ca70-4487-965d-08b936bb5c66\n",
      "0.4:cb8af364-c748-451c-9346-c14851043e04\n",
      "0.6:cdd45ce1-a955-46f6-9c6f-25b3410c77e2\n",
      "0.8:14a408ca-35a2-4698-a986-9056aad1d8a3\n",
      "1.0:bfff6ebe-d566-4bc3-a53d-d6dbc2ef000a\n"
     ]
    }
   ],
   "source": [
    "for i in range(10):\n",
    "    if i==0:\n",
    "        print(\"chain\")\n",
    "    if i==5:\n",
    "        print(\"cycle\")\n",
    "    b=a.split(\"}\")\n",
    "    print(f\"{((i)%5+1)/5}:\"+eval(b[i]+\"}\")[\"id\"])\n"
   ]
  }
 ],
 "metadata": {
  "kernelspec": {
   "display_name": "lpy",
   "language": "python",
   "name": "python3"
  },
  "language_info": {
   "codemirror_mode": {
    "name": "ipython",
    "version": 3
   },
   "file_extension": ".py",
   "mimetype": "text/x-python",
   "name": "python",
   "nbconvert_exporter": "python",
   "pygments_lexer": "ipython3",
   "version": "3.11.3"
  },
  "orig_nbformat": 4
 },
 "nbformat": 4,
 "nbformat_minor": 2
}
