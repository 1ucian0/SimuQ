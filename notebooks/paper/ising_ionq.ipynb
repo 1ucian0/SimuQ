{
 "cells": [
  {
   "cell_type": "code",
   "execution_count": 7,
   "metadata": {},
   "outputs": [
    {
     "name": "stdout",
     "output_type": "stream",
     "text": [
      "The autoreload extension is already loaded. To reload it, use:\n",
      "  %reload_ext autoreload\n"
     ]
    }
   ],
   "source": [
    "%load_ext autoreload\n",
    "%autoreload 2\n",
    "from simuq import QSystem\n",
    "from simuq import Qubit\n",
    "from simuq.braket import BraketProvider\n",
    "bp = BraketProvider()"
   ]
  },
  {
   "cell_type": "code",
   "execution_count": 11,
   "metadata": {},
   "outputs": [],
   "source": [
    "from simuq.qutip import QuTiPProvider\n",
    "\n",
    "qtpp = QuTiPProvider()\n",
    "\n",
    "\n",
    "def tv(P1, P2):\n",
    "    keys = set(P1.keys()).union(P2.keys())\n",
    "    s = 0\n",
    "    for k in keys:\n",
    "        if k not in P1.keys():\n",
    "            s += P2[k]\n",
    "        elif k not in P2.keys():\n",
    "            s += P1[k]\n",
    "        else:\n",
    "            s += abs(P1[k] - P2[k])\n",
    "    return s / 2"
   ]
  },
  {
   "cell_type": "code",
   "execution_count": 13,
   "metadata": {},
   "outputs": [
    {
     "name": "stdout",
     "output_type": "stream",
     "text": [
      "Submitted.\n",
      "Compiled.\n",
      "Solved.\n",
      "Distance to ideal state: 0.02273218481305408\n",
      "Submitted.\n",
      "Compiled.\n",
      "Solved.\n",
      "Distance to ideal state: 0.07156694499294528\n",
      "Submitted.\n",
      "Compiled.\n",
      "Solved.\n",
      "Distance to ideal state: 0.08289717248959154\n",
      "Submitted.\n",
      "Compiled.\n",
      "Solved.\n",
      "Distance to ideal state: 0.09254468740216361\n",
      "Submitted.\n",
      "Compiled.\n",
      "Solved.\n",
      "Distance to ideal state: 0.13434968143865\n"
     ]
    }
   ],
   "source": [
    "circ_list = []\n",
    "chain = True\n",
    "n = 6\n",
    "for T in [0.2, 0.4, 0.6, 0.8, 1]:\n",
    "    qs = QSystem()\n",
    "    qubits = [Qubit(qs) for i in range(n)]\n",
    "    H0 = 0\n",
    "    if chain:\n",
    "        for i in range(n - 1):\n",
    "            H0 += qubits[i].Z * qubits[(i + 1) % n].Z\n",
    "    else:\n",
    "        for i in range(n):\n",
    "            H0 += qubits[i].Z * qubits[(i + 1) % n].Z\n",
    "\n",
    "    for i in range(n):\n",
    "        H0 += -qubits[i].X\n",
    "\n",
    "    qs.add_evolution(H0, T)\n",
    "    bp.compile(qs, provider=\"ionq\", device=\"Harmony\", aais=\"heisenberg\", tol=1, trotter_num=4)\n",
    "    bp.run(shots=1024, on_simulator=True)\n",
    "    result = bp.results()\n",
    "    qtpp.compile(qs)\n",
    "    qtpp.run()\n",
    "    result_ideal = qtpp.results()\n",
    "    print(f\"Distance to ideal state: {tv(result,result_ideal)}\")"
   ]
  }
 ],
 "metadata": {
  "kernelspec": {
   "display_name": "lpy",
   "language": "python",
   "name": "python3"
  },
  "language_info": {
   "codemirror_mode": {
    "name": "ipython",
    "version": 3
   },
   "file_extension": ".py",
   "mimetype": "text/x-python",
   "name": "python",
   "nbconvert_exporter": "python",
   "pygments_lexer": "ipython3",
   "version": "3.11.5"
  },
  "orig_nbformat": 4
 },
 "nbformat": 4,
 "nbformat_minor": 2
}
