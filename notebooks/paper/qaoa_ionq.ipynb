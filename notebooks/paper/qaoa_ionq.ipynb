{
 "cells": [
  {
   "cell_type": "code",
   "execution_count": 1,
   "metadata": {},
   "outputs": [],
   "source": [
    "%load_ext autoreload\n",
    "%autoreload 2\n",
    "from simuq import QSystem\n",
    "from simuq import Qubit\n",
    "import numpy as np\n",
    "from simuq.braket import BraketProvider\n",
    "bp = BraketProvider()\n",
    "\n",
    "def GenQS(n=12, p=3):\n",
    "    qs = QSystem()\n",
    "    ql = [Qubit(qs) for i in range(n)]\n",
    "    link = [(i, (i + 1) % n) for i in range(n)]\n",
    "    if p==3:    \n",
    "        parameter_list = np.array(\n",
    "        [\n",
    "            0.5702193 * 2,\n",
    "            -0.58631086,\n",
    "            0.85160685 * 2,\n",
    "            -1.7058538,\n",
    "            0.29468536 * 2,\n",
    "            -1.132814,\n",
    "        ]\n",
    "    )/2\n",
    "    if p==2:\n",
    "        parameter_list = np.array([-3.8034,1.2438, -1.2467,-2.4899])/2\n",
    "    if p==1:\n",
    "        parameter_list = np.array([-0.7854,-2.3562])/2\n",
    "\n",
    "    for i in range(p):\n",
    "       \n",
    "        h = 0\n",
    "        for q0, q1 in link:\n",
    "            h += parameter_list[2 * i] * ql[q0].X * ql[q1].X\n",
    "        qs.add_evolution(h, 1)\n",
    "        h = 0\n",
    "        for q0 in range(n):\n",
    "            h += parameter_list[2 * i+1] * ql[q0].Z\n",
    "        qs.add_evolution(h, 1)\n",
    "    return qs\n",
    "\n",
    "def calc_cut(count):\n",
    "    cut=0\n",
    "    n_shots=sum(count.values())\n",
    "    for key in count:\n",
    "        cut+=count[key]*calc_weight(key)/n_shots\n",
    "    return cut\n",
    "def calc_weight(key):\n",
    "    cut=0\n",
    "    for i in range(len(key)):\n",
    "        if key[i]!= key[(i+1)%len(key)]:\n",
    "            cut+=1\n",
    "    return cut"
   ]
  },
  {
   "cell_type": "code",
   "execution_count": 7,
   "metadata": {},
   "outputs": [
    {
     "name": "stdout",
     "output_type": "stream",
     "text": [
      "Submitted.\n",
      "Submitted.\n",
      "Submitted.\n"
     ]
    }
   ],
   "source": [
    "for p in [1,2,3]:\n",
    "    qs=GenQS(12,1)    \n",
    "    bp.compile(qs,provider=\"ionq\", device=\"Aria-1\", aais=\"heisenberg\", tol=1, trotter_num=4)\n",
    "    bp.run(shots=1024,on_simulator=True)\n",
    "    bp.results() "
   ]
  }
 ],
 "metadata": {
  "kernelspec": {
   "display_name": "lpy",
   "language": "python",
   "name": "python3"
  },
  "language_info": {
   "codemirror_mode": {
    "name": "ipython",
    "version": 3
   },
   "file_extension": ".py",
   "mimetype": "text/x-python",
   "name": "python",
   "nbconvert_exporter": "python",
   "pygments_lexer": "ipython3",
   "version": "3.11.5"
  },
  "orig_nbformat": 4
 },
 "nbformat": 4,
 "nbformat_minor": 2
}
