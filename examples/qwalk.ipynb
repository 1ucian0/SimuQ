{
 "cells": [
  {
   "cell_type": "code",
   "execution_count": 1,
   "id": "42e26405",
   "metadata": {},
   "outputs": [],
   "source": [
    "%load_ext autoreload\n",
    "%autoreload 2\n",
    "import sys\n",
    "sys.path.append('..')"
   ]
  },
  {
   "cell_type": "code",
   "execution_count": 2,
   "id": "a7feecc8",
   "metadata": {},
   "outputs": [],
   "source": [
    "from simuq.solver import generate_as\n",
    "from systems.qwalk_chain import GenQS\n",
    "#from aais.rydberg1d import GenMach\n",
    "#from backends.bloqade_rydberg import transpile\n",
    "from aais.heis_aais import GenMach\n",
    "from backends.qiskit_iontrap import transpile"
   ]
  },
  {
   "cell_type": "code",
   "execution_count": 3,
   "id": "5cd17f14",
   "metadata": {},
   "outputs": [],
   "source": [
    "N = 5\n",
    "n = N - 1\n",
    "qs = GenQS(N, lamb = 5, T=1)\n",
    "mach = GenMach(n)"
   ]
  },
  {
   "cell_type": "code",
   "execution_count": 4,
   "id": "ceeeebcc",
   "metadata": {},
   "outputs": [
    {
     "name": "stdout",
     "output_type": "stream",
     "text": [
      "First round time:  0.08074069023132324\n",
      "Second round time:  0.009187698364257812\n",
      "0.4184989929199219\n",
      "(<qiskit.circuit.quantumcircuit.QuantumCircuit object at 0x7f961593ad90>, 'from braket.circuits import Circuit\\ncirc = Circuit().zz(0, 1, 10.0).zz(2, 3, 10.0).rx(0, 2.0).rx(3, 2.0).zz(1, 2, 10.0).rz(0, 10.0).rx(1, 2.0).rx(2, 2.0).rz(3, 10.0)')\n"
     ]
    }
   ],
   "source": [
    "Trot = 1\n",
    "tol = 0.5\n",
    "\n",
    "import time\n",
    "start_time = time.time()\n",
    "code = transpile(*generate_as(qs, mach, Trot, solver = 'least_squares', solver_tol = tol))\n",
    "end_time = time.time()\n",
    "\n",
    "print(end_time - start_time)\n",
    "print(code)"
   ]
  },
  {
   "cell_type": "code",
   "execution_count": 5,
   "id": "6ff71ee8",
   "metadata": {},
   "outputs": [
    {
     "name": "stdout",
     "output_type": "stream",
     "text": [
      "First round time:  1.0136401653289795\n",
      "Second round time:  0.10903143882751465\n",
      "1.1373927593231201\n",
      "(<qiskit.circuit.quantumcircuit.QuantumCircuit object at 0x7f95d023f640>, 'from braket.circuits import Circuit\\ncirc = Circuit().zz(0, 1, 9.999999353240055).zz(2, 3, 9.999999394214608).rx(0, 1.9999997394114868).rx(3, 1.9999997393847164).zz(1, 2, 9.999999361494492).rz(0, 9.999999394642908).rx(1, 1.9999998090449969).rx(2, 1.9999997399041622).rz(3, 9.999999394366553)')\n"
     ]
    }
   ],
   "source": [
    "Trot = 1\n",
    "tol = 0.5\n",
    "\n",
    "import time\n",
    "start_time = time.time()\n",
    "code = transpile(*generate_as(qs, mach, Trot, solver = 'old_least_squares', solver_tol = tol))\n",
    "end_time = time.time()\n",
    "\n",
    "print(end_time - start_time)\n",
    "print(code)"
   ]
  },
  {
   "cell_type": "code",
   "execution_count": 6,
   "id": "08a60051",
   "metadata": {},
   "outputs": [
    {
     "name": "stdout",
     "output_type": "stream",
     "text": [
      "0.0980825424194336\n",
      "(<qiskit.circuit.quantumcircuit.QuantumCircuit object at 0x7f95d01e6970>, 'from braket.circuits import Circuit\\ncirc = Circuit().zz(0, 1, 10.0).zz(2, 3, 10.0).rz(0, -3.141592653589793).rx(0, -2.0000000000000018).rz(0, 3.141592653589793).rx(3, 2.0000000000000018).zz(1, 2, 10.0).rz(0, 10.0).rx(1, 2.0000000000000018).rx(2, 2.0000000000000018).rz(3, 10.0)')\n"
     ]
    }
   ],
   "source": [
    "Trot = 1\n",
    "tol = 0.5\n",
    "\n",
    "import time\n",
    "start_time = time.time()\n",
    "code = transpile(*generate_as(qs, mach, Trot, solver = 'dreal', solver_tol = tol))\n",
    "end_time = time.time()\n",
    "\n",
    "print(end_time - start_time)\n",
    "print(code)"
   ]
  },
  {
   "cell_type": "code",
   "execution_count": null,
   "id": "82a0a418",
   "metadata": {},
   "outputs": [],
   "source": []
  }
 ],
 "metadata": {
  "kernelspec": {
   "display_name": "Python 3 (ipykernel)",
   "language": "python",
   "name": "python3"
  },
  "language_info": {
   "codemirror_mode": {
    "name": "ipython",
    "version": 3
   },
   "file_extension": ".py",
   "mimetype": "text/x-python",
   "name": "python",
   "nbconvert_exporter": "python",
   "pygments_lexer": "ipython3",
   "version": "3.9.15"
  }
 },
 "nbformat": 4,
 "nbformat_minor": 5
}
