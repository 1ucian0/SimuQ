{
 "cells": [
  {
   "cell_type": "code",
   "execution_count": 1,
   "id": "24a177e2",
   "metadata": {},
   "outputs": [],
   "source": [
    "%load_ext autoreload\n",
    "%autoreload 1\n",
    "import sys\n",
    "sys.path.append('..')"
   ]
  },
  {
   "cell_type": "code",
   "execution_count": 2,
   "id": "2f3bac74",
   "metadata": {},
   "outputs": [],
   "source": [
    "from simuq.solver import generate_as\n",
    "from systems.mzmbraiding import qs\n",
    "from aais.heis_aais import GenMach\n",
    "from backends.qiskit_iontrap import transpile"
   ]
  },
  {
   "cell_type": "code",
   "execution_count": 3,
   "id": "b7907a03",
   "metadata": {},
   "outputs": [],
   "source": [
    "from simuq.transformation import JW_transform\n",
    "new_qs, new_sites = JW_transform(qs)"
   ]
  },
  {
   "cell_type": "code",
   "execution_count": 4,
   "id": "f215fb15",
   "metadata": {},
   "outputs": [
    {
     "data": {
      "text/plain": [
       "[(['aa', '', ''], (3+0j)),\n",
       " (['', '', ''], (-9+0j)),\n",
       " (['ca', '', ''], (6+0j)),\n",
       " (['cc', '', ''], (-3+0j)),\n",
       " (['', 'aa', ''], (3+0j)),\n",
       " (['', 'ca', ''], (6+0j)),\n",
       " (['', 'cc', ''], (-3+0j)),\n",
       " (['', '', 'aa'], (3+0j)),\n",
       " (['', '', 'ca'], (6+0j)),\n",
       " (['', '', 'cc'], (-3+0j)),\n",
       " (['a', 'a', ''], 1j),\n",
       " (['a', 'c', ''], 1j),\n",
       " (['c', 'a', ''], 1j),\n",
       " (['c', 'c', ''], 1j),\n",
       " (['a', '', 'a'], -1j),\n",
       " (['a', '', 'c'], -1j),\n",
       " (['c', '', 'a'], -1j),\n",
       " (['c', '', 'c'], -1j),\n",
       " (['', 'a', 'a'], 1j),\n",
       " (['', 'a', 'c'], 1j),\n",
       " (['', 'c', 'a'], 1j),\n",
       " (['', 'c', 'c'], 1j)]"
      ]
     },
     "execution_count": 4,
     "metadata": {},
     "output_type": "execute_result"
    }
   ],
   "source": [
    "qs.evos[0][0].ham"
   ]
  },
  {
   "cell_type": "code",
   "execution_count": 5,
   "id": "ccc95667",
   "metadata": {},
   "outputs": [
    {
     "data": {
      "text/plain": [
       "[(['', '', ''], (9+0j)),\n",
       " (['Z', '', ''], (-3+0j)),\n",
       " (['', 'Z', ''], (-3+0j)),\n",
       " (['', '', 'Z'], (-3+0j)),\n",
       " (['Y', 'X', ''], (1-0j)),\n",
       " (['Y', 'Z', 'X'], (-1+0j)),\n",
       " (['', 'Y', 'X'], (1-0j))]"
      ]
     },
     "execution_count": 5,
     "metadata": {},
     "output_type": "execute_result"
    }
   ],
   "source": [
    "new_qs.evos[0][0].ham"
   ]
  },
  {
   "cell_type": "code",
   "execution_count": null,
   "id": "13ecd902",
   "metadata": {},
   "outputs": [],
   "source": []
  }
 ],
 "metadata": {
  "kernelspec": {
   "display_name": "Python 3 (ipykernel)",
   "language": "python",
   "name": "python3"
  },
  "language_info": {
   "codemirror_mode": {
    "name": "ipython",
    "version": 3
   },
   "file_extension": ".py",
   "mimetype": "text/x-python",
   "name": "python",
   "nbconvert_exporter": "python",
   "pygments_lexer": "ipython3",
   "version": "3.9.15"
  }
 },
 "nbformat": 4,
 "nbformat_minor": 5
}
