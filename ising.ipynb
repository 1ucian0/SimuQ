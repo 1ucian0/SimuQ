{
 "cells": [
  {
   "cell_type": "code",
   "execution_count": 1,
   "metadata": {},
   "outputs": [],
   "source": [
    "import numpy as np\n",
    "from simuq.qsystem import QSystem\n",
    "from simuq.environment import qubit\n",
    "from simuq.hamiltonian import Empty\n",
    "from scipy.constants import h\n",
    "\n",
    "n = 3\n",
    "m = 3\n",
    "T = 1\n",
    "tmp = np.random.uniform(0,1,(n,n))\n",
    "J = (tmp + tmp.T) / 2\n",
    "qs = QSystem()\n",
    "qubits = [qubit(qs) for i in range(n)]\n",
    "H0 = 0\n",
    "H1 = 0\n",
    "for i in range(n):\n",
    "    for j in range(n):\n",
    "        H0 += -J[i][j] * qubits[i].Z * qubits[j].Z\n",
    "\n",
    "for i in range(n):\n",
    "    H0 += - h * qubits[i].Z\n",
    "    H1 += qubits[i].X\n",
    "\n",
    "def ising_model(H0, H1, Tau, T):\n",
    "    def f(t):\n",
    "        return H0 - Tau(t/T)*H1\n",
    "    return f\n",
    "\n",
    "qs.add_time_dependent_evolution(ising_model(H0, H1, lambda t: 1-t**2, T), np.linspace(0, T, m))"
   ]
  }
 ],
 "metadata": {
  "kernelspec": {
   "display_name": "Python 3.8.6 64-bit",
   "language": "python",
   "name": "python3"
  },
  "language_info": {
   "codemirror_mode": {
    "name": "ipython",
    "version": 3
   },
   "file_extension": ".py",
   "mimetype": "text/x-python",
   "name": "python",
   "nbconvert_exporter": "python",
   "pygments_lexer": "ipython3",
   "version": "3.8.6"
  },
  "orig_nbformat": 4,
  "vscode": {
   "interpreter": {
    "hash": "b337b16e1f284c9fe7de692799556d56c1809887abe3f5a49ffeb9e7df151cfb"
   }
  }
 },
 "nbformat": 4,
 "nbformat_minor": 2
}
